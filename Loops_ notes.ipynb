{
 "cells": [
  {
   "cell_type": "markdown",
   "id": "1365af50",
   "metadata": {},
   "source": [
    "### for loops"
   ]
  },
  {
   "cell_type": "code",
   "execution_count": 1,
   "id": "80d36683",
   "metadata": {},
   "outputs": [],
   "source": [
    "## for works on iterable . like lists , strings and etc"
   ]
  },
  {
   "cell_type": "code",
   "execution_count": 2,
   "id": "50f94229",
   "metadata": {},
   "outputs": [],
   "source": [
    "my_list = [1,2,3,4,5,'a']"
   ]
  },
  {
   "cell_type": "code",
   "execution_count": 3,
   "id": "b645d646",
   "metadata": {},
   "outputs": [
    {
     "name": "stdout",
     "output_type": "stream",
     "text": [
      "1\n",
      "2\n",
      "3\n",
      "4\n",
      "5\n",
      "a\n"
     ]
    }
   ],
   "source": [
    "for this_item in my_list:\n",
    "    print(this_item)"
   ]
  },
  {
   "cell_type": "code",
   "execution_count": 4,
   "id": "2bff3de1",
   "metadata": {},
   "outputs": [],
   "source": [
    "## for ye_variable in ye_iterable :"
   ]
  },
  {
   "cell_type": "code",
   "execution_count": 8,
   "id": "dc50a525",
   "metadata": {},
   "outputs": [
    {
     "name": "stdout",
     "output_type": "stream",
     "text": [
      "1\n",
      " *2 = 2\n",
      "2\n",
      " *2 = 4\n",
      "3\n",
      " *2 = 6\n",
      "4\n",
      " *2 = 8\n",
      "5\n",
      " *2 = 10\n",
      "a\n",
      " *2 = aa\n"
     ]
    }
   ],
   "source": [
    "for this_item in my_list:\n",
    "    print(this_item)\n",
    "    print(f\" *2 = {this_item*2}\")"
   ]
  },
  {
   "cell_type": "code",
   "execution_count": 9,
   "id": "06a44568",
   "metadata": {},
   "outputs": [],
   "source": [
    "my_list = [12, 14, 15, 20, 8]"
   ]
  },
  {
   "cell_type": "code",
   "execution_count": 13,
   "id": "4be63fa3",
   "metadata": {},
   "outputs": [
    {
     "name": "stdout",
     "output_type": "stream",
     "text": [
      "12\n",
      "14\n",
      "15 is fard\n",
      "20\n",
      "8\n",
      "we have 4 even numbers\n"
     ]
    }
   ],
   "source": [
    "count = 0\n",
    "for a in my_list:\n",
    "    if a%2==0:\n",
    "        print(a)\n",
    "        count+=1\n",
    "    else:\n",
    "        print(f\"{a} is fard\")\n",
    "print(f\"we have {count} even numbers\")"
   ]
  },
  {
   "cell_type": "code",
   "execution_count": 14,
   "id": "d1909d0a",
   "metadata": {},
   "outputs": [
    {
     "name": "stdout",
     "output_type": "stream",
     "text": [
      "another number\n",
      "another number\n",
      "another number\n",
      "another number\n",
      "another number\n"
     ]
    }
   ],
   "source": [
    "my_list = [12, 14, 15, 20, 8]\n",
    "for a in my_list:\n",
    "    print(\"another number\")"
   ]
  },
  {
   "cell_type": "code",
   "execution_count": 15,
   "id": "6ceb8b6d",
   "metadata": {},
   "outputs": [
    {
     "name": "stdout",
     "output_type": "stream",
     "text": [
      "another number\n",
      "another number\n",
      "another number\n",
      "another number\n",
      "another number\n"
     ]
    }
   ],
   "source": [
    "## or :\n",
    "my_list = [12, 14, 15, 20, 8]\n",
    "for _ in my_list: ## chon ba motaghayere kari nadarim\n",
    "    print(\"another number\")"
   ]
  },
  {
   "cell_type": "code",
   "execution_count": 16,
   "id": "6de909b4",
   "metadata": {},
   "outputs": [
    {
     "name": "stdout",
     "output_type": "stream",
     "text": [
      "t\n",
      "h\n",
      "i\n",
      "s\n",
      " \n",
      "i\n",
      "s\n",
      " \n",
      "t\n",
      "e\n",
      "s\n",
      "t\n"
     ]
    }
   ],
   "source": [
    "for c in \"this is test\":\n",
    "    print(c)"
   ]
  },
  {
   "cell_type": "code",
   "execution_count": 18,
   "id": "e21ae087",
   "metadata": {},
   "outputs": [
    {
     "name": "stdout",
     "output_type": "stream",
     "text": [
      "2\n",
      "8\n",
      "ali\n",
      "8.1\n"
     ]
    }
   ],
   "source": [
    "my_tuple=(2,8,'ali',8.1)\n",
    "for yechi in my_tuple:\n",
    "    print(yechi)"
   ]
  },
  {
   "cell_type": "code",
   "execution_count": 22,
   "id": "97f8f755",
   "metadata": {},
   "outputs": [
    {
     "name": "stdout",
     "output_type": "stream",
     "text": [
      "mahdi is 28 years old\n",
      "sina is 12 years old\n",
      "sahar is 26 years old\n",
      "------\n",
      "mahdi is 28 years old\n",
      "sina is 12 years old\n",
      "sahar is 26 years old\n"
     ]
    }
   ],
   "source": [
    "people = ((\"mahdi\",28),(\"sina\" , 12),(\"sahar\",26))\n",
    "## tuple unpacking\n",
    "for person in people:\n",
    "    name , sen = person\n",
    "    print(f\"{name} is {sen} years old\")\n",
    "print(\"------\")\n",
    "# another way\n",
    "for name , sen in people:\n",
    "    print(f\"{name} is {sen} years old\")"
   ]
  },
  {
   "cell_type": "code",
   "execution_count": 24,
   "id": "c569da1a",
   "metadata": {},
   "outputs": [
    {
     "name": "stdout",
     "output_type": "stream",
     "text": [
      "mahdi\n",
      "sina\n",
      "sahar\n"
     ]
    }
   ],
   "source": [
    "## \n",
    "people ={\n",
    "    \"mahdi\":(28,180),\n",
    "    \"sina\":(12,120),\n",
    "    \"sahar\":(26,170)\n",
    "}\n",
    "\n",
    "for person in people:\n",
    "    print(person) ## key haro bar migardone"
   ]
  },
  {
   "cell_type": "code",
   "execution_count": 25,
   "id": "63022c08",
   "metadata": {},
   "outputs": [
    {
     "name": "stdout",
     "output_type": "stream",
     "text": [
      "mahdi (28, 180)\n",
      "sina (12, 120)\n",
      "sahar (26, 170)\n"
     ]
    }
   ],
   "source": [
    "## \n",
    "people ={\n",
    "    \"mahdi\":(28,180),\n",
    "    \"sina\":(12,120),\n",
    "    \"sahar\":(26,170)\n",
    "}\n",
    "\n",
    "for person in people:\n",
    "    print(person, people[person])"
   ]
  },
  {
   "cell_type": "code",
   "execution_count": 26,
   "id": "cc3d9e3b",
   "metadata": {},
   "outputs": [
    {
     "name": "stdout",
     "output_type": "stream",
     "text": [
      "mahdi 28\n",
      "sina 12\n",
      "sahar 26\n"
     ]
    }
   ],
   "source": [
    "people ={\n",
    "    \"mahdi\":(28,180),\n",
    "    \"sina\":(12,120),\n",
    "    \"sahar\":(26,170)\n",
    "}\n",
    "\n",
    "for person in people:\n",
    "    print(person, people[person][0])"
   ]
  },
  {
   "cell_type": "code",
   "execution_count": 27,
   "id": "6a46d9df",
   "metadata": {},
   "outputs": [
    {
     "name": "stdout",
     "output_type": "stream",
     "text": [
      "('mahdi', (28, 180))\n",
      "('sina', (12, 120))\n",
      "('sahar', (26, 170))\n"
     ]
    }
   ],
   "source": [
    "for person in people.items():\n",
    "    print(person)"
   ]
  },
  {
   "cell_type": "code",
   "execution_count": 28,
   "id": "0b0b5268",
   "metadata": {},
   "outputs": [
    {
     "name": "stdout",
     "output_type": "stream",
     "text": [
      "mahdi (28, 180)\n",
      "sina (12, 120)\n",
      "sahar (26, 170)\n"
     ]
    }
   ],
   "source": [
    "for person,data in people.items(): ## people.keys() halate normaleshe\n",
    "    print(person , data)"
   ]
  },
  {
   "cell_type": "code",
   "execution_count": 29,
   "id": "cf998e1b",
   "metadata": {},
   "outputs": [
    {
     "name": "stdout",
     "output_type": "stream",
     "text": [
      "(28, 180)\n",
      "(12, 120)\n",
      "(26, 170)\n"
     ]
    }
   ],
   "source": [
    "for person in people.values():\n",
    "    print(person)"
   ]
  },
  {
   "cell_type": "code",
   "execution_count": 32,
   "id": "4e57566b",
   "metadata": {},
   "outputs": [
    {
     "name": "stdout",
     "output_type": "stream",
     "text": [
      "2\n",
      "4\n",
      "6\n"
     ]
    }
   ],
   "source": [
    "for i in range(1, 4):\n",
    "    print(i * 2)"
   ]
  },
  {
   "cell_type": "code",
   "execution_count": 33,
   "id": "da441e67",
   "metadata": {},
   "outputs": [
    {
     "name": "stdout",
     "output_type": "stream",
     "text": [
      "Pia\n"
     ]
    }
   ],
   "source": [
    "words = [\"Python\", \"is\", \"awesome\"]\n",
    "result = \"\"\n",
    "\n",
    "for word in words:\n",
    "    result += word[0]\n",
    "\n",
    "print(result)"
   ]
  },
  {
   "cell_type": "code",
   "execution_count": 34,
   "id": "11eaaff4",
   "metadata": {},
   "outputs": [],
   "source": [
    "## exercise"
   ]
  },
  {
   "cell_type": "code",
   "execution_count": 51,
   "id": "a4ebeb36",
   "metadata": {},
   "outputs": [
    {
     "name": "stdout",
     "output_type": "stream",
     "text": [
      "please enter  number of iteration : 5\n"
     ]
    }
   ],
   "source": [
    "n = int(input('please enter  number of iteration : '))"
   ]
  },
  {
   "cell_type": "code",
   "execution_count": 52,
   "id": "c341f581",
   "metadata": {},
   "outputs": [
    {
     "name": "stdout",
     "output_type": "stream",
     "text": [
      "please enter your x : 10\n"
     ]
    }
   ],
   "source": [
    "x = int(input('please enter your x : '))"
   ]
  },
  {
   "cell_type": "code",
   "execution_count": 54,
   "id": "a4d44b63",
   "metadata": {},
   "outputs": [
    {
     "name": "stdout",
     "output_type": "stream",
     "text": [
      "65.0\n"
     ]
    }
   ],
   "source": [
    "for num in range(1,n+1):\n",
    "    if x % 2 == 0:\n",
    "        x = x / 2\n",
    "    else:\n",
    "        x = (x * 2) - 1\n",
    "print(x)"
   ]
  },
  {
   "cell_type": "markdown",
   "id": "6c0310ae",
   "metadata": {},
   "source": [
    "### While loops"
   ]
  },
  {
   "cell_type": "markdown",
   "id": "6157dab0",
   "metadata": {},
   "source": [
    " #### while condition :"
   ]
  },
  {
   "cell_type": "code",
   "execution_count": 56,
   "id": "cad1a338",
   "metadata": {},
   "outputs": [
    {
     "name": "stdout",
     "output_type": "stream",
     "text": [
      "a is 0\n",
      "a is 1\n",
      "a is 2\n",
      "a is 3\n",
      "a is 4\n",
      "a is 5\n"
     ]
    }
   ],
   "source": [
    "a=0\n",
    "while a<=5:\n",
    "    print(f\"a is {a}\")\n",
    "    a+=1"
   ]
  },
  {
   "cell_type": "code",
   "execution_count": 57,
   "id": "213d1bee",
   "metadata": {},
   "outputs": [],
   "source": [
    "## exercise"
   ]
  },
  {
   "cell_type": "code",
   "execution_count": 67,
   "id": "186bfffe",
   "metadata": {},
   "outputs": [
    {
     "name": "stdout",
     "output_type": "stream",
     "text": [
      "please enter your number : 5\n"
     ]
    }
   ],
   "source": [
    "n = int (input(\"please enter your number : \"))"
   ]
  },
  {
   "cell_type": "code",
   "execution_count": 68,
   "id": "134dcc5c",
   "metadata": {
    "scrolled": false
   },
   "outputs": [
    {
     "name": "stdout",
     "output_type": "stream",
     "text": [
      "16\n",
      "8.0\n",
      "4.0\n",
      "2.0\n",
      "1.0\n"
     ]
    }
   ],
   "source": [
    "while n!=1:\n",
    "    if n % 2 == 0:\n",
    "        n = n /2 \n",
    "    else :\n",
    "        n = (n * 3)+1\n",
    "    print(n)"
   ]
  },
  {
   "cell_type": "markdown",
   "id": "990ebfc1",
   "metadata": {},
   "source": [
    "### Pass / Break / continue "
   ]
  },
  {
   "cell_type": "code",
   "execution_count": 69,
   "id": "b026cf79",
   "metadata": {},
   "outputs": [],
   "source": [
    "## pass do nothing"
   ]
  },
  {
   "cell_type": "code",
   "execution_count": 70,
   "id": "fc94118b",
   "metadata": {},
   "outputs": [
    {
     "ename": "IndentationError",
     "evalue": "expected an indented block (1239700563.py, line 2)",
     "output_type": "error",
     "traceback": [
      "\u001b[0;36m  File \u001b[0;32m\"/var/folders/r9/sv2l0znj5xbg1cbcvnh09h4c0000gn/T/ipykernel_66575/1239700563.py\"\u001b[0;36m, line \u001b[0;32m2\u001b[0m\n\u001b[0;31m    #\u001b[0m\n\u001b[0m      ^\u001b[0m\n\u001b[0;31mIndentationError\u001b[0m\u001b[0;31m:\u001b[0m expected an indented block\n"
     ]
    }
   ],
   "source": [
    "for a in [1,2,3]:\n",
    "    # "
   ]
  },
  {
   "cell_type": "code",
   "execution_count": 71,
   "id": "abc25ed4",
   "metadata": {},
   "outputs": [],
   "source": [
    "for a in [1,2,3]:\n",
    "    pass"
   ]
  },
  {
   "cell_type": "code",
   "execution_count": 73,
   "id": "31e3cbc8",
   "metadata": {},
   "outputs": [
    {
     "name": "stdout",
     "output_type": "stream",
     "text": [
      "starting\n",
      "1\n",
      "2\n",
      "Ending\n"
     ]
    }
   ],
   "source": [
    "print(\"starting\")\n",
    "for a in [1,2,3,4,5,6]:\n",
    "    if a ==3:\n",
    "        break\n",
    "    print(a)\n",
    "print(\"Ending\")\n",
    "\n"
   ]
  },
  {
   "cell_type": "code",
   "execution_count": 75,
   "id": "d5eb2cb1",
   "metadata": {},
   "outputs": [
    {
     "name": "stdout",
     "output_type": "stream",
     "text": [
      "loop starting\n",
      "1\n",
      "loop Ending\n",
      "loop starting\n",
      "2\n",
      "loop Ending\n",
      "loop starting\n",
      "loop starting\n",
      "4\n",
      "loop Ending\n",
      "loop starting\n",
      "5\n",
      "loop Ending\n",
      "loop starting\n",
      "6\n",
      "loop Ending\n"
     ]
    }
   ],
   "source": [
    "for a in [1,2,3,4,5,6]:\n",
    "    print(\"loop starting\")\n",
    "    if a ==3:\n",
    "        continue\n",
    "    print(a)\n",
    "    print(\"loop Ending\")"
   ]
  },
  {
   "cell_type": "code",
   "execution_count": 76,
   "id": "6da6ec5b",
   "metadata": {},
   "outputs": [],
   "source": [
    "## hop example : bakhsh pazir bar 3 hop bar 5 hip bar hardo hip hop"
   ]
  },
  {
   "cell_type": "code",
   "execution_count": 78,
   "id": "e9da71bf",
   "metadata": {},
   "outputs": [
    {
     "name": "stdout",
     "output_type": "stream",
     "text": [
      "1\n",
      "2\n",
      "hop\n",
      "4\n",
      "hip\n",
      "hop\n",
      "7\n",
      "8\n",
      "hop\n",
      "hip\n",
      "11\n",
      "hop\n",
      "13\n",
      "14\n",
      "hiphop\n",
      "16\n",
      "17\n",
      "hop\n",
      "19\n",
      "hip\n",
      "hop\n"
     ]
    }
   ],
   "source": [
    "n=0\n",
    "while n<=20:\n",
    "    n+=1\n",
    "    if n % 3 == 0 and n % 5 == 0:\n",
    "        print(\"hiphop\")\n",
    "        continue\n",
    "    if n % 3 == 0 :\n",
    "        print(\"hop\")\n",
    "        continue\n",
    "    if n % 5 == 0:\n",
    "        print(\"hip\")\n",
    "        continue\n",
    "    print(n)"
   ]
  },
  {
   "cell_type": "markdown",
   "id": "1b8da458",
   "metadata": {},
   "source": [
    "### list comprehension"
   ]
  },
  {
   "cell_type": "code",
   "execution_count": 88,
   "id": "576430b2",
   "metadata": {},
   "outputs": [],
   "source": [
    "l = [0,0.45,9,-1 , 10]"
   ]
  },
  {
   "cell_type": "code",
   "execution_count": 80,
   "id": "84397cce",
   "metadata": {},
   "outputs": [],
   "source": [
    "new_l = []"
   ]
  },
  {
   "cell_type": "code",
   "execution_count": 81,
   "id": "e586a778",
   "metadata": {},
   "outputs": [
    {
     "name": "stdout",
     "output_type": "stream",
     "text": [
      "[0, 0.9, 18, -2]\n"
     ]
    }
   ],
   "source": [
    "for n in l:\n",
    "    new_l.append(n*2)\n",
    "print(new_l)"
   ]
  },
  {
   "cell_type": "code",
   "execution_count": 82,
   "id": "ceb77c40",
   "metadata": {},
   "outputs": [],
   "source": [
    "new_l2 = [x * 2 for x in l]"
   ]
  },
  {
   "cell_type": "code",
   "execution_count": 83,
   "id": "fcf0df1a",
   "metadata": {},
   "outputs": [
    {
     "data": {
      "text/plain": [
       "[0, 0.9, 18, -2]"
      ]
     },
     "execution_count": 83,
     "metadata": {},
     "output_type": "execute_result"
    }
   ],
   "source": [
    "new_l2"
   ]
  },
  {
   "cell_type": "code",
   "execution_count": 84,
   "id": "1715748a",
   "metadata": {},
   "outputs": [],
   "source": [
    "## list = [kari ke mikaim bokonim for var in list]"
   ]
  },
  {
   "cell_type": "code",
   "execution_count": 85,
   "id": "14380d50",
   "metadata": {},
   "outputs": [
    {
     "name": "stdout",
     "output_type": "stream",
     "text": [
      "Fard\n"
     ]
    }
   ],
   "source": [
    "## bi rabt\n",
    "a = 5\n",
    "res = \"Fard\" if a % 2 != 0 else \"Zoj\"\n",
    "print(res)"
   ]
  },
  {
   "cell_type": "code",
   "execution_count": 89,
   "id": "6e4cd6ce",
   "metadata": {},
   "outputs": [],
   "source": [
    "new_l2 = [n for n in l if n % 2 ==0]"
   ]
  },
  {
   "cell_type": "code",
   "execution_count": 90,
   "id": "2ee8bd08",
   "metadata": {},
   "outputs": [
    {
     "data": {
      "text/plain": [
       "[0, 10]"
      ]
     },
     "execution_count": 90,
     "metadata": {},
     "output_type": "execute_result"
    }
   ],
   "source": [
    "new_l2"
   ]
  },
  {
   "cell_type": "code",
   "execution_count": 91,
   "id": "8c351e5f",
   "metadata": {},
   "outputs": [],
   "source": [
    "new_l2 = [\"zoj\" if n%2==0 else \"Fard\"  for n in l]"
   ]
  },
  {
   "cell_type": "code",
   "execution_count": 92,
   "id": "559d310b",
   "metadata": {},
   "outputs": [
    {
     "data": {
      "text/plain": [
       "['zoj', 'Fard', 'Fard', 'Fard', 'zoj']"
      ]
     },
     "execution_count": 92,
     "metadata": {},
     "output_type": "execute_result"
    }
   ],
   "source": [
    "new_l2"
   ]
  },
  {
   "cell_type": "markdown",
   "id": "7ba309f3",
   "metadata": {},
   "source": [
    "#### Some more operators"
   ]
  },
  {
   "cell_type": "code",
   "execution_count": 93,
   "id": "aa4fe604",
   "metadata": {},
   "outputs": [],
   "source": [
    "## range"
   ]
  },
  {
   "cell_type": "code",
   "execution_count": 94,
   "id": "ed433b53",
   "metadata": {},
   "outputs": [
    {
     "name": "stdout",
     "output_type": "stream",
     "text": [
      "0\n",
      "1\n",
      "2\n",
      "3\n",
      "4\n",
      "5\n",
      "6\n",
      "7\n",
      "8\n",
      "9\n"
     ]
    }
   ],
   "source": [
    "for i in range(10):\n",
    "    print(i)"
   ]
  },
  {
   "cell_type": "code",
   "execution_count": 96,
   "id": "a81c8b8a",
   "metadata": {},
   "outputs": [
    {
     "name": "stdout",
     "output_type": "stream",
     "text": [
      "1\n",
      "2\n",
      "3\n",
      "4\n",
      "5\n",
      "6\n",
      "7\n",
      "8\n",
      "9\n"
     ]
    }
   ],
   "source": [
    "for i in range(1,10):\n",
    "    print(i)"
   ]
  },
  {
   "cell_type": "code",
   "execution_count": 97,
   "id": "b645adc4",
   "metadata": {},
   "outputs": [
    {
     "name": "stdout",
     "output_type": "stream",
     "text": [
      "1\n",
      "3\n",
      "5\n",
      "7\n",
      "9\n"
     ]
    }
   ],
   "source": [
    "for i in range(1,10,2):\n",
    "    print(i)"
   ]
  },
  {
   "cell_type": "code",
   "execution_count": 99,
   "id": "19702439",
   "metadata": {},
   "outputs": [
    {
     "name": "stdout",
     "output_type": "stream",
     "text": [
      "0 0 0 ****** \n",
      "0 1 0 ****** \n",
      "0 2 0 ****** \n",
      "0 3 0 ****** \n",
      "0 4 0 ****** \n",
      "0 5 0 ****** \n",
      "1 0 0 ****** \n",
      "1 1 1 ****** \n",
      "1 2 2 ****** \n",
      "1 3 3 ****** \n",
      "1 4 4 ****** \n",
      "1 5 5 ****** \n",
      "2 0 0 ****** \n",
      "2 1 2 ****** \n",
      "2 2 4 ****** \n",
      "2 3 6 ****** \n",
      "2 4 8 ****** \n",
      "2 5 10 ****** \n",
      "3 0 0 ****** \n",
      "3 1 3 ****** \n",
      "3 2 6 ****** \n",
      "3 3 9 ****** \n",
      "3 4 12 ****** \n",
      "3 5 15 ****** \n",
      "4 0 0 ****** \n",
      "4 1 4 ****** \n",
      "4 2 8 ****** \n",
      "4 3 12 ****** \n",
      "4 4 16 ****** \n",
      "4 5 20 ****** \n",
      "5 0 0 ****** \n",
      "5 1 5 ****** \n",
      "5 2 10 ****** \n",
      "5 3 15 ****** \n",
      "5 4 20 ****** \n",
      "5 5 25 ****** \n"
     ]
    }
   ],
   "source": [
    "for i in range(6):\n",
    "    for j in range(6):\n",
    "        print(i , j , i*j , end=\" ****** \\n\")"
   ]
  },
  {
   "cell_type": "code",
   "execution_count": 100,
   "id": "6c0c477c",
   "metadata": {},
   "outputs": [],
   "source": [
    "### Enumerate"
   ]
  },
  {
   "cell_type": "code",
   "execution_count": 101,
   "id": "f9b20991",
   "metadata": {},
   "outputs": [
    {
     "name": "stdout",
     "output_type": "stream",
     "text": [
      "0 m\n",
      "1 a\n",
      "2 h\n",
      "3 d\n",
      "4 i\n"
     ]
    }
   ],
   "source": [
    "l = \"mahdi\"\n",
    "for i in range(len(l)):\n",
    "    print(i , l[i])"
   ]
  },
  {
   "cell_type": "code",
   "execution_count": 104,
   "id": "435df312",
   "metadata": {},
   "outputs": [
    {
     "data": {
      "text/plain": [
       "<enumerate at 0x7fd233cf1340>"
      ]
     },
     "execution_count": 104,
     "metadata": {},
     "output_type": "execute_result"
    }
   ],
   "source": [
    "enumerate(l)"
   ]
  },
  {
   "cell_type": "code",
   "execution_count": 105,
   "id": "473138ea",
   "metadata": {},
   "outputs": [
    {
     "name": "stdout",
     "output_type": "stream",
     "text": [
      "0 m\n",
      "1 a\n",
      "2 h\n",
      "3 d\n",
      "4 i\n"
     ]
    }
   ],
   "source": [
    "for i, a in enumerate(l):\n",
    "    print(i,a)"
   ]
  },
  {
   "cell_type": "code",
   "execution_count": 106,
   "id": "6642e0d2",
   "metadata": {},
   "outputs": [],
   "source": [
    "### zip"
   ]
  },
  {
   "cell_type": "code",
   "execution_count": 107,
   "id": "af40cef2",
   "metadata": {},
   "outputs": [
    {
     "name": "stdout",
     "output_type": "stream",
     "text": [
      "('mahdi', ' mh')\n",
      "('ali', 'vh')\n",
      "('sahar', 'rh')\n"
     ]
    }
   ],
   "source": [
    "esm = [\"mahdi\",\"ali\",\"sahar\"]\n",
    "famil = [\" mh\", \"vh\", \"rh\"]\n",
    "for x in zip(esm,famil):\n",
    "    print(x)"
   ]
  },
  {
   "cell_type": "code",
   "execution_count": 108,
   "id": "fa27271a",
   "metadata": {},
   "outputs": [],
   "source": [
    "### in"
   ]
  },
  {
   "cell_type": "code",
   "execution_count": 109,
   "id": "781ccf50",
   "metadata": {},
   "outputs": [
    {
     "name": "stdout",
     "output_type": "stream",
     "text": [
      "True\n"
     ]
    }
   ],
   "source": [
    "esm = [\"mahdi\",\"ali\",\"sahar\"]\n",
    "print(\"mahdi\" in esm)"
   ]
  },
  {
   "cell_type": "code",
   "execution_count": 112,
   "id": "124db6ae",
   "metadata": {},
   "outputs": [
    {
     "name": "stdout",
     "output_type": "stream",
     "text": [
      "i have mahdi and senesh hast : 28\n",
      "i dont have ali\n",
      "i have sahar and senesh hast : 27\n"
     ]
    }
   ],
   "source": [
    "names = [\"mahdi\",\"ali\",\"sahar\"]\n",
    "people = {\n",
    "    \"mahdi\" : {\"sen\": 28, \"ghad\": 180},\n",
    "    \"sahar\" : {\"sen\": 27, \"ghad\": 170}\n",
    "}\n",
    "for name in names:\n",
    "    if name in people:\n",
    "        print(f\"i have {name} and senesh hast : {people[name]['sen']}\")\n",
    "    else:\n",
    "        print(f\"i dont have {name}\")"
   ]
  },
  {
   "cell_type": "code",
   "execution_count": 116,
   "id": "1fd9e247",
   "metadata": {},
   "outputs": [],
   "source": [
    "### max min"
   ]
  },
  {
   "cell_type": "code",
   "execution_count": 114,
   "id": "177b47e1",
   "metadata": {},
   "outputs": [
    {
     "data": {
      "text/plain": [
       "4"
      ]
     },
     "execution_count": 114,
     "metadata": {},
     "output_type": "execute_result"
    }
   ],
   "source": [
    "max(1,2,3,4)"
   ]
  },
  {
   "cell_type": "code",
   "execution_count": 115,
   "id": "17264f2b",
   "metadata": {},
   "outputs": [
    {
     "data": {
      "text/plain": [
       "1"
      ]
     },
     "execution_count": 115,
     "metadata": {},
     "output_type": "execute_result"
    }
   ],
   "source": [
    "min(1,2,3,4)"
   ]
  },
  {
   "cell_type": "code",
   "execution_count": 117,
   "id": "e3c18c48",
   "metadata": {},
   "outputs": [],
   "source": [
    "### random"
   ]
  },
  {
   "cell_type": "code",
   "execution_count": 118,
   "id": "1d197d31",
   "metadata": {},
   "outputs": [],
   "source": [
    "from random import randint"
   ]
  },
  {
   "cell_type": "code",
   "execution_count": 125,
   "id": "f71a8247",
   "metadata": {},
   "outputs": [],
   "source": [
    "#randint(start,end)"
   ]
  },
  {
   "cell_type": "code",
   "execution_count": 124,
   "id": "1d0be724",
   "metadata": {},
   "outputs": [
    {
     "name": "stdout",
     "output_type": "stream",
     "text": [
      "7\n"
     ]
    }
   ],
   "source": [
    "print(randint(1,10))"
   ]
  },
  {
   "cell_type": "code",
   "execution_count": 126,
   "id": "f23c14ca",
   "metadata": {},
   "outputs": [],
   "source": [
    "### exercise "
   ]
  },
  {
   "cell_type": "code",
   "execution_count": 131,
   "id": "8e66cc2b",
   "metadata": {},
   "outputs": [
    {
     "name": "stdout",
     "output_type": "stream",
     "text": [
      "enter a number : 15\n"
     ]
    }
   ],
   "source": [
    "number = int(input(\"enter a number : \"))"
   ]
  },
  {
   "cell_type": "code",
   "execution_count": 132,
   "id": "92bab5e3",
   "metadata": {},
   "outputs": [
    {
     "name": "stdout",
     "output_type": "stream",
     "text": [
      "Afsanei\n"
     ]
    }
   ],
   "source": [
    "if number % 3 == 0 and number % 5 == 0 :\n",
    "    print(\"Afsanei\")\n",
    "elif number % 5 == 0 :\n",
    "    print(\"nefrin shode\")\n",
    "elif number % 3 == 0 :\n",
    "    print(\"jadooi\")\n"
   ]
  },
  {
   "cell_type": "code",
   "execution_count": 137,
   "id": "ea71f258",
   "metadata": {},
   "outputs": [],
   "source": [
    "javab = randint(1,10)"
   ]
  },
  {
   "cell_type": "code",
   "execution_count": 138,
   "id": "92f18cfa",
   "metadata": {},
   "outputs": [
    {
     "name": "stdout",
     "output_type": "stream",
     "text": [
      "please enter a number between 1 to 10 : 4\n",
      "you are wrong.\n",
      "please enter another number : 2\n",
      "you are wrong.\n",
      "please enter another number : 6\n",
      "you are wrong.\n",
      "please enter another number : 7\n",
      "you are wrong.\n",
      "please enter another number : 8\n",
      "you are wrong.\n",
      "please enter another number : 9\n",
      "you are wrong.\n",
      "please enter another number : 10\n",
      "you are wrong.\n",
      "please enter another number : 1\n",
      "you are wrong.\n",
      "please enter another number : 2\n",
      "you are wrong.\n",
      "please enter another number : 3\n",
      "you are wrong.\n",
      "please enter another number : 4\n",
      "you are wrong.\n",
      "please enter another number : 5\n",
      "You are trueeee , javab is 5\n"
     ]
    }
   ],
   "source": [
    "num = int(input(\"please enter a number between 1 to 10 : \"))\n",
    "while num != javab :\n",
    "    print(\"you are wrong.\")\n",
    "    num = int(input(\"please enter another number : \"))\n",
    "print(f\"You are trueeee , javab is {javab}\")"
   ]
  },
  {
   "cell_type": "code",
   "execution_count": 140,
   "id": "f1405b20",
   "metadata": {},
   "outputs": [
    {
     "name": "stdout",
     "output_type": "stream",
     "text": [
      "please enter a number between 1 to 10 : 2\n",
      "you are wrong.\n",
      "javab az adade to bozorgtare. \n",
      "please enter another number : 10\n",
      "you are wrong.\n",
      "adade to az javab bozorgtare. \n",
      "please enter another number : 8\n",
      "you are wrong.\n",
      "adade to az javab bozorgtare. \n",
      "please enter another number : 3\n",
      "you are wrong.\n",
      "javab az adade to bozorgtare. \n",
      "please enter another number : 5\n",
      "you are wrong.\n",
      "javab az adade to bozorgtare. \n",
      "please enter another number : 6\n",
      "You are trueeee , javab is 6\n"
     ]
    }
   ],
   "source": [
    "javab = randint(1,10)\n",
    "num = int(input(\"please enter a number between 1 to 10 : \"))\n",
    "while num != javab :\n",
    "    print(\"you are wrong.\")\n",
    "    if num > javab :\n",
    "        print(\"adade to az javab bozorgtare. \")\n",
    "    elif num < javab :\n",
    "        print(\"javab az adade to bozorgtare. \")\n",
    "    num = int(input(\"please enter another number : \"))\n",
    "print(f\"You are trueeee , javab is {javab}\")"
   ]
  },
  {
   "cell_type": "code",
   "execution_count": null,
   "id": "1aa67379",
   "metadata": {},
   "outputs": [],
   "source": []
  }
 ],
 "metadata": {
  "kernelspec": {
   "display_name": "Python 3 (ipykernel)",
   "language": "python",
   "name": "python3"
  },
  "language_info": {
   "codemirror_mode": {
    "name": "ipython",
    "version": 3
   },
   "file_extension": ".py",
   "mimetype": "text/x-python",
   "name": "python",
   "nbconvert_exporter": "python",
   "pygments_lexer": "ipython3",
   "version": "3.9.7"
  }
 },
 "nbformat": 4,
 "nbformat_minor": 5
}
