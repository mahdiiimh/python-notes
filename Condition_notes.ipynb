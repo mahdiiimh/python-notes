{
 "cells": [
  {
   "cell_type": "markdown",
   "id": "ed04f2d0",
   "metadata": {},
   "source": [
    "### Statements ---> like if"
   ]
  },
  {
   "cell_type": "code",
   "execution_count": 1,
   "id": "46c5b88a",
   "metadata": {},
   "outputs": [
    {
     "name": "stdout",
     "output_type": "stream",
     "text": [
      "it is true\n",
      "end of block\n"
     ]
    }
   ],
   "source": [
    "if True:\n",
    "    print(\"it is true\")\n",
    "print(\"end of block\")"
   ]
  },
  {
   "cell_type": "code",
   "execution_count": 2,
   "id": "85dbe570",
   "metadata": {},
   "outputs": [
    {
     "name": "stdout",
     "output_type": "stream",
     "text": [
      "end of block\n"
     ]
    }
   ],
   "source": [
    "if False:\n",
    "    print(\"it is true\")\n",
    "print(\"end of block\")"
   ]
  },
  {
   "cell_type": "code",
   "execution_count": 3,
   "id": "5187e9e1",
   "metadata": {},
   "outputs": [],
   "source": [
    "age = 28"
   ]
  },
  {
   "cell_type": "code",
   "execution_count": 5,
   "id": "0bacc869",
   "metadata": {},
   "outputs": [
    {
     "name": "stdout",
     "output_type": "stream",
     "text": [
      "upper 28\n"
     ]
    }
   ],
   "source": [
    "if age < 18:\n",
    "    print(\"under 18\")\n",
    "if age >= 28:\n",
    "    print(\"upper 28\")"
   ]
  },
  {
   "cell_type": "code",
   "execution_count": 6,
   "id": "429a10a9",
   "metadata": {},
   "outputs": [
    {
     "name": "stdout",
     "output_type": "stream",
     "text": [
      "mian sal\n"
     ]
    }
   ],
   "source": [
    "if age < 18:\n",
    "    print(\"under 18\")\n",
    "elif age >=28:\n",
    "    print(\"mian sal\")\n",
    "else :\n",
    "    print(\"mose\")"
   ]
  },
  {
   "cell_type": "code",
   "execution_count": 12,
   "id": "9f7b0d67",
   "metadata": {},
   "outputs": [
    {
     "name": "stdout",
     "output_type": "stream",
     "text": [
      "enter your items prices : 55000\n"
     ]
    }
   ],
   "source": [
    "price = int(input(\"enter your items prices : \"))"
   ]
  },
  {
   "cell_type": "code",
   "execution_count": 13,
   "id": "b26a34e0",
   "metadata": {},
   "outputs": [
    {
     "name": "stdout",
     "output_type": "stream",
     "text": [
      "your final price is 44000.0\n"
     ]
    }
   ],
   "source": [
    "if price < 20000:\n",
    "    print(f\"Sorry you haven't any discount. your final price is {price}\")\n",
    "elif price >=20000 and price < 50000:\n",
    "    discount = 0.1*price\n",
    "    price -= discount\n",
    "    print(f\"your final price is {price}\")\n",
    "else :\n",
    "    discount = 0.2 * price\n",
    "    price -= discount\n",
    "    print(f\"your final price is {price}\")"
   ]
  },
  {
   "cell_type": "code",
   "execution_count": null,
   "id": "685e6dca",
   "metadata": {},
   "outputs": [],
   "source": []
  }
 ],
 "metadata": {
  "kernelspec": {
   "display_name": "Python 3 (ipykernel)",
   "language": "python",
   "name": "python3"
  },
  "language_info": {
   "codemirror_mode": {
    "name": "ipython",
    "version": 3
   },
   "file_extension": ".py",
   "mimetype": "text/x-python",
   "name": "python",
   "nbconvert_exporter": "python",
   "pygments_lexer": "ipython3",
   "version": "3.9.7"
  }
 },
 "nbformat": 4,
 "nbformat_minor": 5
}
