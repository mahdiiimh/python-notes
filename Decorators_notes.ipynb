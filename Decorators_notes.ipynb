{
 "cells": [
  {
   "cell_type": "code",
   "execution_count": 1,
   "id": "5c767b75-4ed3-4ead-8269-7c3e42c79aea",
   "metadata": {},
   "outputs": [],
   "source": [
    "## ye function minevsim. bad harja khastimesh minevisim @oun_func"
   ]
  },
  {
   "cell_type": "code",
   "execution_count": 3,
   "id": "85f03d48-5464-4270-8b9b-53cfaa479044",
   "metadata": {},
   "outputs": [],
   "source": [
    "def add(a,b):\n",
    "    result = a + b\n",
    "    return result"
   ]
  },
  {
   "cell_type": "code",
   "execution_count": 5,
   "id": "cd277816-69a1-4252-992f-a45dc8a27150",
   "metadata": {},
   "outputs": [
    {
     "data": {
      "text/plain": [
       "8"
      ]
     },
     "execution_count": 5,
     "metadata": {},
     "output_type": "execute_result"
    }
   ],
   "source": [
    "add(3,5)"
   ]
  },
  {
   "cell_type": "code",
   "execution_count": 7,
   "id": "f27c554a-e969-41b0-9110-d01df6fef7ca",
   "metadata": {},
   "outputs": [
    {
     "data": {
      "text/plain": [
       "<function __main__.add(a, b)>"
      ]
     },
     "execution_count": 7,
     "metadata": {},
     "output_type": "execute_result"
    }
   ],
   "source": [
    "add"
   ]
  },
  {
   "cell_type": "code",
   "execution_count": 9,
   "id": "ceacc0ba-3285-4f88-bfcd-acf528d52cc8",
   "metadata": {},
   "outputs": [],
   "source": [
    "## pas function ye object"
   ]
  },
  {
   "cell_type": "code",
   "execution_count": 11,
   "id": "7a40374d-a6ac-4342-bdc2-640a43e39268",
   "metadata": {},
   "outputs": [],
   "source": [
    "def say_hello():\n",
    "    print(\"hello\")"
   ]
  },
  {
   "cell_type": "code",
   "execution_count": 14,
   "id": "19717925-28fd-4757-a976-208647a5fda6",
   "metadata": {},
   "outputs": [
    {
     "name": "stdout",
     "output_type": "stream",
     "text": [
      "hello\n"
     ]
    }
   ],
   "source": [
    "say_hello()"
   ]
  },
  {
   "cell_type": "code",
   "execution_count": 16,
   "id": "d6eb0eab-f37c-42ef-9fb9-0e011a5f1f2e",
   "metadata": {},
   "outputs": [
    {
     "data": {
      "text/plain": [
       "<function __main__.say_hello()>"
      ]
     },
     "execution_count": 16,
     "metadata": {},
     "output_type": "execute_result"
    }
   ],
   "source": [
    "say_hello"
   ]
  },
  {
   "cell_type": "code",
   "execution_count": 18,
   "id": "18d1ee8c-9a34-4751-b699-dded2e91eeff",
   "metadata": {},
   "outputs": [],
   "source": [
    "my_func = say_hello"
   ]
  },
  {
   "cell_type": "code",
   "execution_count": 20,
   "id": "2fad777e-ada4-49c6-8701-e48e80545dd7",
   "metadata": {},
   "outputs": [
    {
     "data": {
      "text/plain": [
       "<function __main__.say_hello()>"
      ]
     },
     "execution_count": 20,
     "metadata": {},
     "output_type": "execute_result"
    }
   ],
   "source": [
    "my_func"
   ]
  },
  {
   "cell_type": "code",
   "execution_count": 22,
   "id": "0d5e76e6-4f35-43b2-a359-d9854bd1ceaa",
   "metadata": {},
   "outputs": [
    {
     "name": "stdout",
     "output_type": "stream",
     "text": [
      "hello\n"
     ]
    }
   ],
   "source": [
    "my_func()"
   ]
  },
  {
   "cell_type": "code",
   "execution_count": 24,
   "id": "666df575-966a-4b39-b421-96652fa76709",
   "metadata": {},
   "outputs": [],
   "source": [
    "del say_hello"
   ]
  },
  {
   "cell_type": "code",
   "execution_count": 26,
   "id": "f9b45808-071d-47c5-8a13-6b6175e6a16b",
   "metadata": {},
   "outputs": [
    {
     "ename": "NameError",
     "evalue": "name 'say_hello' is not defined",
     "output_type": "error",
     "traceback": [
      "\u001b[0;31m---------------------------------------------------------------------------\u001b[0m",
      "\u001b[0;31mNameError\u001b[0m                                 Traceback (most recent call last)",
      "Cell \u001b[0;32mIn[26], line 1\u001b[0m\n\u001b[0;32m----> 1\u001b[0m say_hello\n",
      "\u001b[0;31mNameError\u001b[0m: name 'say_hello' is not defined"
     ]
    }
   ],
   "source": [
    "say_hello"
   ]
  },
  {
   "cell_type": "code",
   "execution_count": 28,
   "id": "f2009377-c4ce-490a-89c6-d9f5c2bc28d8",
   "metadata": {},
   "outputs": [
    {
     "name": "stdout",
     "output_type": "stream",
     "text": [
      "hello\n"
     ]
    }
   ],
   "source": [
    "my_func()"
   ]
  },
  {
   "cell_type": "code",
   "execution_count": 30,
   "id": "ae6dd173-6036-4387-b5e7-e50551bca935",
   "metadata": {},
   "outputs": [],
   "source": [
    "def add(a,b):\n",
    "    return a + b\n"
   ]
  },
  {
   "cell_type": "code",
   "execution_count": 32,
   "id": "9b1c4cc6-5faa-4474-9d24-bbfbfe4c7c5d",
   "metadata": {},
   "outputs": [],
   "source": [
    "def calcu(a,b,f):\n",
    "    return f(a,b)"
   ]
  },
  {
   "cell_type": "code",
   "execution_count": 34,
   "id": "49138256-6903-4803-8770-65dc2c82d011",
   "metadata": {},
   "outputs": [
    {
     "data": {
      "text/plain": [
       "4"
      ]
     },
     "execution_count": 34,
     "metadata": {},
     "output_type": "execute_result"
    }
   ],
   "source": [
    "calcu(1, 3, add)"
   ]
  },
  {
   "cell_type": "code",
   "execution_count": 36,
   "id": "a0d43657-a5e8-425b-96ee-28d547c6cbec",
   "metadata": {},
   "outputs": [],
   "source": [
    "def say_hello():\n",
    "    print(\"hello\")"
   ]
  },
  {
   "cell_type": "code",
   "execution_count": 38,
   "id": "a3a47244-450a-49ae-953c-e4ba8b65329c",
   "metadata": {},
   "outputs": [],
   "source": [
    "def do(what_to_call):\n",
    "    what_to_call()"
   ]
  },
  {
   "cell_type": "code",
   "execution_count": 42,
   "id": "04168fbf-7b96-4f22-9d1c-83d03de09066",
   "metadata": {},
   "outputs": [
    {
     "name": "stdout",
     "output_type": "stream",
     "text": [
      "hello\n"
     ]
    }
   ],
   "source": [
    "do(say_hello) ## function ro be ounvan paramater dadim behesh"
   ]
  },
  {
   "cell_type": "code",
   "execution_count": 44,
   "id": "65eca0a5-6d11-421b-9db6-026f27e16478",
   "metadata": {},
   "outputs": [],
   "source": [
    "def calculate(a, b, what_to_do):\n",
    "    def add(a,b):\n",
    "        return a+b\n",
    "    def zarb(a, b):\n",
    "        return a * b\n",
    "    if what_to_do == \"add\":\n",
    "        return add(a,b)\n",
    "    if what_to_do == \"zarb\":\n",
    "        return zarb(a,b)"
   ]
  },
  {
   "cell_type": "code",
   "execution_count": 46,
   "id": "cfe0f639-e497-4a2c-9fff-ed318985df3f",
   "metadata": {},
   "outputs": [
    {
     "ename": "NameError",
     "evalue": "name 'zarb' is not defined",
     "output_type": "error",
     "traceback": [
      "\u001b[0;31m---------------------------------------------------------------------------\u001b[0m",
      "\u001b[0;31mNameError\u001b[0m                                 Traceback (most recent call last)",
      "Cell \u001b[0;32mIn[46], line 1\u001b[0m\n\u001b[0;32m----> 1\u001b[0m zarb(\u001b[38;5;241m3\u001b[39m,\u001b[38;5;241m4\u001b[39m)\n",
      "\u001b[0;31mNameError\u001b[0m: name 'zarb' is not defined"
     ]
    }
   ],
   "source": [
    "zarb(3,4)"
   ]
  },
  {
   "cell_type": "code",
   "execution_count": 48,
   "id": "2faf5439-e135-4b41-a44d-7cb399be7fa2",
   "metadata": {},
   "outputs": [
    {
     "data": {
      "text/plain": [
       "12"
      ]
     },
     "execution_count": 48,
     "metadata": {},
     "output_type": "execute_result"
    }
   ],
   "source": [
    "calculate(3,4, \"zarb\")"
   ]
  },
  {
   "cell_type": "code",
   "execution_count": 50,
   "id": "3af16d1d-463d-46a1-a248-cf9e2436e32e",
   "metadata": {},
   "outputs": [],
   "source": [
    "### decorators"
   ]
  },
  {
   "cell_type": "code",
   "execution_count": 52,
   "id": "c1599c82-fd00-4c53-bcdc-e83f7ec0383e",
   "metadata": {},
   "outputs": [],
   "source": [
    "def say_hello():\n",
    "    import datetime\n",
    "    now = datetime.datetime.now()\n",
    "    minute = now.minute\n",
    "    if minute % 2 ==0:\n",
    "        print(\"hisss\")\n",
    "    else :\n",
    "        print(\"salam mn injam\")\n",
    "def say_bye():\n",
    "    print(\"Bye Bye\")"
   ]
  },
  {
   "cell_type": "code",
   "execution_count": 54,
   "id": "8016639d-2d3e-4999-96b6-bdc1e6956bf3",
   "metadata": {},
   "outputs": [
    {
     "name": "stdout",
     "output_type": "stream",
     "text": [
      "hisss\n"
     ]
    }
   ],
   "source": [
    "say_hello() #15:56"
   ]
  },
  {
   "cell_type": "code",
   "execution_count": 59,
   "id": "cd748ca3-5ae4-43fc-92de-47ddf57d0a92",
   "metadata": {},
   "outputs": [
    {
     "name": "stdout",
     "output_type": "stream",
     "text": [
      "salam mn injam\n"
     ]
    }
   ],
   "source": [
    "say_hello() #15:57"
   ]
  },
  {
   "cell_type": "code",
   "execution_count": 61,
   "id": "6d95290c-07ab-4523-820f-350790ba926d",
   "metadata": {},
   "outputs": [],
   "source": [
    "def is_it_zooj():\n",
    "    now = datetime.datetime.now()\n",
    "    minute = now.minute\n",
    "    return minute % 2 ==0"
   ]
  },
  {
   "cell_type": "code",
   "execution_count": 66,
   "id": "f386105e-2082-4a1e-8708-4226ae4d4fc8",
   "metadata": {},
   "outputs": [],
   "source": [
    "def say_hello():\n",
    "    if is_it_zooj():\n",
    "        print(\"hisss\")\n",
    "    else :\n",
    "        print(\"salam mn injam\")\n",
    "def say_bye():\n",
    "    if is_it_zooj():\n",
    "        print(\"hisss\")\n",
    "    else :\n",
    "        print(\"Bye Bye\")"
   ]
  },
  {
   "cell_type": "code",
   "execution_count": 68,
   "id": "0101de85-7c12-48e3-b234-289442806ad9",
   "metadata": {},
   "outputs": [
    {
     "name": "stdout",
     "output_type": "stream",
     "text": [
      "salam mn injam\n",
      "Bye Bye\n"
     ]
    }
   ],
   "source": [
    "say_hello() ## 16:03\n",
    "say_bye()"
   ]
  },
  {
   "cell_type": "code",
   "execution_count": 74,
   "id": "3388c129-bf30-4ca2-ab1b-d2cd6dd39bad",
   "metadata": {},
   "outputs": [
    {
     "name": "stdout",
     "output_type": "stream",
     "text": [
      "hisss\n",
      "hisss\n"
     ]
    }
   ],
   "source": [
    "say_hello() ## 16:04\n",
    "say_bye()"
   ]
  },
  {
   "cell_type": "code",
   "execution_count": 72,
   "id": "04e76ab3-12f2-4b15-9f98-7024e623bfc3",
   "metadata": {},
   "outputs": [],
   "source": [
    "## hey majborim avaz konim func haro, khoob nist"
   ]
  },
  {
   "cell_type": "code",
   "execution_count": 90,
   "id": "af01eae5-942e-4548-b799-add05ead4db1",
   "metadata": {},
   "outputs": [],
   "source": [
    "## ye ide"
   ]
  },
  {
   "cell_type": "code",
   "execution_count": 84,
   "id": "f4bfc158-247d-400e-bdfb-e4b86d61c5ec",
   "metadata": {},
   "outputs": [],
   "source": [
    "def run_on_zooj(f):\n",
    "    import datetime\n",
    "    now = datetime.datetime.now()\n",
    "    minute = now.minute\n",
    "    if minute % 2 ==0: ## baraks shod\n",
    "        f()\n",
    "    else :\n",
    "        print(\"hiiss\")"
   ]
  },
  {
   "cell_type": "code",
   "execution_count": 86,
   "id": "bf5bda8b-803a-4568-b022-50ba3bec8377",
   "metadata": {},
   "outputs": [],
   "source": [
    "def say_hello():\n",
    "    print(\"hisss\")\n",
    "def say_bye():\n",
    "    print(\"Bye Bye\")"
   ]
  },
  {
   "cell_type": "code",
   "execution_count": 88,
   "id": "d723015d-e583-4aef-ba82-64ff3f53f117",
   "metadata": {},
   "outputs": [
    {
     "name": "stdout",
     "output_type": "stream",
     "text": [
      "hisss\n"
     ]
    }
   ],
   "source": [
    "run_on_zooj(say_hello)"
   ]
  },
  {
   "cell_type": "code",
   "execution_count": 92,
   "id": "0316b1c4-87d5-488c-b9a9-f25c8f5d9aaf",
   "metadata": {},
   "outputs": [],
   "source": [
    "### decorator"
   ]
  },
  {
   "cell_type": "code",
   "execution_count": 104,
   "id": "92440940-57a6-43ea-ae6a-66ef809a2e6f",
   "metadata": {},
   "outputs": [],
   "source": [
    "def run_on_zooj(f):\n",
    "    def wrapper():\n",
    "        import datetime\n",
    "        now = datetime.datetime.now()\n",
    "        minute = now.minute\n",
    "        if minute % 2 ==0: ## baraks shod\n",
    "            f()\n",
    "        else :\n",
    "            print(\"hiiss\")\n",
    "    return wrapper()"
   ]
  },
  {
   "cell_type": "code",
   "execution_count": 112,
   "id": "08e49218-2985-4700-9c72-8c827fd74f05",
   "metadata": {},
   "outputs": [
    {
     "name": "stdout",
     "output_type": "stream",
     "text": [
      "salam man injam\n",
      "Bye Bye\n"
     ]
    }
   ],
   "source": [
    "@run_on_zooj\n",
    "def say_hello():\n",
    "    print(\"salam man injam\")\n",
    "@run_on_zooj\n",
    "def say_bye():\n",
    "    print(\"Bye Bye\")"
   ]
  },
  {
   "cell_type": "code",
   "execution_count": 114,
   "id": "23553839-8482-4767-ad8e-5cbf5d688387",
   "metadata": {},
   "outputs": [],
   "source": [
    "## az decorator haye amade kheili estefade mikonim"
   ]
  },
  {
   "cell_type": "code",
   "execution_count": 116,
   "id": "27a7b1aa-e76c-46ef-b1e2-c342b492bdde",
   "metadata": {},
   "outputs": [
    {
     "name": "stdout",
     "output_type": "stream",
     "text": [
      "Before function call\n",
      "Hello!\n",
      "After function call\n"
     ]
    }
   ],
   "source": [
    "def decorator(func):\n",
    "    def wrapper():\n",
    "        print(\"Before function call\")\n",
    "        func()\n",
    "        print(\"After function call\")\n",
    "    return wrapper\n",
    "\n",
    "@decorator\n",
    "def say_hello():\n",
    "    print(\"Hello!\")\n",
    "\n",
    "say_hello()"
   ]
  },
  {
   "cell_type": "code",
   "execution_count": 118,
   "id": "cb0dd005-0b48-47a5-8769-1fa5ea17bb02",
   "metadata": {},
   "outputs": [],
   "source": [
    "## exercise"
   ]
  },
  {
   "cell_type": "code",
   "execution_count": 71,
   "id": "aedcba09-0cc6-491c-b2ba-2712857eb400",
   "metadata": {},
   "outputs": [],
   "source": [
    "def time_calc(f):\n",
    "    def wrapper(n):\n",
    "        import time\n",
    "        begin = time.time()\n",
    "        f(n)\n",
    "        end = time.time()\n",
    "        res = end - begin\n",
    "        print(f\"Execution time : {res}\")\n",
    "        \n",
    "    return wrapper"
   ]
  },
  {
   "cell_type": "code",
   "execution_count": 73,
   "id": "9170f426-421f-4e20-ac97-2fa0f93ea3a8",
   "metadata": {},
   "outputs": [],
   "source": [
    "@time_calc\n",
    "def make_list(n):\n",
    "    my_list = []\n",
    "    for i in range(1,n):\n",
    "        my_list.append(i)\n",
    "    return my_list"
   ]
  },
  {
   "cell_type": "code",
   "execution_count": 79,
   "id": "9a9a347c-7589-4205-818e-4aba482c417a",
   "metadata": {
    "scrolled": true
   },
   "outputs": [
    {
     "name": "stdout",
     "output_type": "stream",
     "text": [
      "Execution time : 1.2257106304168701\n"
     ]
    }
   ],
   "source": [
    "make_list(10000000)"
   ]
  },
  {
   "cell_type": "markdown",
   "id": "89625826-3e7e-47a5-a738-e331c7d169d2",
   "metadata": {},
   "source": [
    "### Generator"
   ]
  },
  {
   "cell_type": "code",
   "execution_count": 82,
   "id": "3fe1b34c-7a65-41c4-95df-c8b80ef43723",
   "metadata": {},
   "outputs": [],
   "source": [
    "## function hayi darim ke khodeshono resume mikonan va badan migim badi ro bede"
   ]
  },
  {
   "cell_type": "code",
   "execution_count": 1,
   "id": "4aa96f8c-e686-4b39-bf21-11843334a240",
   "metadata": {},
   "outputs": [
    {
     "name": "stdout",
     "output_type": "stream",
     "text": [
      "[1, 4, 9, 16, 25, 36]\n"
     ]
    }
   ],
   "source": [
    "def square_numbers(nums):\n",
    "    result = []\n",
    "    for i in nums :\n",
    "        result.append(i*i)\n",
    "    return result\n",
    "my_nums = square_numbers([1,2,3,4,5,6])\n",
    "print(my_nums)"
   ]
  },
  {
   "cell_type": "code",
   "execution_count": 3,
   "id": "451a8482-8a80-423e-b978-df0bc85cf487",
   "metadata": {},
   "outputs": [
    {
     "name": "stdout",
     "output_type": "stream",
     "text": [
      "<generator object square_numbers at 0x10f51af60>\n"
     ]
    }
   ],
   "source": [
    "## now generators :\n",
    "def square_numbers(nums):\n",
    "    for i in nums:\n",
    "        yield(i*i)\n",
    "my_nums = square_numbers([1,2,3,4,5,6])\n",
    "print(my_nums)"
   ]
  },
  {
   "cell_type": "code",
   "execution_count": 5,
   "id": "37de5bb2-faa0-4d45-8975-006788ad6c25",
   "metadata": {},
   "outputs": [
    {
     "name": "stdout",
     "output_type": "stream",
     "text": [
      "1\n"
     ]
    }
   ],
   "source": [
    "print(next(my_nums))"
   ]
  },
  {
   "cell_type": "code",
   "execution_count": 7,
   "id": "39115d73-9842-488c-80d2-ebb5c3f363d8",
   "metadata": {},
   "outputs": [
    {
     "name": "stdout",
     "output_type": "stream",
     "text": [
      "4\n"
     ]
    }
   ],
   "source": [
    "print(next(my_nums))"
   ]
  },
  {
   "cell_type": "code",
   "execution_count": 9,
   "id": "f971d594-7885-45fd-9959-188c2a623733",
   "metadata": {},
   "outputs": [
    {
     "name": "stdout",
     "output_type": "stream",
     "text": [
      "9\n"
     ]
    }
   ],
   "source": [
    "print(next(my_nums))"
   ]
  },
  {
   "cell_type": "code",
   "execution_count": 11,
   "id": "0551450b-0993-47d9-98c0-69eb26d21aac",
   "metadata": {},
   "outputs": [],
   "source": [
    "## you see ? every time give me the next number"
   ]
  },
  {
   "cell_type": "code",
   "execution_count": 13,
   "id": "019a10df-9e93-4b1e-8573-172a8eb07594",
   "metadata": {},
   "outputs": [
    {
     "name": "stdout",
     "output_type": "stream",
     "text": [
      "16\n"
     ]
    }
   ],
   "source": [
    "print(next(my_nums))"
   ]
  },
  {
   "cell_type": "code",
   "execution_count": 16,
   "id": "b9d6586a-5c8e-47ac-875b-30a5215d89c1",
   "metadata": {},
   "outputs": [
    {
     "name": "stdout",
     "output_type": "stream",
     "text": [
      "25\n"
     ]
    }
   ],
   "source": [
    "print(next(my_nums))"
   ]
  },
  {
   "cell_type": "code",
   "execution_count": 18,
   "id": "16820a7d-a806-4379-afbb-d08a701f4f24",
   "metadata": {},
   "outputs": [
    {
     "name": "stdout",
     "output_type": "stream",
     "text": [
      "36\n"
     ]
    }
   ],
   "source": [
    "print(next(my_nums))"
   ]
  },
  {
   "cell_type": "code",
   "execution_count": 20,
   "id": "4732d6ee-c3a7-4433-ac92-df5e43970564",
   "metadata": {},
   "outputs": [
    {
     "ename": "StopIteration",
     "evalue": "",
     "output_type": "error",
     "traceback": [
      "\u001b[0;31m---------------------------------------------------------------------------\u001b[0m",
      "\u001b[0;31mStopIteration\u001b[0m                             Traceback (most recent call last)",
      "Cell \u001b[0;32mIn[20], line 1\u001b[0m\n\u001b[0;32m----> 1\u001b[0m \u001b[38;5;28mprint\u001b[39m(\u001b[38;5;28mnext\u001b[39m(my_nums))\n",
      "\u001b[0;31mStopIteration\u001b[0m: "
     ]
    }
   ],
   "source": [
    "print(next(my_nums)) "
   ]
  },
  {
   "cell_type": "code",
   "execution_count": null,
   "id": "a2b55686-7048-4c56-807d-7240f28e843c",
   "metadata": {},
   "outputs": [],
   "source": []
  }
 ],
 "metadata": {
  "kernelspec": {
   "display_name": "Python [conda env:base] *",
   "language": "python",
   "name": "conda-base-py"
  },
  "language_info": {
   "codemirror_mode": {
    "name": "ipython",
    "version": 3
   },
   "file_extension": ".py",
   "mimetype": "text/x-python",
   "name": "python",
   "nbconvert_exporter": "python",
   "pygments_lexer": "ipython3",
   "version": "3.12.7"
  }
 },
 "nbformat": 4,
 "nbformat_minor": 5
}
