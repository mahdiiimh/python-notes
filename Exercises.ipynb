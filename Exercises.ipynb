{
 "cells": [
  {
   "cell_type": "markdown",
   "id": "c16e2d0e",
   "metadata": {},
   "source": [
    "### Exercise 1: Area of a Room\n",
    "##### Write a program that asks the user to enter the width and length of a room. Once these values have been read, your program should compute and display the area of the room. The length and the width will be entered as floating-point numbers. Include units in your prompt and output message; either feet or meters, depending on which unit you are more comfortable working with."
   ]
  },
  {
   "cell_type": "code",
   "execution_count": 5,
   "id": "10703299",
   "metadata": {},
   "outputs": [
    {
     "name": "stdout",
     "output_type": "stream",
     "text": [
      "please enter width of the room : 4.2\n"
     ]
    }
   ],
   "source": [
    "width = float(input(\"please enter width of the room : \"))"
   ]
  },
  {
   "cell_type": "code",
   "execution_count": 6,
   "id": "615adf1b",
   "metadata": {},
   "outputs": [
    {
     "name": "stdout",
     "output_type": "stream",
     "text": [
      "please enter length of the room : 5\n"
     ]
    }
   ],
   "source": [
    "length=float(input(\"please enter length of the room : \"))"
   ]
  },
  {
   "cell_type": "code",
   "execution_count": 7,
   "id": "2236ac08",
   "metadata": {},
   "outputs": [
    {
     "name": "stdout",
     "output_type": "stream",
     "text": [
      "4.2\n",
      "5.0\n"
     ]
    }
   ],
   "source": [
    "print(width)\n",
    "print(length)"
   ]
  },
  {
   "cell_type": "code",
   "execution_count": 8,
   "id": "6a1d9ff4",
   "metadata": {},
   "outputs": [
    {
     "name": "stdout",
     "output_type": "stream",
     "text": [
      "21.0\n"
     ]
    }
   ],
   "source": [
    "area = length * width\n",
    "print(area)"
   ]
  },
  {
   "cell_type": "markdown",
   "id": "e38d6a54",
   "metadata": {},
   "source": [
    "### Exercise 2: Area of a Field\n",
    "#### Create a program that reads the length and width of a farmer’s field from the user in feet. Display the area of the field in acres.\n",
    "##### Hint: There are 43,560 square feet in an acre."
   ]
  },
  {
   "cell_type": "code",
   "execution_count": 9,
   "id": "f4da6280",
   "metadata": {},
   "outputs": [],
   "source": [
    "SQR_Ft_in_ac = 43560"
   ]
  },
  {
   "cell_type": "code",
   "execution_count": 10,
   "id": "74c452dd",
   "metadata": {},
   "outputs": [
    {
     "name": "stdout",
     "output_type": "stream",
     "text": [
      "please enter width of the room : 1000\n",
      "please enter length of the room : 2000\n"
     ]
    }
   ],
   "source": [
    "width = float(input(\"please enter width of the room : \"))\n",
    "length=float(input(\"please enter length of the room : \"))"
   ]
  },
  {
   "cell_type": "code",
   "execution_count": 11,
   "id": "0c98a32f",
   "metadata": {},
   "outputs": [],
   "source": [
    "area = width * length"
   ]
  },
  {
   "cell_type": "code",
   "execution_count": 12,
   "id": "4da05569",
   "metadata": {},
   "outputs": [
    {
     "name": "stdout",
     "output_type": "stream",
     "text": [
      "45.91368227731864\n"
     ]
    }
   ],
   "source": [
    "area_in_acre = area / SQR_Ft_in_ac\n",
    "print(area_in_acre)"
   ]
  },
  {
   "cell_type": "markdown",
   "id": "fb9474db-ed84-4bf4-800c-0e8b08f73694",
   "metadata": {},
   "source": [
    "### Exercise 3: Tax and Tip\n",
    "#### The program that you create for this exercise will begin by reading the cost of a meal ordered at a restaurant from the user. Then your program will compute the tax and tip for the meal. Use your local tax rate when computing the amount of tax owing. Compute the tip as 18 percent of the meal amount (without the tax). The output from your program should include the tax amount, the tip amount, and the grand total for the meal including both the tax and the tip. Format the output so that all of the values are displayed using two decimal places.\n"
   ]
  },
  {
   "cell_type": "code",
   "execution_count": 10,
   "id": "f79790d7-d580-4a27-b026-241d7447fe1a",
   "metadata": {},
   "outputs": [
    {
     "name": "stdin",
     "output_type": "stream",
     "text": [
      "please enter cost of your meal :  1538\n"
     ]
    },
    {
     "name": "stdout",
     "output_type": "stream",
     "text": [
      "you must pay 153.80 and 276.84 tip. your total payment is 1968.64\n"
     ]
    }
   ],
   "source": [
    "meal_cost = float(input(\"please enter cost of your meal : \"))\n",
    "tax_rate = 0.1 # 10 percent\n",
    "tip_rate = 0.18 # 18 percent\n",
    "tax_payment = meal_cost * tax_rate\n",
    "tip_payment = meal_cost * tip_rate\n",
    "total_payment = meal_cost + tax_payment + tip_payment\n",
    "print(f\"you must pay {tax_payment:.2f} and {tip_payment:.2f} tip. your total payment is {total_payment:.2f}\")"
   ]
  },
  {
   "cell_type": "markdown",
   "id": "ed02bd79-243e-4f29-a456-bad9778a24ee",
   "metadata": {},
   "source": [
    "\n",
    "### Exercise 4: Sum of the First n Positive Integers\n",
    "#### Write a program that reads a positive integer, n, from the user and then displays the sum of all of the integers from 1 to n. The sum of the first n positive integers can be\n"
   ]
  },
  {
   "cell_type": "code",
   "execution_count": 13,
   "id": "4477e351-6b51-43ba-8f2e-395c8ff7da62",
   "metadata": {},
   "outputs": [
    {
     "name": "stdin",
     "output_type": "stream",
     "text": [
      "please enter your n :  10\n"
     ]
    },
    {
     "name": "stdout",
     "output_type": "stream",
     "text": [
      "55.0\n"
     ]
    }
   ],
   "source": [
    "n = int(input(\"please enter your n : \"))\n",
    "sum = (n * (n+1)) / 2\n",
    "print(sum)"
   ]
  },
  {
   "cell_type": "markdown",
   "id": "acdfceed-47ef-41c1-8bd8-fa356a074ed0",
   "metadata": {},
   "source": [
    "### Exercise 5: Compound Interest\n",
    "#### Pretend that you have just opened a new savings account that earns 4 percent interest per year. The interest that you earn is paid at the end of the year, and is added to the balance of the savings account. Write a program that begins by reading the amount of money deposited into the account from the user. Then your program should compute and display the amount in the savings account after 1, 2, and 3 years. Display each amount so that it is rounded to 2 decimal places."
   ]
  },
  {
   "cell_type": "code",
   "execution_count": 20,
   "id": "3b2ae800-28b6-4a3f-b81d-b27af10d7096",
   "metadata": {},
   "outputs": [
    {
     "name": "stdin",
     "output_type": "stream",
     "text": [
      "please enter amount of your money :  100\n"
     ]
    },
    {
     "name": "stdout",
     "output_type": "stream",
     "text": [
      "your monye will be 140.00 after one year\n",
      "your monye will be 196.00 after two year\n",
      "your monye will be 274.40 after three year\n"
     ]
    }
   ],
   "source": [
    "your_money = float(input(\"please enter amount of your money : \"))\n",
    "rate_per_year = 0.4\n",
    "after_one_year = your_money + your_money * rate_per_year\n",
    "after_two_year = after_one_year + after_one_year * rate_per_year\n",
    "after_three_year = after_two_year + after_two_year * rate_per_year\n",
    "print(f\"your monye will be {after_one_year:.2f} after one year\")\n",
    "print(f\"your monye will be {after_two_year:.2f} after two year\")\n",
    "print(f\"your monye will be {after_three_year:.2f} after three year\")"
   ]
  },
  {
   "cell_type": "code",
   "execution_count": null,
   "id": "cd491661-226b-4a54-b77b-b2049e2055e5",
   "metadata": {},
   "outputs": [],
   "source": []
  }
 ],
 "metadata": {
  "kernelspec": {
   "display_name": "Python [conda env:base] *",
   "language": "python",
   "name": "conda-base-py"
  },
  "language_info": {
   "codemirror_mode": {
    "name": "ipython",
    "version": 3
   },
   "file_extension": ".py",
   "mimetype": "text/x-python",
   "name": "python",
   "nbconvert_exporter": "python",
   "pygments_lexer": "ipython3",
   "version": "3.12.7"
  }
 },
 "nbformat": 4,
 "nbformat_minor": 5
}
