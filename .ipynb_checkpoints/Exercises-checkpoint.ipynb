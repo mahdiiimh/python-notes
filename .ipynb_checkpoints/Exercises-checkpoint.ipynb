{
 "cells": [
  {
   "cell_type": "markdown",
   "id": "c16e2d0e",
   "metadata": {},
   "source": [
    "### Exercise 1: Area of a Room\n",
    "##### Write a program that asks the user to enter the width and length of a room. Once these values have been read, your program should compute and display the area of the room. The length and the width will be entered as floating-point numbers. Include units in your prompt and output message; either feet or meters, depending on which unit you are more comfortable working with."
   ]
  },
  {
   "cell_type": "code",
   "execution_count": 5,
   "id": "10703299",
   "metadata": {},
   "outputs": [
    {
     "name": "stdout",
     "output_type": "stream",
     "text": [
      "please enter width of the room : 4.2\n"
     ]
    }
   ],
   "source": [
    "width = float(input(\"please enter width of the room : \"))"
   ]
  },
  {
   "cell_type": "code",
   "execution_count": 6,
   "id": "615adf1b",
   "metadata": {},
   "outputs": [
    {
     "name": "stdout",
     "output_type": "stream",
     "text": [
      "please enter length of the room : 5\n"
     ]
    }
   ],
   "source": [
    "length=float(input(\"please enter length of the room : \"))"
   ]
  },
  {
   "cell_type": "code",
   "execution_count": 7,
   "id": "2236ac08",
   "metadata": {},
   "outputs": [
    {
     "name": "stdout",
     "output_type": "stream",
     "text": [
      "4.2\n",
      "5.0\n"
     ]
    }
   ],
   "source": [
    "print(width)\n",
    "print(length)"
   ]
  },
  {
   "cell_type": "code",
   "execution_count": 8,
   "id": "6a1d9ff4",
   "metadata": {},
   "outputs": [
    {
     "name": "stdout",
     "output_type": "stream",
     "text": [
      "21.0\n"
     ]
    }
   ],
   "source": [
    "area = length * width\n",
    "print(area)"
   ]
  },
  {
   "cell_type": "markdown",
   "id": "e38d6a54",
   "metadata": {},
   "source": [
    "### Exercise 2: Area of a Field\n",
    "#### Create a program that reads the length and width of a farmer’s field from the user in feet. Display the area of the field in acres.\n",
    "##### Hint: There are 43,560 square feet in an acre."
   ]
  },
  {
   "cell_type": "code",
   "execution_count": 9,
   "id": "f4da6280",
   "metadata": {},
   "outputs": [],
   "source": [
    "SQR_Ft_in_ac = 43560"
   ]
  },
  {
   "cell_type": "code",
   "execution_count": 10,
   "id": "74c452dd",
   "metadata": {},
   "outputs": [
    {
     "name": "stdout",
     "output_type": "stream",
     "text": [
      "please enter width of the room : 1000\n",
      "please enter length of the room : 2000\n"
     ]
    }
   ],
   "source": [
    "width = float(input(\"please enter width of the room : \"))\n",
    "length=float(input(\"please enter length of the room : \"))"
   ]
  },
  {
   "cell_type": "code",
   "execution_count": 11,
   "id": "0c98a32f",
   "metadata": {},
   "outputs": [],
   "source": [
    "area = width * length"
   ]
  },
  {
   "cell_type": "code",
   "execution_count": 12,
   "id": "4da05569",
   "metadata": {},
   "outputs": [
    {
     "name": "stdout",
     "output_type": "stream",
     "text": [
      "45.91368227731864\n"
     ]
    }
   ],
   "source": [
    "area_in_acre = area / SQR_Ft_in_ac\n",
    "print(area_in_acre)"
   ]
  },
  {
   "cell_type": "markdown",
   "id": "fb9474db-ed84-4bf4-800c-0e8b08f73694",
   "metadata": {},
   "source": [
    "### Exercise 3: Bottle Deposits\n",
    "#### In many jurisdictions a small deposit is added to drink containers to encourage people to recycle them. In one particular jurisdiction, drink containers holding one liter or less have a $ 0.10 deposit, and drink containers holding more than one liter have a  0.25 deposit.Write a program that reads the number of containers of each size from the user.\n",
    "#### Your program should continue by computing and displaying the refund that will be received for returning those containers. Format the output so that it includes a dollar sign and two digits to the right of the decimal point."
   ]
  },
  {
   "cell_type": "code",
   "execution_count": null,
   "id": "f79790d7-d580-4a27-b026-241d7447fe1a",
   "metadata": {},
   "outputs": [],
   "source": []
  }
 ],
 "metadata": {
  "kernelspec": {
   "display_name": "Python [conda env:base] *",
   "language": "python",
   "name": "conda-base-py"
  },
  "language_info": {
   "codemirror_mode": {
    "name": "ipython",
    "version": 3
   },
   "file_extension": ".py",
   "mimetype": "text/x-python",
   "name": "python",
   "nbconvert_exporter": "python",
   "pygments_lexer": "ipython3",
   "version": "3.12.7"
  }
 },
 "nbformat": 4,
 "nbformat_minor": 5
}
