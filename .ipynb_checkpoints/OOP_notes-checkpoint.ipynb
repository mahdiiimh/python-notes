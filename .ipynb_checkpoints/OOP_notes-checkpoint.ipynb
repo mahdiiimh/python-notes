{
 "cells": [
  {
   "cell_type": "code",
   "execution_count": 1,
   "id": "9b74f595",
   "metadata": {},
   "outputs": [],
   "source": [
    "### object.method()"
   ]
  },
  {
   "cell_type": "code",
   "execution_count": 7,
   "id": "c006e566",
   "metadata": {},
   "outputs": [],
   "source": [
    "class ClassName():\n",
    "    def __init__(self,param1): # method\n",
    "        self.param1=param1 # attribute\n",
    "        print('object created')\n",
    "    def say_hello(self): # method\n",
    "        print(\"hello\")"
   ]
  },
  {
   "cell_type": "code",
   "execution_count": 8,
   "id": "be209679",
   "metadata": {},
   "outputs": [
    {
     "name": "stdout",
     "output_type": "stream",
     "text": [
      "object created\n"
     ]
    }
   ],
   "source": [
    "t = ClassName(5) # instance of class"
   ]
  },
  {
   "cell_type": "code",
   "execution_count": 9,
   "id": "52cdccd4",
   "metadata": {},
   "outputs": [
    {
     "data": {
      "text/plain": [
       "5"
      ]
     },
     "execution_count": 9,
     "metadata": {},
     "output_type": "execute_result"
    }
   ],
   "source": [
    "t.param1"
   ]
  },
  {
   "cell_type": "code",
   "execution_count": 10,
   "id": "9025e22d",
   "metadata": {},
   "outputs": [
    {
     "name": "stdout",
     "output_type": "stream",
     "text": [
      "hello\n"
     ]
    }
   ],
   "source": [
    "t.say_hello()"
   ]
  },
  {
   "cell_type": "code",
   "execution_count": 11,
   "id": "e88bb022",
   "metadata": {},
   "outputs": [],
   "source": [
    "class Book():\n",
    "    def __init__(self,page): ## selfe dare be instance eshare mikone\n",
    "        self.pages=page\n",
    "        "
   ]
  },
  {
   "cell_type": "code",
   "execution_count": 13,
   "id": "d7b7bc87",
   "metadata": {},
   "outputs": [],
   "source": [
    "my_book = Book(540)"
   ]
  },
  {
   "cell_type": "code",
   "execution_count": 14,
   "id": "6dd2a62a",
   "metadata": {},
   "outputs": [
    {
     "data": {
      "text/plain": [
       "540"
      ]
     },
     "execution_count": 14,
     "metadata": {},
     "output_type": "execute_result"
    }
   ],
   "source": [
    "my_book.pages "
   ]
  },
  {
   "cell_type": "code",
   "execution_count": 15,
   "id": "f5f31c05",
   "metadata": {},
   "outputs": [],
   "source": [
    "## methods"
   ]
  },
  {
   "cell_type": "code",
   "execution_count": 24,
   "id": "29889c13",
   "metadata": {},
   "outputs": [],
   "source": [
    "class Book():\n",
    "    book_type = \"horror\"\n",
    "    def __init__(self,page): ## selfe dare be instance eshare mikone\n",
    "        self.pages=page ## pages attribute\n",
    "    def open(self):\n",
    "        print(f\"open the book on last pages ({self.pages})\")"
   ]
  },
  {
   "cell_type": "code",
   "execution_count": 25,
   "id": "6b0bce8a",
   "metadata": {},
   "outputs": [],
   "source": [
    "t = Book(300)"
   ]
  },
  {
   "cell_type": "code",
   "execution_count": 26,
   "id": "5d7b771e",
   "metadata": {},
   "outputs": [
    {
     "name": "stdout",
     "output_type": "stream",
     "text": [
      "open the book on last pages (300)\n"
     ]
    }
   ],
   "source": [
    "t.open()"
   ]
  },
  {
   "cell_type": "code",
   "execution_count": 27,
   "id": "1caa821a",
   "metadata": {},
   "outputs": [
    {
     "data": {
      "text/plain": [
       "'horror'"
      ]
     },
     "execution_count": 27,
     "metadata": {},
     "output_type": "execute_result"
    }
   ],
   "source": [
    "t.book_type"
   ]
  },
  {
   "cell_type": "code",
   "execution_count": 28,
   "id": "e2e5c2c7",
   "metadata": {},
   "outputs": [],
   "source": [
    "b2 = Book(500)"
   ]
  },
  {
   "cell_type": "code",
   "execution_count": 29,
   "id": "5275582c",
   "metadata": {},
   "outputs": [
    {
     "data": {
      "text/plain": [
       "'horror'"
      ]
     },
     "execution_count": 29,
     "metadata": {},
     "output_type": "execute_result"
    }
   ],
   "source": [
    "b2.book_type"
   ]
  },
  {
   "cell_type": "code",
   "execution_count": 30,
   "id": "4940ecd8",
   "metadata": {},
   "outputs": [],
   "source": [
    "t.book_type=\"funny\""
   ]
  },
  {
   "cell_type": "code",
   "execution_count": 31,
   "id": "ee003277",
   "metadata": {},
   "outputs": [
    {
     "data": {
      "text/plain": [
       "'funny'"
      ]
     },
     "execution_count": 31,
     "metadata": {},
     "output_type": "execute_result"
    }
   ],
   "source": [
    "t.book_type"
   ]
  },
  {
   "cell_type": "code",
   "execution_count": 32,
   "id": "c7703fcc",
   "metadata": {},
   "outputs": [
    {
     "data": {
      "text/plain": [
       "'horror'"
      ]
     },
     "execution_count": 32,
     "metadata": {},
     "output_type": "execute_result"
    }
   ],
   "source": [
    "b2.book_type"
   ]
  },
  {
   "cell_type": "code",
   "execution_count": 44,
   "id": "2ed7c9c1",
   "metadata": {},
   "outputs": [],
   "source": [
    "class Circle():\n",
    "    pi=3.141516\n",
    "    def __init__(self,r):\n",
    "        self.r = r\n",
    "    def masahat(self):\n",
    "        mas = self.r ** 2 * Circle.pi ## or self.pi\n",
    "        return mas\n",
    "    def mohit(self):\n",
    "        moh = 2* Circle.pi * self.r\n",
    "        return moh\n",
    "    "
   ]
  },
  {
   "cell_type": "code",
   "execution_count": 45,
   "id": "7845ffc2",
   "metadata": {},
   "outputs": [],
   "source": [
    "c1 = Circle(10)"
   ]
  },
  {
   "cell_type": "code",
   "execution_count": 46,
   "id": "a02efeba",
   "metadata": {},
   "outputs": [
    {
     "name": "stdout",
     "output_type": "stream",
     "text": [
      "314.15160000000003\n"
     ]
    }
   ],
   "source": [
    "print(c1.masahat())"
   ]
  },
  {
   "cell_type": "code",
   "execution_count": 47,
   "id": "df05d739",
   "metadata": {},
   "outputs": [
    {
     "name": "stdout",
     "output_type": "stream",
     "text": [
      "62.83032\n"
     ]
    }
   ],
   "source": [
    "print(c1.mohit())"
   ]
  },
  {
   "cell_type": "code",
   "execution_count": 48,
   "id": "9274bef0",
   "metadata": {},
   "outputs": [],
   "source": [
    "## inhertiance"
   ]
  },
  {
   "cell_type": "code",
   "execution_count": 52,
   "id": "a5610bb8",
   "metadata": {},
   "outputs": [],
   "source": [
    "class Book():\n",
    "    def __init__(self,name,page): ## selfe dare be instance eshare mikone\n",
    "        self.pages=page ## pages attribute\n",
    "        self.name= name\n",
    "    def open(self): #override\n",
    "        print(f\"open the {self.name} with ({self.pages})\")"
   ]
  },
  {
   "cell_type": "code",
   "execution_count": 53,
   "id": "b368e396",
   "metadata": {},
   "outputs": [],
   "source": [
    "b1 = Book(\"C\",234)"
   ]
  },
  {
   "cell_type": "code",
   "execution_count": 54,
   "id": "3cc01849",
   "metadata": {},
   "outputs": [
    {
     "name": "stdout",
     "output_type": "stream",
     "text": [
      "open the C with (234)\n"
     ]
    }
   ],
   "source": [
    "b1.open()"
   ]
  },
  {
   "cell_type": "code",
   "execution_count": 65,
   "id": "1c8bf60b",
   "metadata": {},
   "outputs": [],
   "source": [
    "class Darsi(Book): # darsi az book ers mibare\n",
    "    def __init__(self,reshte,paye,name,pages):\n",
    "        Book.__init__(self,name,pages)\n",
    "        print(\"new darsi book\")\n",
    "        self.reshte=reshte\n",
    "        self.paye = paye\n",
    "    def open(self):\n",
    "        print(f\"opened {self.name} of {self.reshte} which has {self.pages}\")\n",
    "        "
   ]
  },
  {
   "cell_type": "code",
   "execution_count": 66,
   "id": "898bcacb",
   "metadata": {},
   "outputs": [
    {
     "name": "stdout",
     "output_type": "stream",
     "text": [
      "new darsi book\n"
     ]
    }
   ],
   "source": [
    "d = Darsi(\"riazi\",3 , \"300 nokte\" , 120)"
   ]
  },
  {
   "cell_type": "code",
   "execution_count": 67,
   "id": "ef26faf2",
   "metadata": {},
   "outputs": [
    {
     "data": {
      "text/plain": [
       "120"
      ]
     },
     "execution_count": 67,
     "metadata": {},
     "output_type": "execute_result"
    }
   ],
   "source": [
    "d.pages"
   ]
  },
  {
   "cell_type": "code",
   "execution_count": 68,
   "id": "c467cb75",
   "metadata": {},
   "outputs": [
    {
     "data": {
      "text/plain": [
       "'300 nokte'"
      ]
     },
     "execution_count": 68,
     "metadata": {},
     "output_type": "execute_result"
    }
   ],
   "source": [
    "d.name"
   ]
  },
  {
   "cell_type": "code",
   "execution_count": 69,
   "id": "8eb3c5e3",
   "metadata": {},
   "outputs": [
    {
     "name": "stdout",
     "output_type": "stream",
     "text": [
      "opened300 nokte of riazi which has 120\n"
     ]
    }
   ],
   "source": [
    "d.open()"
   ]
  },
  {
   "cell_type": "code",
   "execution_count": 70,
   "id": "2e1851d4",
   "metadata": {},
   "outputs": [
    {
     "data": {
      "text/plain": [
       "'riazi'"
      ]
     },
     "execution_count": 70,
     "metadata": {},
     "output_type": "execute_result"
    }
   ],
   "source": [
    "d.reshte"
   ]
  },
  {
   "cell_type": "code",
   "execution_count": 71,
   "id": "71b4c9fa",
   "metadata": {},
   "outputs": [],
   "source": [
    "## polymorphism"
   ]
  },
  {
   "cell_type": "code",
   "execution_count": 72,
   "id": "fcc97ef8",
   "metadata": {},
   "outputs": [],
   "source": [
    "class Runner():\n",
    "    def __init__(self,name):\n",
    "        self.name=name\n",
    "    def action(self):\n",
    "        print(f\"{self.name} is running\")"
   ]
  },
  {
   "cell_type": "code",
   "execution_count": 73,
   "id": "f9647359",
   "metadata": {},
   "outputs": [],
   "source": [
    "sara = Runner(\"sara\")"
   ]
  },
  {
   "cell_type": "code",
   "execution_count": 74,
   "id": "919e048b",
   "metadata": {},
   "outputs": [
    {
     "name": "stdout",
     "output_type": "stream",
     "text": [
      "sara is running\n"
     ]
    }
   ],
   "source": [
    "sara.action()"
   ]
  },
  {
   "cell_type": "code",
   "execution_count": 75,
   "id": "975f0c66",
   "metadata": {},
   "outputs": [],
   "source": [
    "class Cyclist():\n",
    "    def __init__(self,name):\n",
    "        self.name=name\n",
    "    def action(self):\n",
    "        print(f\"{self.name} is biking\")"
   ]
  },
  {
   "cell_type": "code",
   "execution_count": 76,
   "id": "90854dd1",
   "metadata": {},
   "outputs": [],
   "source": [
    "mahdi = Cyclist('Mahdi')"
   ]
  },
  {
   "cell_type": "code",
   "execution_count": 77,
   "id": "5668e338",
   "metadata": {},
   "outputs": [
    {
     "name": "stdout",
     "output_type": "stream",
     "text": [
      "Mahdi is biking\n"
     ]
    }
   ],
   "source": [
    "mahdi.action()"
   ]
  },
  {
   "cell_type": "code",
   "execution_count": 78,
   "id": "5d14e5eb",
   "metadata": {},
   "outputs": [
    {
     "name": "stdout",
     "output_type": "stream",
     "text": [
      "Mahdi is biking\n",
      "sara is running\n"
     ]
    }
   ],
   "source": [
    "for person in [mahdi,sara]:\n",
    "    person.action()"
   ]
  },
  {
   "cell_type": "code",
   "execution_count": 79,
   "id": "7f8deab2",
   "metadata": {},
   "outputs": [],
   "source": [
    "## abstract method"
   ]
  },
  {
   "cell_type": "code",
   "execution_count": 80,
   "id": "c9d80626",
   "metadata": {},
   "outputs": [],
   "source": [
    "class human():\n",
    "    def __init__(self,name):\n",
    "        pass\n",
    "    def jump(self):\n",
    "        raise NotImplementedError(\"implement the jump\")"
   ]
  },
  {
   "cell_type": "code",
   "execution_count": 81,
   "id": "638b560d",
   "metadata": {},
   "outputs": [],
   "source": [
    "class programmer(human):\n",
    "    pass"
   ]
  },
  {
   "cell_type": "code",
   "execution_count": 82,
   "id": "b2c87a6c",
   "metadata": {},
   "outputs": [],
   "source": [
    "mahdi = programmer('mahdi')"
   ]
  },
  {
   "cell_type": "code",
   "execution_count": 83,
   "id": "26d1e32c",
   "metadata": {},
   "outputs": [
    {
     "ename": "NotImplementedError",
     "evalue": "implement the jump",
     "output_type": "error",
     "traceback": [
      "\u001b[0;31m---------------------------------------------------------------------------\u001b[0m",
      "\u001b[0;31mNotImplementedError\u001b[0m                       Traceback (most recent call last)",
      "\u001b[0;32m/var/folders/r9/sv2l0znj5xbg1cbcvnh09h4c0000gn/T/ipykernel_77107/2621386691.py\u001b[0m in \u001b[0;36m<module>\u001b[0;34m\u001b[0m\n\u001b[0;32m----> 1\u001b[0;31m \u001b[0mmahdi\u001b[0m\u001b[0;34m.\u001b[0m\u001b[0mjump\u001b[0m\u001b[0;34m(\u001b[0m\u001b[0;34m)\u001b[0m\u001b[0;34m\u001b[0m\u001b[0;34m\u001b[0m\u001b[0m\n\u001b[0m",
      "\u001b[0;32m/var/folders/r9/sv2l0znj5xbg1cbcvnh09h4c0000gn/T/ipykernel_77107/2003192269.py\u001b[0m in \u001b[0;36mjump\u001b[0;34m(self)\u001b[0m\n\u001b[1;32m      3\u001b[0m         \u001b[0;32mpass\u001b[0m\u001b[0;34m\u001b[0m\u001b[0;34m\u001b[0m\u001b[0m\n\u001b[1;32m      4\u001b[0m     \u001b[0;32mdef\u001b[0m \u001b[0mjump\u001b[0m\u001b[0;34m(\u001b[0m\u001b[0mself\u001b[0m\u001b[0;34m)\u001b[0m\u001b[0;34m:\u001b[0m\u001b[0;34m\u001b[0m\u001b[0;34m\u001b[0m\u001b[0m\n\u001b[0;32m----> 5\u001b[0;31m         \u001b[0;32mraise\u001b[0m \u001b[0mNotImplementedError\u001b[0m\u001b[0;34m(\u001b[0m\u001b[0;34m\"implement the jump\"\u001b[0m\u001b[0;34m)\u001b[0m\u001b[0;34m\u001b[0m\u001b[0;34m\u001b[0m\u001b[0m\n\u001b[0m",
      "\u001b[0;31mNotImplementedError\u001b[0m: implement the jump"
     ]
    }
   ],
   "source": [
    "mahdi.jump()"
   ]
  },
  {
   "cell_type": "code",
   "execution_count": 84,
   "id": "20575a87",
   "metadata": {},
   "outputs": [],
   "source": [
    "## dunder(double underscore) - special mehtods , magic methods"
   ]
  },
  {
   "cell_type": "code",
   "execution_count": 94,
   "id": "ed9e20ce",
   "metadata": {},
   "outputs": [],
   "source": [
    "class Book():\n",
    "    def __init__(self,name,page): ## selfe dare be instance eshare mikone\n",
    "        self.pages=page ## pages attribute\n",
    "        self.name= name\n",
    "    def open(self): #override\n",
    "        print(f\"open the {self.name} with ({self.pages})\")\n",
    "    def __len__(self):\n",
    "        return self.pages\n",
    "    def __str__(self):\n",
    "        r = f\"{self.name} , {self.pages}\"\n",
    "        return r\n",
    "    def __del__(self):\n",
    "        print(\"book is deleted\")"
   ]
  },
  {
   "cell_type": "code",
   "execution_count": 95,
   "id": "94dcbb5e",
   "metadata": {},
   "outputs": [],
   "source": [
    "b = Book(\"C programming\" , 241)"
   ]
  },
  {
   "cell_type": "code",
   "execution_count": 96,
   "id": "58ed6b01",
   "metadata": {},
   "outputs": [
    {
     "name": "stdout",
     "output_type": "stream",
     "text": [
      "C programming , 241\n"
     ]
    }
   ],
   "source": [
    "print(b) ## mire __str__ ro migire"
   ]
  },
  {
   "cell_type": "code",
   "execution_count": 97,
   "id": "55f4a18c",
   "metadata": {},
   "outputs": [
    {
     "data": {
      "text/plain": [
       "241"
      ]
     },
     "execution_count": 97,
     "metadata": {},
     "output_type": "execute_result"
    }
   ],
   "source": [
    "len(b)"
   ]
  },
  {
   "cell_type": "code",
   "execution_count": 98,
   "id": "04590801",
   "metadata": {},
   "outputs": [
    {
     "name": "stdout",
     "output_type": "stream",
     "text": [
      "book is deleted\n"
     ]
    }
   ],
   "source": [
    "del b"
   ]
  },
  {
   "cell_type": "code",
   "execution_count": 99,
   "id": "35d183df",
   "metadata": {},
   "outputs": [],
   "source": [
    "## exercise "
   ]
  },
  {
   "cell_type": "code",
   "execution_count": 114,
   "id": "38818529",
   "metadata": {},
   "outputs": [],
   "source": [
    "class Animal():\n",
    "    def __init__(self, name, species, age, sound, zoo_name):\n",
    "        self.name=name\n",
    "        self.species=species\n",
    "        self.age=age\n",
    "        self.sound=sound\n",
    "        self.zoo_name=zoo_name\n",
    "\n",
    "    def make_sound(self):\n",
    "        print(f\"{self.name} has {self.sound}. \")\n",
    "    \n",
    "    def info(self):\n",
    "        print(f\"{self.name} is a {self.species} with {self.age} years old with {self.sound} which lives in {self.zoo_name}\")\n",
    "   \n",
    "    def __str__(self):\n",
    "        return f\"{self.name} is a {self.species} with {self.age} years old with {self.sound} which lives in {self.zoo_name}\""
   ]
  },
  {
   "cell_type": "code",
   "execution_count": 115,
   "id": "cc4f9f43",
   "metadata": {},
   "outputs": [],
   "source": [
    "a1=Animal(\"cat\",\"gorbeSan\",5,\"Meow\",\"Eram\")"
   ]
  },
  {
   "cell_type": "code",
   "execution_count": 116,
   "id": "3f12c131",
   "metadata": {},
   "outputs": [
    {
     "data": {
      "text/plain": [
       "'Meow'"
      ]
     },
     "execution_count": 116,
     "metadata": {},
     "output_type": "execute_result"
    }
   ],
   "source": [
    "a1.sound"
   ]
  },
  {
   "cell_type": "code",
   "execution_count": 117,
   "id": "df67e69a",
   "metadata": {},
   "outputs": [
    {
     "name": "stdout",
     "output_type": "stream",
     "text": [
      "cat has Meow. \n"
     ]
    }
   ],
   "source": [
    "a1.make_sound()"
   ]
  },
  {
   "cell_type": "code",
   "execution_count": 118,
   "id": "3e72d81a",
   "metadata": {},
   "outputs": [
    {
     "name": "stdout",
     "output_type": "stream",
     "text": [
      "cat is a gorbeSan with 5 years old with Meow which lives in Eram\n"
     ]
    }
   ],
   "source": [
    "a1.info()"
   ]
  },
  {
   "cell_type": "code",
   "execution_count": 119,
   "id": "35e44836",
   "metadata": {},
   "outputs": [],
   "source": [
    "class Bird(Animal):\n",
    "    def __init__(self, wing_span, name, species, age, sound, zoo_name):\n",
    "        Animal.__init__(self,name,species,age,sound,zoo_name)\n",
    "        self.wing_span=wing_span\n",
    "    def make_sound(self):\n",
    "        print(f\"{self.sound}\")\n"
   ]
  },
  {
   "cell_type": "code",
   "execution_count": 120,
   "id": "c5203ece",
   "metadata": {},
   "outputs": [],
   "source": [
    "b1=Bird(5,\"gonjeshk\",\"birds\",20,\"jik\",\"dmv\")"
   ]
  },
  {
   "cell_type": "code",
   "execution_count": 121,
   "id": "065ed451",
   "metadata": {},
   "outputs": [
    {
     "name": "stdout",
     "output_type": "stream",
     "text": [
      "gonjeshk is a birds with 20 years old with jik which lives in dmv\n"
     ]
    }
   ],
   "source": [
    "b1.info()"
   ]
  },
  {
   "cell_type": "code",
   "execution_count": 122,
   "id": "0561b168",
   "metadata": {},
   "outputs": [
    {
     "name": "stdout",
     "output_type": "stream",
     "text": [
      "jik\n"
     ]
    }
   ],
   "source": [
    "b1.make_sound()"
   ]
  },
  {
   "cell_type": "code",
   "execution_count": 123,
   "id": "9fe733ef",
   "metadata": {},
   "outputs": [
    {
     "name": "stdout",
     "output_type": "stream",
     "text": [
      "cat has Meow. \n"
     ]
    }
   ],
   "source": [
    "a1.make_sound()"
   ]
  },
  {
   "cell_type": "code",
   "execution_count": 124,
   "id": "dbd899d7",
   "metadata": {},
   "outputs": [
    {
     "name": "stdout",
     "output_type": "stream",
     "text": [
      "cat is a gorbeSan with 5 years old with Meow which lives in Eram\n"
     ]
    }
   ],
   "source": [
    "print(a1)"
   ]
  },
  {
   "cell_type": "code",
   "execution_count": 125,
   "id": "6d913dfc",
   "metadata": {},
   "outputs": [
    {
     "name": "stdout",
     "output_type": "stream",
     "text": [
      "gonjeshk is a birds with 20 years old with jik which lives in dmv\n"
     ]
    }
   ],
   "source": [
    "print(b1)"
   ]
  },
  {
   "cell_type": "code",
   "execution_count": null,
   "id": "079e24a3",
   "metadata": {},
   "outputs": [],
   "source": []
  }
 ],
 "metadata": {
  "kernelspec": {
   "display_name": "Python 3 (ipykernel)",
   "language": "python",
   "name": "python3"
  },
  "language_info": {
   "codemirror_mode": {
    "name": "ipython",
    "version": 3
   },
   "file_extension": ".py",
   "mimetype": "text/x-python",
   "name": "python",
   "nbconvert_exporter": "python",
   "pygments_lexer": "ipython3",
   "version": "3.9.7"
  }
 },
 "nbformat": 4,
 "nbformat_minor": 5
}
