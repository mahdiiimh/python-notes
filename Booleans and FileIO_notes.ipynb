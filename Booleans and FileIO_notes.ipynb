{
 "cells": [
  {
   "cell_type": "markdown",
   "id": "3e1a05c6",
   "metadata": {},
   "source": [
    "### bool ---> 0 or 1 / True or False\n"
   ]
  },
  {
   "cell_type": "code",
   "execution_count": 1,
   "id": "ee3fe29c",
   "metadata": {},
   "outputs": [
    {
     "data": {
      "text/plain": [
       "True"
      ]
     },
     "execution_count": 1,
     "metadata": {},
     "output_type": "execute_result"
    }
   ],
   "source": [
    "12>4"
   ]
  },
  {
   "cell_type": "code",
   "execution_count": 2,
   "id": "7a62d935",
   "metadata": {},
   "outputs": [
    {
     "data": {
      "text/plain": [
       "False"
      ]
     },
     "execution_count": 2,
     "metadata": {},
     "output_type": "execute_result"
    }
   ],
   "source": [
    "12<4"
   ]
  },
  {
   "cell_type": "markdown",
   "id": "9f821885",
   "metadata": {},
   "source": [
    "### > , < , >= , <= , =="
   ]
  },
  {
   "cell_type": "code",
   "execution_count": 3,
   "id": "4e658d54",
   "metadata": {},
   "outputs": [],
   "source": [
    "s = \"123\""
   ]
  },
  {
   "cell_type": "code",
   "execution_count": 4,
   "id": "b066acdf",
   "metadata": {},
   "outputs": [
    {
     "data": {
      "text/plain": [
       "True"
      ]
     },
     "execution_count": 4,
     "metadata": {},
     "output_type": "execute_result"
    }
   ],
   "source": [
    "s.isdigit()"
   ]
  },
  {
   "cell_type": "code",
   "execution_count": 5,
   "id": "333a6c0e",
   "metadata": {},
   "outputs": [],
   "source": [
    "s=\"ali\""
   ]
  },
  {
   "cell_type": "code",
   "execution_count": 6,
   "id": "9f7f2bbd",
   "metadata": {},
   "outputs": [
    {
     "data": {
      "text/plain": [
       "False"
      ]
     },
     "execution_count": 6,
     "metadata": {},
     "output_type": "execute_result"
    }
   ],
   "source": [
    "s.isdigit()"
   ]
  },
  {
   "cell_type": "code",
   "execution_count": 7,
   "id": "b5fc077a",
   "metadata": {},
   "outputs": [],
   "source": [
    "my_list=[1,2,3,\"mahdi\",3.14]"
   ]
  },
  {
   "cell_type": "code",
   "execution_count": 8,
   "id": "21290479",
   "metadata": {},
   "outputs": [
    {
     "data": {
      "text/plain": [
       "True"
      ]
     },
     "execution_count": 8,
     "metadata": {},
     "output_type": "execute_result"
    }
   ],
   "source": [
    "1 in my_list"
   ]
  },
  {
   "cell_type": "code",
   "execution_count": 9,
   "id": "f2154aea",
   "metadata": {},
   "outputs": [
    {
     "data": {
      "text/plain": [
       "False"
      ]
     },
     "execution_count": 9,
     "metadata": {},
     "output_type": "execute_result"
    }
   ],
   "source": [
    "14 in my_list"
   ]
  },
  {
   "cell_type": "code",
   "execution_count": 10,
   "id": "263b8c45",
   "metadata": {},
   "outputs": [],
   "source": [
    "heyvoons = { \"dog\" : 3 , \"gorbe\":12 , \"asb\" : 0}"
   ]
  },
  {
   "cell_type": "code",
   "execution_count": 11,
   "id": "b05a1ba1",
   "metadata": {},
   "outputs": [
    {
     "data": {
      "text/plain": [
       "True"
      ]
     },
     "execution_count": 11,
     "metadata": {},
     "output_type": "execute_result"
    }
   ],
   "source": [
    "\"asb\" in heyvoons"
   ]
  },
  {
   "cell_type": "code",
   "execution_count": 13,
   "id": "e37eb43b",
   "metadata": {},
   "outputs": [
    {
     "data": {
      "text/plain": [
       "True"
      ]
     },
     "execution_count": 13,
     "metadata": {},
     "output_type": "execute_result"
    }
   ],
   "source": [
    "\"gorbe\" in heyvoons"
   ]
  },
  {
   "cell_type": "code",
   "execution_count": 14,
   "id": "41b0162b",
   "metadata": {},
   "outputs": [
    {
     "data": {
      "text/plain": [
       "False"
      ]
     },
     "execution_count": 14,
     "metadata": {},
     "output_type": "execute_result"
    }
   ],
   "source": [
    "\"pashe\" in heyvoons"
   ]
  },
  {
   "cell_type": "markdown",
   "id": "96d1439e",
   "metadata": {},
   "source": [
    "### Files IO"
   ]
  },
  {
   "cell_type": "code",
   "execution_count": 15,
   "id": "5dda2471",
   "metadata": {},
   "outputs": [],
   "source": [
    "## File ham yek dataType ast"
   ]
  },
  {
   "cell_type": "code",
   "execution_count": 16,
   "id": "b0083017",
   "metadata": {},
   "outputs": [
    {
     "data": {
      "text/plain": [
       "'/Users/mahdi/Desktop'"
      ]
     },
     "execution_count": 16,
     "metadata": {},
     "output_type": "execute_result"
    }
   ],
   "source": [
    "pwd"
   ]
  },
  {
   "cell_type": "code",
   "execution_count": 17,
   "id": "58df79f1",
   "metadata": {},
   "outputs": [],
   "source": [
    "f = open(\"my_file.txt\")"
   ]
  },
  {
   "cell_type": "code",
   "execution_count": 18,
   "id": "ff6fdbab",
   "metadata": {},
   "outputs": [
    {
     "data": {
      "text/plain": [
       "_io.TextIOWrapper"
      ]
     },
     "execution_count": 18,
     "metadata": {},
     "output_type": "execute_result"
    }
   ],
   "source": [
    "type(f)"
   ]
  },
  {
   "cell_type": "code",
   "execution_count": 19,
   "id": "a9a53103",
   "metadata": {},
   "outputs": [
    {
     "data": {
      "text/plain": [
       "'hello this is my file\\nit is for test\\ni want to learn working with files in python\\n'"
      ]
     },
     "execution_count": 19,
     "metadata": {},
     "output_type": "execute_result"
    }
   ],
   "source": [
    "f.read() ## mikhonesh"
   ]
  },
  {
   "cell_type": "code",
   "execution_count": 20,
   "id": "b63dc895",
   "metadata": {},
   "outputs": [
    {
     "data": {
      "text/plain": [
       "''"
      ]
     },
     "execution_count": 20,
     "metadata": {},
     "output_type": "execute_result"
    }
   ],
   "source": [
    "f.read()"
   ]
  },
  {
   "cell_type": "code",
   "execution_count": 21,
   "id": "6889b016",
   "metadata": {},
   "outputs": [],
   "source": [
    "## dafe dovom khalie , chon dafe aval harchi tosh bode bargardonde "
   ]
  },
  {
   "cell_type": "code",
   "execution_count": 22,
   "id": "203bc6da",
   "metadata": {},
   "outputs": [
    {
     "data": {
      "text/plain": [
       "0"
      ]
     },
     "execution_count": 22,
     "metadata": {},
     "output_type": "execute_result"
    }
   ],
   "source": [
    "f.seek(0) ## mire balaye file "
   ]
  },
  {
   "cell_type": "code",
   "execution_count": 23,
   "id": "2727d796",
   "metadata": {},
   "outputs": [
    {
     "data": {
      "text/plain": [
       "'hello this is my file\\nit is for test\\ni want to learn working with files in python\\n'"
      ]
     },
     "execution_count": 23,
     "metadata": {},
     "output_type": "execute_result"
    }
   ],
   "source": [
    "f.read()"
   ]
  },
  {
   "cell_type": "code",
   "execution_count": 24,
   "id": "af67dc12",
   "metadata": {},
   "outputs": [
    {
     "name": "stdout",
     "output_type": "stream",
     "text": [
      "Writing funny.txt\n"
     ]
    }
   ],
   "source": [
    "%%writefile funny.txt\n",
    "this is another test\n",
    "helllloooo"
   ]
  },
  {
   "cell_type": "code",
   "execution_count": 25,
   "id": "b45ca025",
   "metadata": {},
   "outputs": [],
   "source": [
    "new_file = open(\"funny.txt\")"
   ]
  },
  {
   "cell_type": "code",
   "execution_count": 26,
   "id": "71bd7ac0",
   "metadata": {},
   "outputs": [],
   "source": [
    "lines=new_file.read()"
   ]
  },
  {
   "cell_type": "code",
   "execution_count": 27,
   "id": "2f8b227a",
   "metadata": {},
   "outputs": [
    {
     "data": {
      "text/plain": [
       "'this is another test\\nhelllloooo\\n'"
      ]
     },
     "execution_count": 27,
     "metadata": {},
     "output_type": "execute_result"
    }
   ],
   "source": [
    "lines"
   ]
  },
  {
   "cell_type": "code",
   "execution_count": 28,
   "id": "a93f1151",
   "metadata": {},
   "outputs": [
    {
     "data": {
      "text/plain": [
       "0"
      ]
     },
     "execution_count": 28,
     "metadata": {},
     "output_type": "execute_result"
    }
   ],
   "source": [
    "new_file.seek(0)"
   ]
  },
  {
   "cell_type": "code",
   "execution_count": 29,
   "id": "e4b2815e",
   "metadata": {},
   "outputs": [],
   "source": [
    "lines = new_file.readlines() # readline() ye khat ro mikhone"
   ]
  },
  {
   "cell_type": "code",
   "execution_count": 30,
   "id": "e41f0304",
   "metadata": {},
   "outputs": [
    {
     "data": {
      "text/plain": [
       "['this is another test\\n', 'helllloooo\\n']"
      ]
     },
     "execution_count": 30,
     "metadata": {},
     "output_type": "execute_result"
    }
   ],
   "source": [
    "lines"
   ]
  },
  {
   "cell_type": "code",
   "execution_count": 31,
   "id": "d54c1353",
   "metadata": {},
   "outputs": [],
   "source": [
    "f.close()"
   ]
  },
  {
   "cell_type": "code",
   "execution_count": 32,
   "id": "bccf878e",
   "metadata": {},
   "outputs": [],
   "source": [
    "new_file.close()"
   ]
  },
  {
   "cell_type": "code",
   "execution_count": 34,
   "id": "282cf626",
   "metadata": {},
   "outputs": [
    {
     "name": "stdout",
     "output_type": "stream",
     "text": [
      "['hello this is my file\\n', 'it is for test\\n', 'i want to learn working with files in python\\n']\n"
     ]
    }
   ],
   "source": [
    "with open(\"my_file.txt\") as f:\n",
    "    lines=f.readlines()\n",
    "    print(lines)\n"
   ]
  },
  {
   "cell_type": "code",
   "execution_count": 35,
   "id": "f1232bd0",
   "metadata": {},
   "outputs": [],
   "source": [
    "with open(\"my_file.txt\",'a') as f: ## read/ w for write rosh minevise / a add tahesh minevise\n",
    "    f.write(\"\\n new line is here added\")\n",
    "\n"
   ]
  },
  {
   "cell_type": "code",
   "execution_count": null,
   "id": "2b0d66dc",
   "metadata": {},
   "outputs": [],
   "source": []
  }
 ],
 "metadata": {
  "kernelspec": {
   "display_name": "Python 3 (ipykernel)",
   "language": "python",
   "name": "python3"
  },
  "language_info": {
   "codemirror_mode": {
    "name": "ipython",
    "version": 3
   },
   "file_extension": ".py",
   "mimetype": "text/x-python",
   "name": "python",
   "nbconvert_exporter": "python",
   "pygments_lexer": "ipython3",
   "version": "3.9.7"
  }
 },
 "nbformat": 4,
 "nbformat_minor": 5
}
