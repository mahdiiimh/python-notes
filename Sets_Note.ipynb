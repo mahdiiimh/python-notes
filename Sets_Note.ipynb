{
 "cells": [
  {
   "cell_type": "markdown",
   "id": "a3dffc57",
   "metadata": {},
   "source": [
    "### sets ---> not ordered , everything just one time appeared"
   ]
  },
  {
   "cell_type": "code",
   "execution_count": 1,
   "id": "ff903f83",
   "metadata": {},
   "outputs": [],
   "source": [
    "my_set = set()"
   ]
  },
  {
   "cell_type": "code",
   "execution_count": 2,
   "id": "c73ec31a",
   "metadata": {},
   "outputs": [],
   "source": [
    "my_set.add(1)"
   ]
  },
  {
   "cell_type": "code",
   "execution_count": 3,
   "id": "6d873ced",
   "metadata": {},
   "outputs": [],
   "source": [
    "my_set.add(2)"
   ]
  },
  {
   "cell_type": "code",
   "execution_count": 4,
   "id": "46e1b38d",
   "metadata": {},
   "outputs": [
    {
     "data": {
      "text/plain": [
       "{1, 2}"
      ]
     },
     "execution_count": 4,
     "metadata": {},
     "output_type": "execute_result"
    }
   ],
   "source": [
    "my_set"
   ]
  },
  {
   "cell_type": "code",
   "execution_count": 5,
   "id": "c7de4340",
   "metadata": {},
   "outputs": [],
   "source": [
    "my_set.add(2)"
   ]
  },
  {
   "cell_type": "code",
   "execution_count": 6,
   "id": "285fe223",
   "metadata": {},
   "outputs": [
    {
     "data": {
      "text/plain": [
       "{1, 2}"
      ]
     },
     "execution_count": 6,
     "metadata": {},
     "output_type": "execute_result"
    }
   ],
   "source": [
    "my_set"
   ]
  },
  {
   "cell_type": "code",
   "execution_count": 7,
   "id": "e175d0c2",
   "metadata": {},
   "outputs": [
    {
     "ename": "TypeError",
     "evalue": "set.add() takes exactly one argument (3 given)",
     "output_type": "error",
     "traceback": [
      "\u001b[0;31m---------------------------------------------------------------------------\u001b[0m",
      "\u001b[0;31mTypeError\u001b[0m                                 Traceback (most recent call last)",
      "\u001b[0;32m/var/folders/r9/sv2l0znj5xbg1cbcvnh09h4c0000gn/T/ipykernel_64329/258357209.py\u001b[0m in \u001b[0;36m<module>\u001b[0;34m\u001b[0m\n\u001b[0;32m----> 1\u001b[0;31m \u001b[0mmy_set\u001b[0m\u001b[0;34m.\u001b[0m\u001b[0madd\u001b[0m\u001b[0;34m(\u001b[0m\u001b[0;36m1\u001b[0m\u001b[0;34m,\u001b[0m\u001b[0;36m2\u001b[0m\u001b[0;34m,\u001b[0m\u001b[0;36m3\u001b[0m\u001b[0;34m)\u001b[0m\u001b[0;34m\u001b[0m\u001b[0;34m\u001b[0m\u001b[0m\n\u001b[0m",
      "\u001b[0;31mTypeError\u001b[0m: set.add() takes exactly one argument (3 given)"
     ]
    }
   ],
   "source": [
    "my_set.add(1,2,3)"
   ]
  },
  {
   "cell_type": "code",
   "execution_count": 8,
   "id": "35f73c6b",
   "metadata": {},
   "outputs": [
    {
     "ename": "TypeError",
     "evalue": "unhashable type: 'list'",
     "output_type": "error",
     "traceback": [
      "\u001b[0;31m---------------------------------------------------------------------------\u001b[0m",
      "\u001b[0;31mTypeError\u001b[0m                                 Traceback (most recent call last)",
      "\u001b[0;32m/var/folders/r9/sv2l0znj5xbg1cbcvnh09h4c0000gn/T/ipykernel_64329/2279155697.py\u001b[0m in \u001b[0;36m<module>\u001b[0;34m\u001b[0m\n\u001b[0;32m----> 1\u001b[0;31m \u001b[0mmy_set\u001b[0m\u001b[0;34m.\u001b[0m\u001b[0madd\u001b[0m\u001b[0;34m(\u001b[0m\u001b[0;34m[\u001b[0m\u001b[0;36m1\u001b[0m\u001b[0;34m,\u001b[0m\u001b[0;36m2\u001b[0m\u001b[0;34m,\u001b[0m\u001b[0;36m3\u001b[0m\u001b[0;34m]\u001b[0m\u001b[0;34m)\u001b[0m\u001b[0;34m\u001b[0m\u001b[0;34m\u001b[0m\u001b[0m\n\u001b[0m",
      "\u001b[0;31mTypeError\u001b[0m: unhashable type: 'list'"
     ]
    }
   ],
   "source": [
    "my_set.add([1,2,3])"
   ]
  },
  {
   "cell_type": "code",
   "execution_count": 9,
   "id": "49522e24",
   "metadata": {},
   "outputs": [],
   "source": [
    "chess=set()\n",
    "chess.add(\"mahdi\")\n",
    "chess.add(\"sahar\")"
   ]
  },
  {
   "cell_type": "code",
   "execution_count": 11,
   "id": "0a4df1c1",
   "metadata": {},
   "outputs": [],
   "source": [
    "pot=set()\n",
    "pot.add('mahdi')\n",
    "pot.add('hassan')"
   ]
  },
  {
   "cell_type": "code",
   "execution_count": 12,
   "id": "058ba0a9",
   "metadata": {},
   "outputs": [
    {
     "data": {
      "text/plain": [
       "{'mahdi', 'sahar'}"
      ]
     },
     "execution_count": 12,
     "metadata": {},
     "output_type": "execute_result"
    }
   ],
   "source": [
    "chess"
   ]
  },
  {
   "cell_type": "code",
   "execution_count": 14,
   "id": "d4172b2c",
   "metadata": {},
   "outputs": [
    {
     "data": {
      "text/plain": [
       "{'hassan', 'mahdi'}"
      ]
     },
     "execution_count": 14,
     "metadata": {},
     "output_type": "execute_result"
    }
   ],
   "source": [
    "pot"
   ]
  },
  {
   "cell_type": "code",
   "execution_count": 15,
   "id": "e55a72f0",
   "metadata": {},
   "outputs": [
    {
     "data": {
      "text/plain": [
       "{'hassan', 'mahdi', 'sahar'}"
      ]
     },
     "execution_count": 15,
     "metadata": {},
     "output_type": "execute_result"
    }
   ],
   "source": [
    "pot.union(chess) #ejtema"
   ]
  },
  {
   "cell_type": "code",
   "execution_count": 17,
   "id": "8bb84af6",
   "metadata": {},
   "outputs": [
    {
     "data": {
      "text/plain": [
       "{'mahdi'}"
      ]
     },
     "execution_count": 17,
     "metadata": {},
     "output_type": "execute_result"
    }
   ],
   "source": [
    "pot.intersection(chess) # eshterak"
   ]
  },
  {
   "cell_type": "code",
   "execution_count": 18,
   "id": "3077b83b",
   "metadata": {},
   "outputs": [
    {
     "data": {
      "text/plain": [
       "{'hassan'}"
      ]
     },
     "execution_count": 18,
     "metadata": {},
     "output_type": "execute_result"
    }
   ],
   "source": [
    "pot.difference(chess)"
   ]
  },
  {
   "cell_type": "code",
   "execution_count": 19,
   "id": "c7f12697",
   "metadata": {},
   "outputs": [],
   "source": [
    "heyvoons = set([\"sag\",\"gorbe\",\"fok\",\"malakh\"])"
   ]
  },
  {
   "cell_type": "code",
   "execution_count": 20,
   "id": "aa4de50d",
   "metadata": {},
   "outputs": [
    {
     "data": {
      "text/plain": [
       "{'fok', 'gorbe', 'malakh', 'sag'}"
      ]
     },
     "execution_count": 20,
     "metadata": {},
     "output_type": "execute_result"
    }
   ],
   "source": [
    "heyvoons"
   ]
  },
  {
   "cell_type": "code",
   "execution_count": 21,
   "id": "57786edd",
   "metadata": {},
   "outputs": [],
   "source": [
    "setA={1,2,3,4}\n",
    "setB={3,4,5,6}"
   ]
  },
  {
   "cell_type": "code",
   "execution_count": 22,
   "id": "e0254c5e",
   "metadata": {},
   "outputs": [
    {
     "data": {
      "text/plain": [
       "set"
      ]
     },
     "execution_count": 22,
     "metadata": {},
     "output_type": "execute_result"
    }
   ],
   "source": [
    "type(setA)"
   ]
  },
  {
   "cell_type": "code",
   "execution_count": 23,
   "id": "6c5a01fc",
   "metadata": {},
   "outputs": [
    {
     "data": {
      "text/plain": [
       "{1, 2, 3, 4, 5, 6}"
      ]
     },
     "execution_count": 23,
     "metadata": {},
     "output_type": "execute_result"
    }
   ],
   "source": [
    "setA.union(setB)"
   ]
  },
  {
   "cell_type": "code",
   "execution_count": 24,
   "id": "d3a45b93",
   "metadata": {},
   "outputs": [
    {
     "data": {
      "text/plain": [
       "{3, 4}"
      ]
     },
     "execution_count": 24,
     "metadata": {},
     "output_type": "execute_result"
    }
   ],
   "source": [
    "setA.intersection(setB)"
   ]
  },
  {
   "cell_type": "code",
   "execution_count": null,
   "id": "12c6ead2",
   "metadata": {},
   "outputs": [],
   "source": []
  }
 ],
 "metadata": {
  "kernelspec": {
   "display_name": "Python 3 (ipykernel)",
   "language": "python",
   "name": "python3"
  },
  "language_info": {
   "codemirror_mode": {
    "name": "ipython",
    "version": 3
   },
   "file_extension": ".py",
   "mimetype": "text/x-python",
   "name": "python",
   "nbconvert_exporter": "python",
   "pygments_lexer": "ipython3",
   "version": "3.9.7"
  }
 },
 "nbformat": 4,
 "nbformat_minor": 5
}
