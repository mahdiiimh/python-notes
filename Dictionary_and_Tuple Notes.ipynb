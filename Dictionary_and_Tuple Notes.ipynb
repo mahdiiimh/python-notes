{
 "cells": [
  {
   "cell_type": "code",
   "execution_count": 1,
   "id": "8d4ce151",
   "metadata": {},
   "outputs": [],
   "source": [
    "## Dict --> { Key : value}"
   ]
  },
  {
   "cell_type": "code",
   "execution_count": 2,
   "id": "b063f17c",
   "metadata": {},
   "outputs": [],
   "source": [
    "nomre = { \"riazi\":12 , \"programming\":20 , \"moton\":2\n",
    "}"
   ]
  },
  {
   "cell_type": "code",
   "execution_count": 3,
   "id": "26d13c80",
   "metadata": {},
   "outputs": [
    {
     "data": {
      "text/plain": [
       "12"
      ]
     },
     "execution_count": 3,
     "metadata": {},
     "output_type": "execute_result"
    }
   ],
   "source": [
    "nomre[\"riazi\"]"
   ]
  },
  {
   "cell_type": "code",
   "execution_count": 4,
   "id": "b30098ae",
   "metadata": {},
   "outputs": [],
   "source": [
    "nomre={\n",
    "    \"mahdi\":{ \n",
    "        \"riazi\":12 , \n",
    "        \"programming\":20 , \n",
    "        \"moton\":2\n",
    "    },\n",
    "    \"sahar\":{ \n",
    "        \"riazi\":20 , \n",
    "        \"programming\":20 , \n",
    "        \"moton\":12\n",
    "    }\n",
    "}"
   ]
  },
  {
   "cell_type": "code",
   "execution_count": 5,
   "id": "481fa8b2",
   "metadata": {},
   "outputs": [
    {
     "data": {
      "text/plain": [
       "{'riazi': 12, 'programming': 20, 'moton': 2}"
      ]
     },
     "execution_count": 5,
     "metadata": {},
     "output_type": "execute_result"
    }
   ],
   "source": [
    "nomre[\"mahdi\"]"
   ]
  },
  {
   "cell_type": "code",
   "execution_count": 6,
   "id": "50aeade4",
   "metadata": {},
   "outputs": [
    {
     "data": {
      "text/plain": [
       "12"
      ]
     },
     "execution_count": 6,
     "metadata": {},
     "output_type": "execute_result"
    }
   ],
   "source": [
    "nomre[\"mahdi\"][\"riazi\"]"
   ]
  },
  {
   "cell_type": "code",
   "execution_count": 7,
   "id": "c3d5ac71",
   "metadata": {},
   "outputs": [
    {
     "data": {
      "text/plain": [
       "dict_values([{'riazi': 12, 'programming': 20, 'moton': 2}, {'riazi': 20, 'programming': 20, 'moton': 12}])"
      ]
     },
     "execution_count": 7,
     "metadata": {},
     "output_type": "execute_result"
    }
   ],
   "source": [
    "nomre.values()"
   ]
  },
  {
   "cell_type": "code",
   "execution_count": 8,
   "id": "00ece19f",
   "metadata": {},
   "outputs": [
    {
     "data": {
      "text/plain": [
       "dict_keys(['mahdi', 'sahar'])"
      ]
     },
     "execution_count": 8,
     "metadata": {},
     "output_type": "execute_result"
    }
   ],
   "source": [
    "nomre.keys()"
   ]
  },
  {
   "cell_type": "code",
   "execution_count": 9,
   "id": "65ac51f3",
   "metadata": {},
   "outputs": [
    {
     "data": {
      "text/plain": [
       "dict_items([('mahdi', {'riazi': 12, 'programming': 20, 'moton': 2}), ('sahar', {'riazi': 20, 'programming': 20, 'moton': 12})])"
      ]
     },
     "execution_count": 9,
     "metadata": {},
     "output_type": "execute_result"
    }
   ],
   "source": [
    "nomre.items()"
   ]
  },
  {
   "cell_type": "code",
   "execution_count": 10,
   "id": "e4589b95",
   "metadata": {},
   "outputs": [],
   "source": [
    "price={\"apple\":1000 , \"banana\":200,\"khiar\":100}"
   ]
  },
  {
   "cell_type": "code",
   "execution_count": 11,
   "id": "00d4635f",
   "metadata": {},
   "outputs": [
    {
     "data": {
      "text/plain": [
       "dict_keys(['apple', 'banana', 'khiar'])"
      ]
     },
     "execution_count": 11,
     "metadata": {},
     "output_type": "execute_result"
    }
   ],
   "source": [
    "price.keys()"
   ]
  },
  {
   "cell_type": "code",
   "execution_count": 12,
   "id": "eade31cf",
   "metadata": {},
   "outputs": [
    {
     "data": {
      "text/plain": [
       "dict_values([1000, 200, 100])"
      ]
     },
     "execution_count": 12,
     "metadata": {},
     "output_type": "execute_result"
    }
   ],
   "source": [
    "price.values()"
   ]
  },
  {
   "cell_type": "code",
   "execution_count": 13,
   "id": "dfd71064",
   "metadata": {},
   "outputs": [
    {
     "data": {
      "text/plain": [
       "dict_items([('apple', 1000), ('banana', 200), ('khiar', 100)])"
      ]
     },
     "execution_count": 13,
     "metadata": {},
     "output_type": "execute_result"
    }
   ],
   "source": [
    "price.items()"
   ]
  },
  {
   "cell_type": "code",
   "execution_count": 14,
   "id": "5b4aed23",
   "metadata": {},
   "outputs": [
    {
     "data": {
      "text/plain": [
       "1000"
      ]
     },
     "execution_count": 14,
     "metadata": {},
     "output_type": "execute_result"
    }
   ],
   "source": [
    "price[\"apple\"]"
   ]
  },
  {
   "cell_type": "code",
   "execution_count": 15,
   "id": "34089d89",
   "metadata": {},
   "outputs": [
    {
     "data": {
      "text/plain": [
       "1000"
      ]
     },
     "execution_count": 15,
     "metadata": {},
     "output_type": "execute_result"
    }
   ],
   "source": [
    "price.get(\"apple\")"
   ]
  },
  {
   "cell_type": "code",
   "execution_count": 16,
   "id": "4f8290cc",
   "metadata": {},
   "outputs": [
    {
     "ename": "KeyError",
     "evalue": "'bademjoon'",
     "output_type": "error",
     "traceback": [
      "\u001b[0;31m---------------------------------------------------------------------------\u001b[0m",
      "\u001b[0;31mKeyError\u001b[0m                                  Traceback (most recent call last)",
      "\u001b[0;32m/var/folders/r9/sv2l0znj5xbg1cbcvnh09h4c0000gn/T/ipykernel_59589/1675184169.py\u001b[0m in \u001b[0;36m<module>\u001b[0;34m\u001b[0m\n\u001b[0;32m----> 1\u001b[0;31m \u001b[0mprice\u001b[0m\u001b[0;34m[\u001b[0m\u001b[0;34m\"bademjoon\"\u001b[0m\u001b[0;34m]\u001b[0m\u001b[0;34m\u001b[0m\u001b[0;34m\u001b[0m\u001b[0m\n\u001b[0m",
      "\u001b[0;31mKeyError\u001b[0m: 'bademjoon'"
     ]
    }
   ],
   "source": [
    "price[\"bademjoon\"]"
   ]
  },
  {
   "cell_type": "code",
   "execution_count": 17,
   "id": "a5b1faa7",
   "metadata": {},
   "outputs": [],
   "source": [
    "price.get(\"bademjoon\")"
   ]
  },
  {
   "cell_type": "code",
   "execution_count": 18,
   "id": "63eac6c4",
   "metadata": {},
   "outputs": [
    {
     "data": {
      "text/plain": [
       "1000"
      ]
     },
     "execution_count": 18,
     "metadata": {},
     "output_type": "execute_result"
    }
   ],
   "source": [
    "price.get(\"apple\",-1)"
   ]
  },
  {
   "cell_type": "code",
   "execution_count": 19,
   "id": "4a7e0d93",
   "metadata": {},
   "outputs": [
    {
     "data": {
      "text/plain": [
       "-1"
      ]
     },
     "execution_count": 19,
     "metadata": {},
     "output_type": "execute_result"
    }
   ],
   "source": [
    "price.get(\"bademjoon\",-1)"
   ]
  },
  {
   "cell_type": "code",
   "execution_count": 20,
   "id": "47d7cb9d",
   "metadata": {},
   "outputs": [],
   "source": [
    "price[\"city\"]=\"tehran\""
   ]
  },
  {
   "cell_type": "code",
   "execution_count": 21,
   "id": "12ffff25",
   "metadata": {},
   "outputs": [
    {
     "data": {
      "text/plain": [
       "{'apple': 1000, 'banana': 200, 'khiar': 100, 'city': 'tehran'}"
      ]
     },
     "execution_count": 21,
     "metadata": {},
     "output_type": "execute_result"
    }
   ],
   "source": [
    "price"
   ]
  },
  {
   "cell_type": "code",
   "execution_count": 28,
   "id": "0ede86ef",
   "metadata": {},
   "outputs": [],
   "source": [
    "fruit_prices={\n",
    "    \"sib\" : 1500,\n",
    "    \"moz\" : 1000,\n",
    "    \"porteghal\" : 1200\n",
    "}"
   ]
  },
  {
   "cell_type": "code",
   "execution_count": 29,
   "id": "5bdbe8d1",
   "metadata": {},
   "outputs": [],
   "source": [
    "fruit_prices[\"moz\"]=1100"
   ]
  },
  {
   "cell_type": "code",
   "execution_count": 25,
   "id": "4c331baa",
   "metadata": {},
   "outputs": [
    {
     "data": {
      "text/plain": [
       "{'sib': 1500, 'moz': 1100, 'porteghal': 1200}"
      ]
     },
     "execution_count": 25,
     "metadata": {},
     "output_type": "execute_result"
    }
   ],
   "source": [
    "fruit_prices"
   ]
  },
  {
   "cell_type": "code",
   "execution_count": 26,
   "id": "436e1475",
   "metadata": {},
   "outputs": [
    {
     "data": {
      "text/plain": [
       "1500"
      ]
     },
     "execution_count": 26,
     "metadata": {},
     "output_type": "execute_result"
    }
   ],
   "source": [
    "fruit_prices.pop(\"sib\")"
   ]
  },
  {
   "cell_type": "code",
   "execution_count": 27,
   "id": "bd017aba",
   "metadata": {},
   "outputs": [
    {
     "data": {
      "text/plain": [
       "{'moz': 1100, 'porteghal': 1200}"
      ]
     },
     "execution_count": 27,
     "metadata": {},
     "output_type": "execute_result"
    }
   ],
   "source": [
    "fruit_prices"
   ]
  },
  {
   "cell_type": "code",
   "execution_count": 30,
   "id": "3814dd72",
   "metadata": {},
   "outputs": [],
   "source": [
    "del fruit_prices[\"sib\"]"
   ]
  },
  {
   "cell_type": "code",
   "execution_count": 31,
   "id": "30893caa",
   "metadata": {},
   "outputs": [
    {
     "data": {
      "text/plain": [
       "{'moz': 1100, 'porteghal': 1200}"
      ]
     },
     "execution_count": 31,
     "metadata": {},
     "output_type": "execute_result"
    }
   ],
   "source": [
    "fruit_prices"
   ]
  },
  {
   "cell_type": "markdown",
   "id": "d074f55e",
   "metadata": {},
   "source": [
    "### Tuple --> immutable"
   ]
  },
  {
   "cell_type": "code",
   "execution_count": 32,
   "id": "2e25291d",
   "metadata": {},
   "outputs": [],
   "source": [
    "t1 = (1,2,3,\"mahdi\",3.14)"
   ]
  },
  {
   "cell_type": "code",
   "execution_count": 33,
   "id": "75da92df",
   "metadata": {},
   "outputs": [
    {
     "data": {
      "text/plain": [
       "(1, 2, 3, 'mahdi', 3.14)"
      ]
     },
     "execution_count": 33,
     "metadata": {},
     "output_type": "execute_result"
    }
   ],
   "source": [
    "t1"
   ]
  },
  {
   "cell_type": "code",
   "execution_count": 34,
   "id": "6c2e8ae4",
   "metadata": {},
   "outputs": [
    {
     "data": {
      "text/plain": [
       "1"
      ]
     },
     "execution_count": 34,
     "metadata": {},
     "output_type": "execute_result"
    }
   ],
   "source": [
    "t1[0]"
   ]
  },
  {
   "cell_type": "code",
   "execution_count": 35,
   "id": "e12ba5b3",
   "metadata": {},
   "outputs": [
    {
     "data": {
      "text/plain": [
       "3.14"
      ]
     },
     "execution_count": 35,
     "metadata": {},
     "output_type": "execute_result"
    }
   ],
   "source": [
    "t1[-1]"
   ]
  },
  {
   "cell_type": "code",
   "execution_count": 36,
   "id": "d9869fae",
   "metadata": {},
   "outputs": [
    {
     "data": {
      "text/plain": [
       "5"
      ]
     },
     "execution_count": 36,
     "metadata": {},
     "output_type": "execute_result"
    }
   ],
   "source": [
    "len(t1)"
   ]
  },
  {
   "cell_type": "code",
   "execution_count": 37,
   "id": "5de69692",
   "metadata": {},
   "outputs": [
    {
     "data": {
      "text/plain": [
       "(1, 2)"
      ]
     },
     "execution_count": 37,
     "metadata": {},
     "output_type": "execute_result"
    }
   ],
   "source": [
    "t1[:2]"
   ]
  },
  {
   "cell_type": "code",
   "execution_count": 38,
   "id": "6a370da6",
   "metadata": {},
   "outputs": [
    {
     "ename": "TypeError",
     "evalue": "'tuple' object does not support item assignment",
     "output_type": "error",
     "traceback": [
      "\u001b[0;31m---------------------------------------------------------------------------\u001b[0m",
      "\u001b[0;31mTypeError\u001b[0m                                 Traceback (most recent call last)",
      "\u001b[0;32m/var/folders/r9/sv2l0znj5xbg1cbcvnh09h4c0000gn/T/ipykernel_59589/1489483124.py\u001b[0m in \u001b[0;36m<module>\u001b[0;34m\u001b[0m\n\u001b[0;32m----> 1\u001b[0;31m \u001b[0mt1\u001b[0m\u001b[0;34m[\u001b[0m\u001b[0;36m0\u001b[0m\u001b[0;34m]\u001b[0m\u001b[0;34m=\u001b[0m\u001b[0;36m8\u001b[0m\u001b[0;34m\u001b[0m\u001b[0;34m\u001b[0m\u001b[0m\n\u001b[0m",
      "\u001b[0;31mTypeError\u001b[0m: 'tuple' object does not support item assignment"
     ]
    }
   ],
   "source": [
    "t1[0]=8"
   ]
  },
  {
   "cell_type": "code",
   "execution_count": 39,
   "id": "f0aed5f7",
   "metadata": {},
   "outputs": [],
   "source": [
    "result=(\"mahdi\",18)"
   ]
  },
  {
   "cell_type": "code",
   "execution_count": 40,
   "id": "057fc4cd",
   "metadata": {},
   "outputs": [],
   "source": [
    "name,nomre=result"
   ]
  },
  {
   "cell_type": "code",
   "execution_count": 41,
   "id": "b1f33f44",
   "metadata": {},
   "outputs": [
    {
     "data": {
      "text/plain": [
       "'mahdi'"
      ]
     },
     "execution_count": 41,
     "metadata": {},
     "output_type": "execute_result"
    }
   ],
   "source": [
    "name"
   ]
  },
  {
   "cell_type": "code",
   "execution_count": 43,
   "id": "163a2b44",
   "metadata": {},
   "outputs": [
    {
     "data": {
      "text/plain": [
       "18"
      ]
     },
     "execution_count": 43,
     "metadata": {},
     "output_type": "execute_result"
    }
   ],
   "source": [
    "nomre"
   ]
  },
  {
   "cell_type": "code",
   "execution_count": 44,
   "id": "b428a3fe",
   "metadata": {},
   "outputs": [],
   "source": [
    "coordinates=(3,4)"
   ]
  },
  {
   "cell_type": "code",
   "execution_count": 46,
   "id": "c1077fed",
   "metadata": {},
   "outputs": [],
   "source": [
    "x_1 , x_2=(0,0)\n",
    "y_1 , y_2=coordinates"
   ]
  },
  {
   "cell_type": "code",
   "execution_count": 48,
   "id": "4a22ac7b",
   "metadata": {},
   "outputs": [
    {
     "data": {
      "text/plain": [
       "3"
      ]
     },
     "execution_count": 48,
     "metadata": {},
     "output_type": "execute_result"
    }
   ],
   "source": [
    "y_1"
   ]
  },
  {
   "cell_type": "code",
   "execution_count": 49,
   "id": "936bf52c",
   "metadata": {},
   "outputs": [],
   "source": [
    "import math"
   ]
  },
  {
   "cell_type": "code",
   "execution_count": 50,
   "id": "630b287f",
   "metadata": {},
   "outputs": [],
   "source": [
    "distance = math.sqrt((y_1-x_1)**2 + (y_2-x_2)**2)"
   ]
  },
  {
   "cell_type": "code",
   "execution_count": 51,
   "id": "8f0aaaaf",
   "metadata": {},
   "outputs": [
    {
     "data": {
      "text/plain": [
       "5.0"
      ]
     },
     "execution_count": 51,
     "metadata": {},
     "output_type": "execute_result"
    }
   ],
   "source": [
    "distance"
   ]
  },
  {
   "cell_type": "code",
   "execution_count": null,
   "id": "7b92c341",
   "metadata": {},
   "outputs": [],
   "source": []
  }
 ],
 "metadata": {
  "kernelspec": {
   "display_name": "Python 3 (ipykernel)",
   "language": "python",
   "name": "python3"
  },
  "language_info": {
   "codemirror_mode": {
    "name": "ipython",
    "version": 3
   },
   "file_extension": ".py",
   "mimetype": "text/x-python",
   "name": "python",
   "nbconvert_exporter": "python",
   "pygments_lexer": "ipython3",
   "version": "3.9.7"
  }
 },
 "nbformat": 4,
 "nbformat_minor": 5
}
