{
 "cells": [
  {
   "cell_type": "code",
   "execution_count": 1,
   "id": "919b8f87",
   "metadata": {},
   "outputs": [],
   "source": [
    "## all packages in pypi"
   ]
  },
  {
   "cell_type": "code",
   "execution_count": 2,
   "id": "2253652c",
   "metadata": {},
   "outputs": [],
   "source": [
    "## pip install NAME"
   ]
  },
  {
   "cell_type": "code",
   "execution_count": 3,
   "id": "63fcb6a7",
   "metadata": {},
   "outputs": [],
   "source": [
    "## import PACKAGE\n",
    "## from PACKAGE import METHOD"
   ]
  },
  {
   "cell_type": "code",
   "execution_count": 4,
   "id": "08a0263f",
   "metadata": {},
   "outputs": [],
   "source": [
    "## tqdm --> process bar"
   ]
  },
  {
   "cell_type": "code",
   "execution_count": 5,
   "id": "bcacf39a",
   "metadata": {},
   "outputs": [],
   "source": [
    "## pacakge : ye directory , module ha tosh , __init__.py in ro bayad dashte bashe"
   ]
  },
  {
   "cell_type": "code",
   "execution_count": 7,
   "id": "c9947ee5",
   "metadata": {},
   "outputs": [],
   "source": [
    "## __name__ : variable ke to hame barname ha hast"
   ]
  },
  {
   "cell_type": "code",
   "execution_count": 8,
   "id": "89ad1662",
   "metadata": {},
   "outputs": [
    {
     "name": "stdout",
     "output_type": "stream",
     "text": [
      "__main__\n"
     ]
    }
   ],
   "source": [
    "print(__name__)"
   ]
  },
  {
   "cell_type": "code",
   "execution_count": 9,
   "id": "a21d5163",
   "metadata": {},
   "outputs": [],
   "source": [
    "## vaghti khode barname ejra shode __main__ hast age import beshe esme package khahad bood"
   ]
  },
  {
   "cell_type": "code",
   "execution_count": null,
   "id": "0fb5af7e",
   "metadata": {},
   "outputs": [],
   "source": [
    "class Library():\n",
    "    def __init__(self, book_list):\n",
    "        "
   ]
  },
  {
   "cell_type": "code",
   "execution_count": 1,
   "id": "24aed47c",
   "metadata": {},
   "outputs": [],
   "source": [
    "import pandas as pd"
   ]
  },
  {
   "cell_type": "code",
   "execution_count": null,
   "id": "b79c900c",
   "metadata": {},
   "outputs": [],
   "source": []
  }
 ],
 "metadata": {
  "kernelspec": {
   "display_name": "Python 3 (ipykernel)",
   "language": "python",
   "name": "python3"
  },
  "language_info": {
   "codemirror_mode": {
    "name": "ipython",
    "version": 3
   },
   "file_extension": ".py",
   "mimetype": "text/x-python",
   "name": "python",
   "nbconvert_exporter": "python",
   "pygments_lexer": "ipython3",
   "version": "3.9.7"
  }
 },
 "nbformat": 4,
 "nbformat_minor": 5
}
