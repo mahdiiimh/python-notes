{
 "cells": [
  {
   "cell_type": "markdown",
   "id": "aa5e4fbe",
   "metadata": {},
   "source": [
    "### Comparison"
   ]
  },
  {
   "cell_type": "markdown",
   "id": "dfdaee03",
   "metadata": {},
   "source": [
    " ### > < >= <= =="
   ]
  },
  {
   "cell_type": "code",
   "execution_count": 4,
   "id": "5cd7dac3",
   "metadata": {},
   "outputs": [],
   "source": [
    "a = 20\n",
    "b = 18\n",
    "c=20"
   ]
  },
  {
   "cell_type": "code",
   "execution_count": 3,
   "id": "7fd41590",
   "metadata": {},
   "outputs": [
    {
     "data": {
      "text/plain": [
       "True"
      ]
     },
     "execution_count": 3,
     "metadata": {},
     "output_type": "execute_result"
    }
   ],
   "source": [
    "a > b"
   ]
  },
  {
   "cell_type": "code",
   "execution_count": 5,
   "id": "98986b4f",
   "metadata": {},
   "outputs": [
    {
     "data": {
      "text/plain": [
       "True"
      ]
     },
     "execution_count": 5,
     "metadata": {},
     "output_type": "execute_result"
    }
   ],
   "source": [
    "a>=c"
   ]
  },
  {
   "cell_type": "code",
   "execution_count": 6,
   "id": "fd4bbe9c",
   "metadata": {},
   "outputs": [
    {
     "data": {
      "text/plain": [
       "True"
      ]
     },
     "execution_count": 6,
     "metadata": {},
     "output_type": "execute_result"
    }
   ],
   "source": [
    "a==c"
   ]
  },
  {
   "cell_type": "code",
   "execution_count": 8,
   "id": "900c6fe7",
   "metadata": {},
   "outputs": [],
   "source": [
    "name = \"mahdi\""
   ]
  },
  {
   "cell_type": "code",
   "execution_count": 9,
   "id": "ca934ec7",
   "metadata": {},
   "outputs": [
    {
     "data": {
      "text/plain": [
       "True"
      ]
     },
     "execution_count": 9,
     "metadata": {},
     "output_type": "execute_result"
    }
   ],
   "source": [
    "name == \"mahdi\""
   ]
  },
  {
   "cell_type": "code",
   "execution_count": 10,
   "id": "8fafc742",
   "metadata": {},
   "outputs": [
    {
     "data": {
      "text/plain": [
       "False"
      ]
     },
     "execution_count": 10,
     "metadata": {},
     "output_type": "execute_result"
    }
   ],
   "source": [
    "name != \"mahdi\""
   ]
  },
  {
   "cell_type": "code",
   "execution_count": 11,
   "id": "72d1b5e9",
   "metadata": {},
   "outputs": [
    {
     "data": {
      "text/plain": [
       "True"
      ]
     },
     "execution_count": 11,
     "metadata": {},
     "output_type": "execute_result"
    }
   ],
   "source": [
    "name != \"Mahdi\""
   ]
  },
  {
   "cell_type": "code",
   "execution_count": 12,
   "id": "4c582bf0",
   "metadata": {},
   "outputs": [
    {
     "name": "stdout",
     "output_type": "stream",
     "text": [
      "True\n"
     ]
    }
   ],
   "source": [
    "x = 5\n",
    "print(3 < x <= 7)"
   ]
  },
  {
   "cell_type": "markdown",
   "id": "650060c7",
   "metadata": {},
   "source": [
    "### and or not"
   ]
  },
  {
   "cell_type": "code",
   "execution_count": 13,
   "id": "ee1e205e",
   "metadata": {},
   "outputs": [
    {
     "data": {
      "text/plain": [
       "True"
      ]
     },
     "execution_count": 13,
     "metadata": {},
     "output_type": "execute_result"
    }
   ],
   "source": [
    "4>3 and 9>=9"
   ]
  },
  {
   "cell_type": "code",
   "execution_count": 14,
   "id": "d92b025f",
   "metadata": {},
   "outputs": [
    {
     "data": {
      "text/plain": [
       "True"
      ]
     },
     "execution_count": 14,
     "metadata": {},
     "output_type": "execute_result"
    }
   ],
   "source": [
    "4>3 and 9>=9 or 8>10"
   ]
  },
  {
   "cell_type": "code",
   "execution_count": 15,
   "id": "ecf8456d",
   "metadata": {},
   "outputs": [],
   "source": [
    "## T or T - T / T or F - T\n",
    "## T and T - T / T and F - F"
   ]
  },
  {
   "cell_type": "code",
   "execution_count": 17,
   "id": "080cf959",
   "metadata": {},
   "outputs": [
    {
     "data": {
      "text/plain": [
       "True"
      ]
     },
     "execution_count": 17,
     "metadata": {},
     "output_type": "execute_result"
    }
   ],
   "source": [
    "a = 6\n",
    "8> a > 5"
   ]
  },
  {
   "cell_type": "code",
   "execution_count": 18,
   "id": "426ae600",
   "metadata": {},
   "outputs": [
    {
     "name": "stdout",
     "output_type": "stream",
     "text": [
      "please enter your first number : 5\n"
     ]
    }
   ],
   "source": [
    "a= int(input(\"please enter your first number : \"))"
   ]
  },
  {
   "cell_type": "code",
   "execution_count": 19,
   "id": "fd1f6530",
   "metadata": {},
   "outputs": [
    {
     "name": "stdout",
     "output_type": "stream",
     "text": [
      "please enter your second number : 10\n"
     ]
    }
   ],
   "source": [
    "b= int(input(\"please enter your second number : \"))"
   ]
  },
  {
   "cell_type": "code",
   "execution_count": 20,
   "id": "8e65d507",
   "metadata": {},
   "outputs": [
    {
     "name": "stdout",
     "output_type": "stream",
     "text": [
      "please enter your third number : 15\n"
     ]
    }
   ],
   "source": [
    "c= int(input(\"please enter your third number : \"))"
   ]
  },
  {
   "cell_type": "code",
   "execution_count": 21,
   "id": "f34dac71",
   "metadata": {},
   "outputs": [
    {
     "name": "stdout",
     "output_type": "stream",
     "text": [
      "True\n"
     ]
    }
   ],
   "source": [
    "if a < b <= c:\n",
    "    print(True)\n",
    "else :\n",
    "    print(False)"
   ]
  },
  {
   "cell_type": "code",
   "execution_count": 22,
   "id": "2f99f798",
   "metadata": {},
   "outputs": [
    {
     "name": "stdout",
     "output_type": "stream",
     "text": [
      "True\n"
     ]
    }
   ],
   "source": [
    "if a< b and b <=c:\n",
    "    print(True)\n",
    "else :\n",
    "    print(False)"
   ]
  },
  {
   "cell_type": "code",
   "execution_count": null,
   "id": "589b110d",
   "metadata": {},
   "outputs": [],
   "source": []
  }
 ],
 "metadata": {
  "kernelspec": {
   "display_name": "Python 3 (ipykernel)",
   "language": "python",
   "name": "python3"
  },
  "language_info": {
   "codemirror_mode": {
    "name": "ipython",
    "version": 3
   },
   "file_extension": ".py",
   "mimetype": "text/x-python",
   "name": "python",
   "nbconvert_exporter": "python",
   "pygments_lexer": "ipython3",
   "version": "3.9.7"
  }
 },
 "nbformat": 4,
 "nbformat_minor": 5
}
