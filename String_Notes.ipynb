{
 "cells": [
  {
   "cell_type": "markdown",
   "id": "7004e32b",
   "metadata": {},
   "source": [
    "## Strings"
   ]
  },
  {
   "cell_type": "code",
   "execution_count": 1,
   "id": "35ecf20d",
   "metadata": {},
   "outputs": [],
   "source": [
    "message = \"Hello this is my String notebook\""
   ]
  },
  {
   "cell_type": "code",
   "execution_count": 2,
   "id": "d9bfd36e",
   "metadata": {},
   "outputs": [
    {
     "data": {
      "text/plain": [
       "'Hello this is my String notebook'"
      ]
     },
     "execution_count": 2,
     "metadata": {},
     "output_type": "execute_result"
    }
   ],
   "source": [
    "message"
   ]
  },
  {
   "cell_type": "code",
   "execution_count": 3,
   "id": "009f7d7e",
   "metadata": {},
   "outputs": [
    {
     "data": {
      "text/plain": [
       "'H'"
      ]
     },
     "execution_count": 3,
     "metadata": {},
     "output_type": "execute_result"
    }
   ],
   "source": [
    "message[0]"
   ]
  },
  {
   "cell_type": "code",
   "execution_count": 4,
   "id": "3313bac8",
   "metadata": {},
   "outputs": [
    {
     "data": {
      "text/plain": [
       "'o'"
      ]
     },
     "execution_count": 4,
     "metadata": {},
     "output_type": "execute_result"
    }
   ],
   "source": [
    "message[4]"
   ]
  },
  {
   "cell_type": "code",
   "execution_count": 5,
   "id": "de1a7b2a",
   "metadata": {},
   "outputs": [
    {
     "data": {
      "text/plain": [
       "'k'"
      ]
     },
     "execution_count": 5,
     "metadata": {},
     "output_type": "execute_result"
    }
   ],
   "source": [
    "message[-1]"
   ]
  },
  {
   "cell_type": "code",
   "execution_count": 6,
   "id": "fd497959",
   "metadata": {},
   "outputs": [
    {
     "data": {
      "text/plain": [
       "'o'"
      ]
     },
     "execution_count": 6,
     "metadata": {},
     "output_type": "execute_result"
    }
   ],
   "source": [
    "message[-3]"
   ]
  },
  {
   "cell_type": "code",
   "execution_count": 7,
   "id": "b2a3123c",
   "metadata": {},
   "outputs": [
    {
     "data": {
      "text/plain": [
       "'el'"
      ]
     },
     "execution_count": 7,
     "metadata": {},
     "output_type": "execute_result"
    }
   ],
   "source": [
    "message[1:3]"
   ]
  },
  {
   "cell_type": "code",
   "execution_count": 8,
   "id": "403e34d9",
   "metadata": {},
   "outputs": [
    {
     "data": {
      "text/plain": [
       "'lo'"
      ]
     },
     "execution_count": 8,
     "metadata": {},
     "output_type": "execute_result"
    }
   ],
   "source": [
    "message[3:5]"
   ]
  },
  {
   "cell_type": "code",
   "execution_count": 9,
   "id": "1013d309",
   "metadata": {},
   "outputs": [
    {
     "data": {
      "text/plain": [
       "'el '"
      ]
     },
     "execution_count": 9,
     "metadata": {},
     "output_type": "execute_result"
    }
   ],
   "source": [
    "message[1:7:2]"
   ]
  },
  {
   "cell_type": "code",
   "execution_count": 10,
   "id": "fefdf2d5",
   "metadata": {},
   "outputs": [
    {
     "data": {
      "text/plain": [
       "'Hello t'"
      ]
     },
     "execution_count": 10,
     "metadata": {},
     "output_type": "execute_result"
    }
   ],
   "source": [
    "message[:7]"
   ]
  },
  {
   "cell_type": "code",
   "execution_count": 11,
   "id": "9613b93f",
   "metadata": {},
   "outputs": [
    {
     "data": {
      "text/plain": [
       "'koobeton gnirtS ym si siht olleH'"
      ]
     },
     "execution_count": 11,
     "metadata": {},
     "output_type": "execute_result"
    }
   ],
   "source": [
    "message[::-1]"
   ]
  },
  {
   "cell_type": "code",
   "execution_count": 12,
   "id": "6628f8ca",
   "metadata": {},
   "outputs": [
    {
     "data": {
      "text/plain": [
       "'Hello this is my String notebook'"
      ]
     },
     "execution_count": 12,
     "metadata": {},
     "output_type": "execute_result"
    }
   ],
   "source": [
    "message"
   ]
  },
  {
   "cell_type": "code",
   "execution_count": 13,
   "id": "31d54c20",
   "metadata": {},
   "outputs": [],
   "source": [
    "message=\"h\"+message[1:]"
   ]
  },
  {
   "cell_type": "code",
   "execution_count": 14,
   "id": "241e49ef",
   "metadata": {},
   "outputs": [
    {
     "data": {
      "text/plain": [
       "'hello this is my String notebook'"
      ]
     },
     "execution_count": 14,
     "metadata": {},
     "output_type": "execute_result"
    }
   ],
   "source": [
    "message"
   ]
  },
  {
   "cell_type": "code",
   "execution_count": 15,
   "id": "856a4dd2",
   "metadata": {},
   "outputs": [],
   "source": [
    "## str[Start:End:STEP]"
   ]
  },
  {
   "cell_type": "code",
   "execution_count": 16,
   "id": "8b98a1e2",
   "metadata": {},
   "outputs": [],
   "source": [
    "name=\"mahdi\""
   ]
  },
  {
   "cell_type": "code",
   "execution_count": 17,
   "id": "1dda15aa",
   "metadata": {},
   "outputs": [
    {
     "data": {
      "text/plain": [
       "'mahdi'"
      ]
     },
     "execution_count": 17,
     "metadata": {},
     "output_type": "execute_result"
    }
   ],
   "source": [
    "name"
   ]
  },
  {
   "cell_type": "code",
   "execution_count": 18,
   "id": "5822e68c",
   "metadata": {},
   "outputs": [],
   "source": [
    "greeting = \"hello\""
   ]
  },
  {
   "cell_type": "code",
   "execution_count": 19,
   "id": "aca4552a",
   "metadata": {},
   "outputs": [
    {
     "name": "stdout",
     "output_type": "stream",
     "text": [
      "hello mahdi\n"
     ]
    }
   ],
   "source": [
    "print(greeting + \" \"+name)"
   ]
  },
  {
   "cell_type": "markdown",
   "id": "acfb3c6e",
   "metadata": {},
   "source": [
    "### type()"
   ]
  },
  {
   "cell_type": "code",
   "execution_count": 20,
   "id": "67a0383a",
   "metadata": {},
   "outputs": [
    {
     "data": {
      "text/plain": [
       "str"
      ]
     },
     "execution_count": 20,
     "metadata": {},
     "output_type": "execute_result"
    }
   ],
   "source": [
    "type(name)"
   ]
  },
  {
   "cell_type": "code",
   "execution_count": 21,
   "id": "304962b9",
   "metadata": {},
   "outputs": [],
   "source": [
    "age = 27"
   ]
  },
  {
   "cell_type": "code",
   "execution_count": 22,
   "id": "e41577f5",
   "metadata": {},
   "outputs": [
    {
     "data": {
      "text/plain": [
       "int"
      ]
     },
     "execution_count": 22,
     "metadata": {},
     "output_type": "execute_result"
    }
   ],
   "source": [
    "type(age)"
   ]
  },
  {
   "cell_type": "code",
   "execution_count": 23,
   "id": "2e9bc836",
   "metadata": {},
   "outputs": [],
   "source": [
    "ghad = 180"
   ]
  },
  {
   "cell_type": "code",
   "execution_count": 24,
   "id": "35586a1d",
   "metadata": {},
   "outputs": [
    {
     "data": {
      "text/plain": [
       "int"
      ]
     },
     "execution_count": 24,
     "metadata": {},
     "output_type": "execute_result"
    }
   ],
   "source": [
    "type(ghad)"
   ]
  },
  {
   "cell_type": "markdown",
   "id": "c205febc",
   "metadata": {},
   "source": [
    "### String Methods"
   ]
  },
  {
   "cell_type": "code",
   "execution_count": 26,
   "id": "d2ee8027",
   "metadata": {},
   "outputs": [
    {
     "data": {
      "text/plain": [
       "'MAHDI'"
      ]
     },
     "execution_count": 26,
     "metadata": {},
     "output_type": "execute_result"
    }
   ],
   "source": [
    "name.upper()"
   ]
  },
  {
   "cell_type": "code",
   "execution_count": 27,
   "id": "ad44e6ee",
   "metadata": {},
   "outputs": [
    {
     "data": {
      "text/plain": [
       "'mahdi'"
      ]
     },
     "execution_count": 27,
     "metadata": {},
     "output_type": "execute_result"
    }
   ],
   "source": [
    "name.lower()"
   ]
  },
  {
   "cell_type": "code",
   "execution_count": 28,
   "id": "2444637d",
   "metadata": {},
   "outputs": [
    {
     "data": {
      "text/plain": [
       "True"
      ]
     },
     "execution_count": 28,
     "metadata": {},
     "output_type": "execute_result"
    }
   ],
   "source": [
    "name.islower()"
   ]
  },
  {
   "cell_type": "code",
   "execution_count": 29,
   "id": "9d1bbd48",
   "metadata": {},
   "outputs": [
    {
     "data": {
      "text/plain": [
       "4"
      ]
     },
     "execution_count": 29,
     "metadata": {},
     "output_type": "execute_result"
    }
   ],
   "source": [
    "name.index('i')"
   ]
  },
  {
   "cell_type": "code",
   "execution_count": 30,
   "id": "ef9c5e66",
   "metadata": {},
   "outputs": [],
   "source": [
    "likes = \"cat,computer,linux,ai,ML,GNN\""
   ]
  },
  {
   "cell_type": "code",
   "execution_count": 31,
   "id": "0fb76b0e",
   "metadata": {},
   "outputs": [
    {
     "data": {
      "text/plain": [
       "['cat', 'computer', 'linux', 'ai', 'ML', 'GNN']"
      ]
     },
     "execution_count": 31,
     "metadata": {},
     "output_type": "execute_result"
    }
   ],
   "source": [
    "likes.split(\",\")"
   ]
  },
  {
   "cell_type": "code",
   "execution_count": 55,
   "id": "05270462",
   "metadata": {},
   "outputs": [
    {
     "data": {
      "text/plain": [
       "5"
      ]
     },
     "execution_count": 55,
     "metadata": {},
     "output_type": "execute_result"
    }
   ],
   "source": [
    "len(name)"
   ]
  },
  {
   "cell_type": "markdown",
   "id": "7a8c6ebf",
   "metadata": {},
   "source": [
    "### String interpolation"
   ]
  },
  {
   "cell_type": "code",
   "execution_count": 32,
   "id": "311f55cd",
   "metadata": {},
   "outputs": [
    {
     "name": "stdout",
     "output_type": "stream",
     "text": [
      "hello mahdi\n"
     ]
    }
   ],
   "source": [
    "print(\"hello\" + \" \"+ name)"
   ]
  },
  {
   "cell_type": "code",
   "execution_count": 33,
   "id": "df138c8b",
   "metadata": {},
   "outputs": [],
   "source": [
    "family_name = \"mahdiani\""
   ]
  },
  {
   "cell_type": "code",
   "execution_count": 34,
   "id": "23f7a39a",
   "metadata": {},
   "outputs": [
    {
     "name": "stdout",
     "output_type": "stream",
     "text": [
      "Hello mahdi mahdiani\n"
     ]
    }
   ],
   "source": [
    "print(\"Hello\" + \" \" + name + \" \"+ family_name)"
   ]
  },
  {
   "cell_type": "code",
   "execution_count": 37,
   "id": "34ed69f7",
   "metadata": {},
   "outputs": [
    {
     "name": "stdout",
     "output_type": "stream",
     "text": [
      "Hello mahdi mahdiani 27\n"
     ]
    }
   ],
   "source": [
    "## Old\n",
    "print(\"Hello %s %s %i\"%(name,family_name,age))"
   ]
  },
  {
   "cell_type": "code",
   "execution_count": 38,
   "id": "0cd847d3",
   "metadata": {},
   "outputs": [],
   "source": [
    "## format string"
   ]
  },
  {
   "cell_type": "code",
   "execution_count": 39,
   "id": "6f4c88ce",
   "metadata": {},
   "outputs": [
    {
     "name": "stdout",
     "output_type": "stream",
     "text": [
      "Hello mahdi mahdiani you are 27\n"
     ]
    }
   ],
   "source": [
    "print(\"Hello {} {} you are {}\".format(name,family_name,age))"
   ]
  },
  {
   "cell_type": "code",
   "execution_count": 40,
   "id": "3a95d89d",
   "metadata": {},
   "outputs": [
    {
     "name": "stdout",
     "output_type": "stream",
     "text": [
      "Hello mahdiani mahdi you are 27\n"
     ]
    }
   ],
   "source": [
    "print(\"Hello {1} {0} you are {2}\".format(name,family_name,age))"
   ]
  },
  {
   "cell_type": "code",
   "execution_count": 41,
   "id": "ef30d67e",
   "metadata": {},
   "outputs": [
    {
     "name": "stdout",
     "output_type": "stream",
     "text": [
      "Hello mahdiani mahdi you are mahdi\n"
     ]
    }
   ],
   "source": [
    "print(\"Hello {1} {0} you are {0}\".format(name,family_name,age))"
   ]
  },
  {
   "cell_type": "code",
   "execution_count": 42,
   "id": "c75ddad0",
   "metadata": {},
   "outputs": [
    {
     "name": "stdout",
     "output_type": "stream",
     "text": [
      "Hello mahdiani mahdi you are 27\n"
     ]
    }
   ],
   "source": [
    "print(\"Hello {family} {name} you are {sen}\".format(name=name,family=family_name,sen=age))"
   ]
  },
  {
   "cell_type": "code",
   "execution_count": 43,
   "id": "a2bd579e",
   "metadata": {},
   "outputs": [],
   "source": [
    "age=27.4"
   ]
  },
  {
   "cell_type": "code",
   "execution_count": 44,
   "id": "fa78f63f",
   "metadata": {},
   "outputs": [
    {
     "name": "stdout",
     "output_type": "stream",
     "text": [
      "Hello mahdiani mahdi you are 27.4\n"
     ]
    }
   ],
   "source": [
    "print(\"Hello {family} {name} you are {sen}\".format(name=name,family=family_name,sen=age))"
   ]
  },
  {
   "cell_type": "code",
   "execution_count": 45,
   "id": "9636ebd9",
   "metadata": {},
   "outputs": [],
   "source": [
    "age=27.4457"
   ]
  },
  {
   "cell_type": "code",
   "execution_count": 47,
   "id": "d2d9a351",
   "metadata": {},
   "outputs": [
    {
     "name": "stdout",
     "output_type": "stream",
     "text": [
      "Hello mahdiani mahdi you are 27.44575\n"
     ]
    }
   ],
   "source": [
    "print(\"Hello {family} {name} you are {sen}\".format(name=name,family=family_name,sen=age))"
   ]
  },
  {
   "cell_type": "code",
   "execution_count": 46,
   "id": "7eee6b66",
   "metadata": {},
   "outputs": [
    {
     "name": "stdout",
     "output_type": "stream",
     "text": [
      "Hello mahdiani mahdi you are 27.4\n"
     ]
    }
   ],
   "source": [
    "print(\"Hello {family} {name} you are {sen:1.1f}\".format(name=name,family=family_name,sen=age))"
   ]
  },
  {
   "cell_type": "code",
   "execution_count": 48,
   "id": "95b9ac17",
   "metadata": {},
   "outputs": [
    {
     "name": "stdout",
     "output_type": "stream",
     "text": [
      "Hello mahdiani mahdi you are  27.4\n"
     ]
    }
   ],
   "source": [
    "print(\"Hello {family} {name} you are {sen:5.1f}\".format(name=name,family=family_name,sen=age))"
   ]
  },
  {
   "cell_type": "markdown",
   "id": "ef1f74a7",
   "metadata": {},
   "source": [
    "### f String"
   ]
  },
  {
   "cell_type": "code",
   "execution_count": 49,
   "id": "c0244c0f",
   "metadata": {},
   "outputs": [
    {
     "name": "stdout",
     "output_type": "stream",
     "text": [
      "Hello mahdiani mahdi you are  27.4\n"
     ]
    }
   ],
   "source": [
    "print(f\"Hello {family_name} {name} you are {age:5.1f}\")"
   ]
  },
  {
   "cell_type": "code",
   "execution_count": 50,
   "id": "cb7558e7",
   "metadata": {},
   "outputs": [],
   "source": [
    "pishvand =\"agha\""
   ]
  },
  {
   "cell_type": "code",
   "execution_count": 53,
   "id": "a06c8382",
   "metadata": {},
   "outputs": [
    {
     "name": "stdout",
     "output_type": "stream",
     "text": [
      "Hello aghamahdiani mahdi you are  27.4\n"
     ]
    }
   ],
   "source": [
    "print(f\"Hello {pishvand+family_name} {name} you are {age:5.1f}\")"
   ]
  },
  {
   "cell_type": "code",
   "execution_count": 56,
   "id": "08b61e69",
   "metadata": {},
   "outputs": [],
   "source": [
    "## Tamrin"
   ]
  },
  {
   "cell_type": "code",
   "execution_count": 57,
   "id": "27d83c22",
   "metadata": {},
   "outputs": [],
   "source": [
    "x = 'Hi this is a string'"
   ]
  },
  {
   "cell_type": "code",
   "execution_count": 58,
   "id": "3867ebb2",
   "metadata": {},
   "outputs": [],
   "source": [
    "x=x.lower()"
   ]
  },
  {
   "cell_type": "code",
   "execution_count": 59,
   "id": "4b339aa0",
   "metadata": {},
   "outputs": [
    {
     "data": {
      "text/plain": [
       "'hi this is a string'"
      ]
     },
     "execution_count": 59,
     "metadata": {},
     "output_type": "execute_result"
    }
   ],
   "source": [
    "x"
   ]
  },
  {
   "cell_type": "code",
   "execution_count": 60,
   "id": "c66c076d",
   "metadata": {},
   "outputs": [
    {
     "data": {
      "text/plain": [
       "['hi', 'this', 'is', 'a', 'string']"
      ]
     },
     "execution_count": 60,
     "metadata": {},
     "output_type": "execute_result"
    }
   ],
   "source": [
    "x.split()"
   ]
  },
  {
   "cell_type": "code",
   "execution_count": null,
   "id": "900f61dc",
   "metadata": {},
   "outputs": [],
   "source": []
  }
 ],
 "metadata": {
  "kernelspec": {
   "display_name": "Python 3 (ipykernel)",
   "language": "python",
   "name": "python3"
  },
  "language_info": {
   "codemirror_mode": {
    "name": "ipython",
    "version": 3
   },
   "file_extension": ".py",
   "mimetype": "text/x-python",
   "name": "python",
   "nbconvert_exporter": "python",
   "pygments_lexer": "ipython3",
   "version": "3.9.7"
  }
 },
 "nbformat": 4,
 "nbformat_minor": 5
}
