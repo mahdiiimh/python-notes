{
 "cells": [
  {
   "cell_type": "markdown",
   "id": "122dcb13-9c6d-4067-87b4-6a2fc5fe52f3",
   "metadata": {},
   "source": [
    "### Try / Except"
   ]
  },
  {
   "cell_type": "code",
   "execution_count": 2,
   "id": "bb92054f-5b39-460f-aa39-c007d47a0927",
   "metadata": {},
   "outputs": [
    {
     "ename": "FileNotFoundError",
     "evalue": "[Errno 2] No such file or directory: '/chertpert'",
     "output_type": "error",
     "traceback": [
      "\u001b[0;31m---------------------------------------------------------------------------\u001b[0m",
      "\u001b[0;31mFileNotFoundError\u001b[0m                         Traceback (most recent call last)",
      "Cell \u001b[0;32mIn[2], line 1\u001b[0m\n\u001b[0;32m----> 1\u001b[0m f\u001b[38;5;241m=\u001b[39m \u001b[38;5;28mopen\u001b[39m(\u001b[38;5;124m\"\u001b[39m\u001b[38;5;124m/chertpert\u001b[39m\u001b[38;5;124m\"\u001b[39m)\n",
      "File \u001b[0;32m/opt/anaconda3/lib/python3.12/site-packages/IPython/core/interactiveshell.py:324\u001b[0m, in \u001b[0;36m_modified_open\u001b[0;34m(file, *args, **kwargs)\u001b[0m\n\u001b[1;32m    317\u001b[0m \u001b[38;5;28;01mif\u001b[39;00m file \u001b[38;5;129;01min\u001b[39;00m {\u001b[38;5;241m0\u001b[39m, \u001b[38;5;241m1\u001b[39m, \u001b[38;5;241m2\u001b[39m}:\n\u001b[1;32m    318\u001b[0m     \u001b[38;5;28;01mraise\u001b[39;00m \u001b[38;5;167;01mValueError\u001b[39;00m(\n\u001b[1;32m    319\u001b[0m         \u001b[38;5;124mf\u001b[39m\u001b[38;5;124m\"\u001b[39m\u001b[38;5;124mIPython won\u001b[39m\u001b[38;5;124m'\u001b[39m\u001b[38;5;124mt let you open fd=\u001b[39m\u001b[38;5;132;01m{\u001b[39;00mfile\u001b[38;5;132;01m}\u001b[39;00m\u001b[38;5;124m by default \u001b[39m\u001b[38;5;124m\"\u001b[39m\n\u001b[1;32m    320\u001b[0m         \u001b[38;5;124m\"\u001b[39m\u001b[38;5;124mas it is likely to crash IPython. If you know what you are doing, \u001b[39m\u001b[38;5;124m\"\u001b[39m\n\u001b[1;32m    321\u001b[0m         \u001b[38;5;124m\"\u001b[39m\u001b[38;5;124myou can use builtins\u001b[39m\u001b[38;5;124m'\u001b[39m\u001b[38;5;124m open.\u001b[39m\u001b[38;5;124m\"\u001b[39m\n\u001b[1;32m    322\u001b[0m     )\n\u001b[0;32m--> 324\u001b[0m \u001b[38;5;28;01mreturn\u001b[39;00m io_open(file, \u001b[38;5;241m*\u001b[39margs, \u001b[38;5;241m*\u001b[39m\u001b[38;5;241m*\u001b[39mkwargs)\n",
      "\u001b[0;31mFileNotFoundError\u001b[0m: [Errno 2] No such file or directory: '/chertpert'"
     ]
    }
   ],
   "source": [
    "f= open(\"/chertpert\")"
   ]
  },
  {
   "cell_type": "code",
   "execution_count": 4,
   "id": "0240599c-251a-4a02-83ed-d0765f174749",
   "metadata": {},
   "outputs": [
    {
     "ename": "ZeroDivisionError",
     "evalue": "division by zero",
     "output_type": "error",
     "traceback": [
      "\u001b[0;31m---------------------------------------------------------------------------\u001b[0m",
      "\u001b[0;31mZeroDivisionError\u001b[0m                         Traceback (most recent call last)",
      "Cell \u001b[0;32mIn[4], line 1\u001b[0m\n\u001b[0;32m----> 1\u001b[0m b \u001b[38;5;241m=\u001b[39m \u001b[38;5;241m5\u001b[39m\u001b[38;5;241m/\u001b[39m\u001b[38;5;241m0\u001b[39m\n",
      "\u001b[0;31mZeroDivisionError\u001b[0m: division by zero"
     ]
    }
   ],
   "source": [
    "b = 5/0"
   ]
  },
  {
   "cell_type": "code",
   "execution_count": 6,
   "id": "b824a0c4-2d60-47db-97b6-d008433b9ce3",
   "metadata": {},
   "outputs": [
    {
     "name": "stdout",
     "output_type": "stream",
     "text": [
      "test\n"
     ]
    }
   ],
   "source": [
    "try :\n",
    "    print(\"test\") ## age ok bood injaro ejra mikone\n",
    "except:\n",
    "    print(\"nashod\") ### age erori bokhore injaro ejra mikone"
   ]
  },
  {
   "cell_type": "code",
   "execution_count": 8,
   "id": "21fc1b56-d044-4956-80f6-6aeb40d49d3d",
   "metadata": {},
   "outputs": [],
   "source": [
    "def divis(a,b):\n",
    "    return a/b"
   ]
  },
  {
   "cell_type": "code",
   "execution_count": 10,
   "id": "936510b2-5cfd-4676-956c-1c45823b86c2",
   "metadata": {},
   "outputs": [
    {
     "name": "stdout",
     "output_type": "stream",
     "text": [
      "0.5\n"
     ]
    },
    {
     "ename": "ZeroDivisionError",
     "evalue": "division by zero",
     "output_type": "error",
     "traceback": [
      "\u001b[0;31m---------------------------------------------------------------------------\u001b[0m",
      "\u001b[0;31mZeroDivisionError\u001b[0m                         Traceback (most recent call last)",
      "Cell \u001b[0;32mIn[10], line 2\u001b[0m\n\u001b[1;32m      1\u001b[0m \u001b[38;5;28mprint\u001b[39m(divis(\u001b[38;5;241m1\u001b[39m,\u001b[38;5;241m2\u001b[39m))\n\u001b[0;32m----> 2\u001b[0m \u001b[38;5;28mprint\u001b[39m(divis(\u001b[38;5;241m3\u001b[39m,\u001b[38;5;241m0\u001b[39m))\n",
      "Cell \u001b[0;32mIn[8], line 2\u001b[0m, in \u001b[0;36mdivis\u001b[0;34m(a, b)\u001b[0m\n\u001b[1;32m      1\u001b[0m \u001b[38;5;28;01mdef\u001b[39;00m \u001b[38;5;21mdivis\u001b[39m(a,b):\n\u001b[0;32m----> 2\u001b[0m     \u001b[38;5;28;01mreturn\u001b[39;00m a\u001b[38;5;241m/\u001b[39mb\n",
      "\u001b[0;31mZeroDivisionError\u001b[0m: division by zero"
     ]
    }
   ],
   "source": [
    "print(divis(1,2))\n",
    "print(divis(3,0))"
   ]
  },
  {
   "cell_type": "code",
   "execution_count": 12,
   "id": "8ce4ddf5-836a-4b6d-bb25-ed92a37ecc1c",
   "metadata": {},
   "outputs": [],
   "source": [
    "def divis(a,b):\n",
    "    try:\n",
    "        return a/b\n",
    "    except:\n",
    "        print(\"error in returning\")\n",
    "        return None\n"
   ]
  },
  {
   "cell_type": "code",
   "execution_count": 14,
   "id": "433a9e7d-8a03-40d9-9246-8ed3c0a63926",
   "metadata": {},
   "outputs": [
    {
     "name": "stdout",
     "output_type": "stream",
     "text": [
      "0.5\n",
      "error in returning\n",
      "None\n"
     ]
    }
   ],
   "source": [
    "print(divis(1,2))\n",
    "print(divis(3,0))"
   ]
  },
  {
   "cell_type": "code",
   "execution_count": 16,
   "id": "baecc284-8b7e-450d-af92-0af0e3c9cca4",
   "metadata": {},
   "outputs": [],
   "source": [
    "## moshkel ghabli in bood ke nemifahmidim error chi bood\n",
    "## sooooooo\n",
    "def divis(a,b):\n",
    "    try:\n",
    "        return a/b\n",
    "    except Exception as e:\n",
    "        print(f\"error in returning , e = {e}\")\n",
    "        return None\n"
   ]
  },
  {
   "cell_type": "code",
   "execution_count": 18,
   "id": "672e6395-c5a5-4f4d-b5f7-853bd40f7e0d",
   "metadata": {},
   "outputs": [
    {
     "name": "stdout",
     "output_type": "stream",
     "text": [
      "0.5\n",
      "error in returning , e = division by zero\n",
      "None\n"
     ]
    }
   ],
   "source": [
    "print(divis(1,2))\n",
    "print(divis(3,0))"
   ]
  },
  {
   "cell_type": "code",
   "execution_count": 22,
   "id": "21d99bab-ac14-4656-9400-6adf7d7ba5dd",
   "metadata": {},
   "outputs": [],
   "source": [
    "def divis(a,b):\n",
    "    try:\n",
    "        return a/b\n",
    "    except ZeroDivisionError:\n",
    "        print(\"b can not be 0\")\n",
    "        return None\n",
    "    except Exception as e :\n",
    "        print(f\" Another error , e = {e}\")\n",
    "        return None"
   ]
  },
  {
   "cell_type": "code",
   "execution_count": 25,
   "id": "80ef6fa7-de4f-4a8a-bee9-b8734619011c",
   "metadata": {},
   "outputs": [
    {
     "name": "stdout",
     "output_type": "stream",
     "text": [
      "0.5\n",
      "b can not be 0\n",
      "None\n"
     ]
    }
   ],
   "source": [
    "print(divis(1,2))\n",
    "print(divis(3,0))"
   ]
  },
  {
   "cell_type": "code",
   "execution_count": 29,
   "id": "100aadb9-cdd5-4b92-8ae5-2a891291ff62",
   "metadata": {},
   "outputs": [
    {
     "name": "stdout",
     "output_type": "stream",
     "text": [
      " Another error , e = unsupported operand type(s) for /: 'str' and 'bool'\n",
      "None\n"
     ]
    }
   ],
   "source": [
    "print(divis(\"a\",True))"
   ]
  },
  {
   "cell_type": "code",
   "execution_count": 31,
   "id": "fd071ba8-25f4-414d-8adc-8e968a5bea32",
   "metadata": {},
   "outputs": [],
   "source": [
    "## check python built-in Exception"
   ]
  },
  {
   "cell_type": "code",
   "execution_count": 35,
   "id": "e4186e47-e0a6-46c9-b889-6bda6ae5754d",
   "metadata": {},
   "outputs": [
    {
     "ename": "IndentationError",
     "evalue": "expected an indented block after 'try' statement on line 1 (293925422.py, line 3)",
     "output_type": "error",
     "traceback": [
      "\u001b[0;36m  Cell \u001b[0;32mIn[35], line 3\u001b[0;36m\u001b[0m\n\u001b[0;31m    except :\u001b[0m\n\u001b[0m    ^\u001b[0m\n\u001b[0;31mIndentationError\u001b[0m\u001b[0;31m:\u001b[0m expected an indented block after 'try' statement on line 1\n"
     ]
    }
   ],
   "source": [
    "try:\n",
    "    ## try this\n",
    "except :\n",
    "    ## show exceptions\n",
    "else:\n",
    "    ## will run if no exception happens\n",
    "finally:\n",
    "    ## will be done in any case"
   ]
  },
  {
   "cell_type": "code",
   "execution_count": 39,
   "id": "678b3f6a-ea91-4e1d-b952-54594c155c72",
   "metadata": {},
   "outputs": [],
   "source": [
    "def divis(a,b):\n",
    "    try:\n",
    "        r = a/b\n",
    "        prit(r) ## farz konim inja eshteba type darim\n",
    "    except Exception as e :\n",
    "        print(f\" had error {e}\")\n",
    "    else:\n",
    "        print(\"else\")\n",
    "    finally:\n",
    "        print(\"finally\")"
   ]
  },
  {
   "cell_type": "code",
   "execution_count": 41,
   "id": "95648087-d06a-4d60-889d-1a945ae73579",
   "metadata": {},
   "outputs": [
    {
     "name": "stdout",
     "output_type": "stream",
     "text": [
      " had error name 'prit' is not defined\n",
      "finally\n"
     ]
    }
   ],
   "source": [
    "divis(1,2)"
   ]
  },
  {
   "cell_type": "code",
   "execution_count": 43,
   "id": "fcff65e5-32e8-4017-80ab-16bc98963554",
   "metadata": {},
   "outputs": [],
   "source": [
    "def divis(a,b):\n",
    "    try:\n",
    "        r = a/b\n",
    "         ## behtare faghat ounaii ke Exception tolid mikone inja bashe\n",
    "    except Exception as e :\n",
    "        print(f\" had error {e}\")\n",
    "        r = None\n",
    "    else:\n",
    "        print(r)\n",
    "    finally:\n",
    "        return r"
   ]
  },
  {
   "cell_type": "code",
   "execution_count": 47,
   "id": "0cca4286-f9d5-4f9c-866d-933d97f63006",
   "metadata": {},
   "outputs": [
    {
     "name": "stdout",
     "output_type": "stream",
     "text": [
      "0.5\n"
     ]
    },
    {
     "data": {
      "text/plain": [
       "0.5"
      ]
     },
     "execution_count": 47,
     "metadata": {},
     "output_type": "execute_result"
    }
   ],
   "source": [
    "divis(1,2)"
   ]
  },
  {
   "cell_type": "code",
   "execution_count": 49,
   "id": "5ae4fa88-170a-49f0-bb66-69f209fd5911",
   "metadata": {},
   "outputs": [
    {
     "name": "stdout",
     "output_type": "stream",
     "text": [
      " had error division by zero\n"
     ]
    }
   ],
   "source": [
    "divis(1,0)"
   ]
  },
  {
   "cell_type": "code",
   "execution_count": 51,
   "id": "e47afae7-478d-4272-a75d-cd53605b74cd",
   "metadata": {},
   "outputs": [
    {
     "name": "stdout",
     "output_type": "stream",
     "text": [
      " had error division by zero\n",
      "None\n"
     ]
    }
   ],
   "source": [
    "print(divis(1,0))"
   ]
  },
  {
   "cell_type": "markdown",
   "id": "744fc2c1-de81-4fda-bd58-1457d9992cef",
   "metadata": {},
   "source": [
    "### Linter in error handling"
   ]
  },
  {
   "cell_type": "code",
   "execution_count": 54,
   "id": "df622ac6-2000-41dc-ab92-6775de4828d3",
   "metadata": {},
   "outputs": [],
   "source": [
    "## negah mikone mige cheghadr khosh khate"
   ]
  },
  {
   "cell_type": "code",
   "execution_count": 56,
   "id": "2710e21a-1717-4f06-8a7d-6db945773471",
   "metadata": {},
   "outputs": [],
   "source": [
    "## use pylint in terminal"
   ]
  },
  {
   "cell_type": "code",
   "execution_count": 58,
   "id": "e4e8410c-bcf8-4b0d-8b9f-e665b297862a",
   "metadata": {},
   "outputs": [],
   "source": [
    "### check PEP Style guide"
   ]
  },
  {
   "cell_type": "code",
   "execution_count": 60,
   "id": "2da29ec7-a310-4edf-bfc6-c8ef9e728451",
   "metadata": {},
   "outputs": [],
   "source": [
    " ### black ham format mikone shekl ro"
   ]
  },
  {
   "cell_type": "markdown",
   "id": "180f3f91-cbee-44e9-8aad-15f1833dd5fc",
   "metadata": {},
   "source": [
    "### Unit Test"
   ]
  },
  {
   "cell_type": "code",
   "execution_count": 64,
   "id": "e16101fc-5753-44ea-870d-9b9f1607efb3",
   "metadata": {},
   "outputs": [
    {
     "name": "stdout",
     "output_type": "stream",
     "text": [
      "1\n"
     ]
    }
   ],
   "source": [
    "def countc(s,c):\n",
    "    found = 0 \n",
    "    for this_char in s :\n",
    "        if this_char == c:\n",
    "            found += 1\n",
    "    return found\n",
    "print(countc(\"mahdi\",\"a\"))"
   ]
  },
  {
   "cell_type": "code",
   "execution_count": 68,
   "id": "5f874cc8-9d05-42df-9ec5-78cf44f789dc",
   "metadata": {},
   "outputs": [],
   "source": [
    "### nothing more here , check the video\n",
    "### import unittest"
   ]
  },
  {
   "cell_type": "code",
   "execution_count": 70,
   "id": "ae0f645e-8632-4d62-a088-2277f5bd45f1",
   "metadata": {},
   "outputs": [],
   "source": [
    "### Exercise"
   ]
  },
  {
   "cell_type": "code",
   "execution_count": 72,
   "id": "9764e25f-99d9-4d8d-8110-6b8df03a1560",
   "metadata": {},
   "outputs": [
    {
     "name": "stdin",
     "output_type": "stream",
     "text": [
      "Enter first number:  10\n",
      "Enter second number:  0\n"
     ]
    },
    {
     "ename": "ZeroDivisionError",
     "evalue": "division by zero",
     "output_type": "error",
     "traceback": [
      "\u001b[0;31m---------------------------------------------------------------------------\u001b[0m",
      "\u001b[0;31mZeroDivisionError\u001b[0m                         Traceback (most recent call last)",
      "Cell \u001b[0;32mIn[72], line 8\u001b[0m\n\u001b[1;32m      5\u001b[0m num1 \u001b[38;5;241m=\u001b[39m \u001b[38;5;28mint\u001b[39m(\u001b[38;5;28minput\u001b[39m(\u001b[38;5;124m\"\u001b[39m\u001b[38;5;124mEnter first number: \u001b[39m\u001b[38;5;124m\"\u001b[39m))\n\u001b[1;32m      6\u001b[0m num2 \u001b[38;5;241m=\u001b[39m \u001b[38;5;28mint\u001b[39m(\u001b[38;5;28minput\u001b[39m(\u001b[38;5;124m\"\u001b[39m\u001b[38;5;124mEnter second number: \u001b[39m\u001b[38;5;124m\"\u001b[39m))\n\u001b[0;32m----> 8\u001b[0m \u001b[38;5;28mprint\u001b[39m(\u001b[38;5;124m\"\u001b[39m\u001b[38;5;124mResult:\u001b[39m\u001b[38;5;124m\"\u001b[39m, divide(num1, num2))\n",
      "Cell \u001b[0;32mIn[72], line 2\u001b[0m, in \u001b[0;36mdivide\u001b[0;34m(a, b)\u001b[0m\n\u001b[1;32m      1\u001b[0m \u001b[38;5;28;01mdef\u001b[39;00m \u001b[38;5;21mdivide\u001b[39m(a, b):\n\u001b[0;32m----> 2\u001b[0m     result \u001b[38;5;241m=\u001b[39m a \u001b[38;5;241m/\u001b[39m b\n\u001b[1;32m      3\u001b[0m     \u001b[38;5;28;01mreturn\u001b[39;00m result\n",
      "\u001b[0;31mZeroDivisionError\u001b[0m: division by zero"
     ]
    }
   ],
   "source": [
    "def divide(a, b):\n",
    "    result = a / b\n",
    "    return result\n",
    "\n",
    "num1 = int(input(\"Enter first number: \"))\n",
    "num2 = int(input(\"Enter second number: \"))\n",
    "\n",
    "print(\"Result:\", divide(num1, num2))"
   ]
  },
  {
   "cell_type": "code",
   "execution_count": 98,
   "id": "12bf98f1-e001-4c00-97e6-b777d0c27359",
   "metadata": {},
   "outputs": [],
   "source": [
    "def divide(a, b):\n",
    "    try:\n",
    "        result = a / b\n",
    "    except ZeroDivisionError :\n",
    "        print(f\"b must not be 0\")\n",
    "        return None\n",
    "    except Exception as e :\n",
    "        print(f\"it has an error {e}\")\n",
    "        return None\n",
    "    else :\n",
    "        return result\n",
    "    finally :\n",
    "        print(\"Successfuly ran\")\n",
    "       "
   ]
  },
  {
   "cell_type": "code",
   "execution_count": 100,
   "id": "4bb708af-f149-42ac-badc-b45a80375af5",
   "metadata": {},
   "outputs": [],
   "source": [
    "def get_integer_input(prompt):\n",
    "    while True:\n",
    "        try:\n",
    "            return int(input(prompt))\n",
    "        except ValueError:\n",
    "            print(\"Please enter correct number\")"
   ]
  },
  {
   "cell_type": "code",
   "execution_count": 106,
   "id": "25411bc9-3b3d-45d9-b421-bb9816027b03",
   "metadata": {},
   "outputs": [
    {
     "name": "stdin",
     "output_type": "stream",
     "text": [
      "Enter first number:  10\n",
      "Enter second number:  ali\n"
     ]
    },
    {
     "name": "stdout",
     "output_type": "stream",
     "text": [
      "Please enter correct number\n"
     ]
    },
    {
     "name": "stdin",
     "output_type": "stream",
     "text": [
      "Enter second number:  reza\n"
     ]
    },
    {
     "name": "stdout",
     "output_type": "stream",
     "text": [
      "Please enter correct number\n"
     ]
    },
    {
     "name": "stdin",
     "output_type": "stream",
     "text": [
      "Enter second number:  0\n"
     ]
    },
    {
     "name": "stdout",
     "output_type": "stream",
     "text": [
      "b must not be 0\n",
      "Successfuly ran\n",
      "None\n"
     ]
    }
   ],
   "source": [
    "num1 = get_integer_input(\"Enter first number: \")\n",
    "num2 = get_integer_input(\"Enter second number: \")\n",
    "        \n",
    "result = divide(num1, num2)\n",
    "print(result)"
   ]
  },
  {
   "cell_type": "code",
   "execution_count": null,
   "id": "c8ed2d55-1179-4693-a012-b25ab8af0ab8",
   "metadata": {},
   "outputs": [],
   "source": []
  }
 ],
 "metadata": {
  "kernelspec": {
   "display_name": "Python [conda env:base] *",
   "language": "python",
   "name": "conda-base-py"
  },
  "language_info": {
   "codemirror_mode": {
    "name": "ipython",
    "version": 3
   },
   "file_extension": ".py",
   "mimetype": "text/x-python",
   "name": "python",
   "nbconvert_exporter": "python",
   "pygments_lexer": "ipython3",
   "version": "3.12.7"
  }
 },
 "nbformat": 4,
 "nbformat_minor": 5
}
