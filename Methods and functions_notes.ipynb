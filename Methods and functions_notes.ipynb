{
 "cells": [
  {
   "cell_type": "code",
   "execution_count": 1,
   "id": "aa3b0dbf",
   "metadata": {},
   "outputs": [],
   "source": [
    "l = [1, 2, 3, 4]"
   ]
  },
  {
   "cell_type": "code",
   "execution_count": 2,
   "id": "3274c6fe",
   "metadata": {},
   "outputs": [],
   "source": [
    "last= l.pop()"
   ]
  },
  {
   "cell_type": "code",
   "execution_count": 3,
   "id": "df2983c6",
   "metadata": {},
   "outputs": [
    {
     "data": {
      "text/plain": [
       "4"
      ]
     },
     "execution_count": 3,
     "metadata": {},
     "output_type": "execute_result"
    }
   ],
   "source": [
    "last"
   ]
  },
  {
   "cell_type": "code",
   "execution_count": 4,
   "id": "9ae2fb81",
   "metadata": {},
   "outputs": [
    {
     "data": {
      "text/plain": [
       "[1, 2, 3]"
      ]
     },
     "execution_count": 4,
     "metadata": {},
     "output_type": "execute_result"
    }
   ],
   "source": [
    "l"
   ]
  },
  {
   "cell_type": "code",
   "execution_count": 5,
   "id": "256b43b0",
   "metadata": {},
   "outputs": [
    {
     "name": "stdout",
     "output_type": "stream",
     "text": [
      "Help on built-in function pop:\n",
      "\n",
      "pop(index=-1, /) method of builtins.list instance\n",
      "    Remove and return item at index (default last).\n",
      "    \n",
      "    Raises IndexError if list is empty or index is out of range.\n",
      "\n"
     ]
    }
   ],
   "source": [
    "help(l.pop)"
   ]
  },
  {
   "cell_type": "code",
   "execution_count": 6,
   "id": "8835573d",
   "metadata": {},
   "outputs": [],
   "source": [
    "## function"
   ]
  },
  {
   "cell_type": "code",
   "execution_count": 7,
   "id": "28945a52",
   "metadata": {},
   "outputs": [],
   "source": [
    "## def name (Parameter):\n",
    "        ## TODO"
   ]
  },
  {
   "cell_type": "code",
   "execution_count": 8,
   "id": "4997bc48",
   "metadata": {},
   "outputs": [],
   "source": [
    "def hello():\n",
    "    print(\"Hello World\")"
   ]
  },
  {
   "cell_type": "code",
   "execution_count": 9,
   "id": "0899e4d5",
   "metadata": {},
   "outputs": [
    {
     "name": "stdout",
     "output_type": "stream",
     "text": [
      "Hello World\n"
     ]
    }
   ],
   "source": [
    "hello()"
   ]
  },
  {
   "cell_type": "code",
   "execution_count": 11,
   "id": "9dcfc02a",
   "metadata": {},
   "outputs": [
    {
     "name": "stdout",
     "output_type": "stream",
     "text": [
      "Hello World\n"
     ]
    }
   ],
   "source": [
    "hello()"
   ]
  },
  {
   "cell_type": "code",
   "execution_count": 16,
   "id": "af7514b1",
   "metadata": {},
   "outputs": [],
   "source": [
    "def hello(name):\n",
    "    '''\n",
    "    this function says hello to name\n",
    "    '''\n",
    "    for i in range(3):\n",
    "        print(f\"Hello {name}\")"
   ]
  },
  {
   "cell_type": "code",
   "execution_count": 17,
   "id": "3f2a4269",
   "metadata": {},
   "outputs": [
    {
     "name": "stdout",
     "output_type": "stream",
     "text": [
      "Hello Ali\n",
      "Hello Ali\n",
      "Hello Ali\n"
     ]
    }
   ],
   "source": [
    "hello(\"Ali\")"
   ]
  },
  {
   "cell_type": "code",
   "execution_count": null,
   "id": "c536deb1",
   "metadata": {},
   "outputs": [],
   "source": [
    "## function names are snake case : my_new_funct()"
   ]
  },
  {
   "cell_type": "code",
   "execution_count": 18,
   "id": "bf74ca35",
   "metadata": {},
   "outputs": [],
   "source": [
    "def hello(name,n):\n",
    "    '''\n",
    "    this function says hello to name\n",
    "    '''\n",
    "    for i in range(n):\n",
    "        print(f\"Hello {name}\")"
   ]
  },
  {
   "cell_type": "code",
   "execution_count": 20,
   "id": "e1beeb4b",
   "metadata": {},
   "outputs": [
    {
     "name": "stdout",
     "output_type": "stream",
     "text": [
      "Hello akbar\n",
      "Hello akbar\n",
      "Hello akbar\n",
      "Hello akbar\n",
      "Hello akbar\n"
     ]
    }
   ],
   "source": [
    "hello(\"akbar\", 5)"
   ]
  },
  {
   "cell_type": "code",
   "execution_count": 21,
   "id": "41a3c648",
   "metadata": {},
   "outputs": [],
   "source": [
    "def sum_of_numbers(a,b):\n",
    "    result = a + b\n",
    "    return result"
   ]
  },
  {
   "cell_type": "code",
   "execution_count": 23,
   "id": "bcd86ccb",
   "metadata": {},
   "outputs": [],
   "source": [
    "my_sum = sum_of_numbers(10,20)"
   ]
  },
  {
   "cell_type": "code",
   "execution_count": 24,
   "id": "d44025b6",
   "metadata": {},
   "outputs": [
    {
     "data": {
      "text/plain": [
       "30"
      ]
     },
     "execution_count": 24,
     "metadata": {},
     "output_type": "execute_result"
    }
   ],
   "source": [
    "my_sum"
   ]
  },
  {
   "cell_type": "code",
   "execution_count": 25,
   "id": "d5c474aa",
   "metadata": {},
   "outputs": [],
   "source": [
    "def chandta_tosh(s, c):\n",
    "    counter = 0\n",
    "    for this_char in s:\n",
    "        if this_char==c:\n",
    "            counter += 1\n",
    "    return counter"
   ]
  },
  {
   "cell_type": "code",
   "execution_count": 26,
   "id": "9fa8681c",
   "metadata": {},
   "outputs": [
    {
     "name": "stdout",
     "output_type": "stream",
     "text": [
      "2\n"
     ]
    }
   ],
   "source": [
    "my_str = \"this is a good example with my function\"\n",
    "print(chandta_tosh(my_str,'a'))"
   ]
  },
  {
   "cell_type": "code",
   "execution_count": 28,
   "id": "9a985988",
   "metadata": {},
   "outputs": [
    {
     "name": "stdout",
     "output_type": "stream",
     "text": [
      "mahdi\n",
      "mahdi\n",
      "mahdi\n",
      "mahdi\n",
      "mahdi\n"
     ]
    }
   ],
   "source": [
    "def print_times(name,n):\n",
    "    for i in range(n):\n",
    "        print(name)\n",
    "print_times(\"mahdi\", 5)"
   ]
  },
  {
   "cell_type": "code",
   "execution_count": 29,
   "id": "00b41560",
   "metadata": {},
   "outputs": [
    {
     "ename": "TypeError",
     "evalue": "print_times() missing 1 required positional argument: 'n'",
     "output_type": "error",
     "traceback": [
      "\u001b[0;31m---------------------------------------------------------------------------\u001b[0m",
      "\u001b[0;31mTypeError\u001b[0m                                 Traceback (most recent call last)",
      "\u001b[0;32m/var/folders/r9/sv2l0znj5xbg1cbcvnh09h4c0000gn/T/ipykernel_73336/3879866583.py\u001b[0m in \u001b[0;36m<module>\u001b[0;34m\u001b[0m\n\u001b[0;32m----> 1\u001b[0;31m \u001b[0mprint_times\u001b[0m\u001b[0;34m(\u001b[0m\u001b[0;34m\"mahdi\"\u001b[0m\u001b[0;34m)\u001b[0m\u001b[0;34m\u001b[0m\u001b[0;34m\u001b[0m\u001b[0m\n\u001b[0m",
      "\u001b[0;31mTypeError\u001b[0m: print_times() missing 1 required positional argument: 'n'"
     ]
    }
   ],
   "source": [
    "print_times(\"mahdi\")"
   ]
  },
  {
   "cell_type": "code",
   "execution_count": 30,
   "id": "be30d1a2",
   "metadata": {},
   "outputs": [
    {
     "name": "stdout",
     "output_type": "stream",
     "text": [
      "mahdi\n",
      "mahdi\n",
      "mahdi\n",
      "mahdi\n",
      "mahdi\n"
     ]
    }
   ],
   "source": [
    "def print_times(name,n=1):\n",
    "    for i in range(n):\n",
    "        print(name)\n",
    "print_times(\"mahdi\", 5)"
   ]
  },
  {
   "cell_type": "code",
   "execution_count": 32,
   "id": "43157d93",
   "metadata": {},
   "outputs": [
    {
     "name": "stdout",
     "output_type": "stream",
     "text": [
      "mahdi\n"
     ]
    }
   ],
   "source": [
    "def print_times(name,n=1): ## n=1 is default value for n\n",
    "    for i in range(n):\n",
    "        print(name)\n",
    "print_times(\"mahdi\")"
   ]
  },
  {
   "cell_type": "code",
   "execution_count": 38,
   "id": "11287f38",
   "metadata": {},
   "outputs": [],
   "source": [
    "def tavan(n,t=2): ## default value for t is 2\n",
    "    javab=1\n",
    "    for i in range(t):\n",
    "        javab *= n\n",
    "    return javab"
   ]
  },
  {
   "cell_type": "code",
   "execution_count": 39,
   "id": "d8bfb278",
   "metadata": {},
   "outputs": [
    {
     "data": {
      "text/plain": [
       "256"
      ]
     },
     "execution_count": 39,
     "metadata": {},
     "output_type": "execute_result"
    }
   ],
   "source": [
    "tavan(2,8)"
   ]
  },
  {
   "cell_type": "code",
   "execution_count": 40,
   "id": "cd4bbe20",
   "metadata": {},
   "outputs": [
    {
     "data": {
      "text/plain": [
       "9"
      ]
     },
     "execution_count": 40,
     "metadata": {},
     "output_type": "execute_result"
    }
   ],
   "source": [
    "tavan(3)"
   ]
  },
  {
   "cell_type": "code",
   "execution_count": 42,
   "id": "de236d31",
   "metadata": {},
   "outputs": [],
   "source": [
    "def is_even(n):\n",
    "    return n % 2 == 0"
   ]
  },
  {
   "cell_type": "code",
   "execution_count": 44,
   "id": "f2b2d25a",
   "metadata": {},
   "outputs": [
    {
     "name": "stdout",
     "output_type": "stream",
     "text": [
      "[1, 5, 11]\n"
     ]
    }
   ],
   "source": [
    "def get_odds(nums):\n",
    "    odds=[]\n",
    "    for num in nums:\n",
    "        if not is_even(num):\n",
    "            odds.append(num)\n",
    "    return odds\n",
    "my_list= [1, 2, 4, 5, 8, 11]\n",
    "print(get_odds(my_list))"
   ]
  },
  {
   "cell_type": "code",
   "execution_count": 41,
   "id": "78321d3f",
   "metadata": {},
   "outputs": [],
   "source": [
    "### tuple out python"
   ]
  },
  {
   "cell_type": "code",
   "execution_count": 45,
   "id": "bd71fef6",
   "metadata": {},
   "outputs": [
    {
     "name": "stdout",
     "output_type": "stream",
     "text": [
      "(3, [1, 5, 11])\n"
     ]
    }
   ],
   "source": [
    "def get_odds(nums):\n",
    "    count = 0\n",
    "    odds=[]\n",
    "    for num in nums:\n",
    "        if not is_even(num):\n",
    "            odds.append(num)\n",
    "            count += 1\n",
    "    return count, odds\n",
    "my_list= [1, 2, 4, 5, 8, 11]\n",
    "print(get_odds(my_list))"
   ]
  },
  {
   "cell_type": "code",
   "execution_count": 46,
   "id": "658e97a4",
   "metadata": {},
   "outputs": [],
   "source": [
    "odds_count , odds_list = get_odds(my_list)"
   ]
  },
  {
   "cell_type": "code",
   "execution_count": 47,
   "id": "7cc4ffc0",
   "metadata": {},
   "outputs": [
    {
     "data": {
      "text/plain": [
       "3"
      ]
     },
     "execution_count": 47,
     "metadata": {},
     "output_type": "execute_result"
    }
   ],
   "source": [
    "odds_count"
   ]
  },
  {
   "cell_type": "code",
   "execution_count": 48,
   "id": "f1b0a7a9",
   "metadata": {},
   "outputs": [
    {
     "data": {
      "text/plain": [
       "[1, 5, 11]"
      ]
     },
     "execution_count": 48,
     "metadata": {},
     "output_type": "execute_result"
    }
   ],
   "source": [
    "odds_list"
   ]
  },
  {
   "cell_type": "code",
   "execution_count": 49,
   "id": "18c11cfb",
   "metadata": {},
   "outputs": [],
   "source": [
    "def jam_zarb(n1,n2):\n",
    "    jam = n1 + n2\n",
    "    zarb = n1 * n2\n",
    "    return jam , zarb\n",
    "x, y = jam_zarb(3,4)"
   ]
  },
  {
   "cell_type": "code",
   "execution_count": 51,
   "id": "d5df0ab8",
   "metadata": {},
   "outputs": [
    {
     "name": "stdout",
     "output_type": "stream",
     "text": [
      "7->12\n"
     ]
    }
   ],
   "source": [
    "print(x,y,sep=\"->\")"
   ]
  },
  {
   "cell_type": "code",
   "execution_count": 52,
   "id": "af3467a7",
   "metadata": {},
   "outputs": [],
   "source": [
    "## total , average , and max"
   ]
  },
  {
   "cell_type": "code",
   "execution_count": 53,
   "id": "ee983340",
   "metadata": {},
   "outputs": [],
   "source": [
    "donation = {\n",
    "    \"mahdi\" : 20,\n",
    "    \"sara\": 900,\n",
    "    \"akbar\": 12,\n",
    "    \"hasan\": 9\n",
    "}"
   ]
  },
  {
   "cell_type": "code",
   "execution_count": 72,
   "id": "75786034",
   "metadata": {},
   "outputs": [],
   "source": [
    "def my_donation(my_di):\n",
    "    total = 0\n",
    "    max_person = ''\n",
    "    count = 0\n",
    "    max_donation = -1 ## placeholder\n",
    "    for name, values in my_di.items():\n",
    "        total += values\n",
    "        count += 1\n",
    "        if max_donation < values:\n",
    "            person = name\n",
    "            max_donation = values\n",
    "    average = total/ count \n",
    "    return average , total , person"
   ]
  },
  {
   "cell_type": "code",
   "execution_count": 73,
   "id": "5e781122",
   "metadata": {},
   "outputs": [],
   "source": [
    "avg, total, max_person = my_donation(donation)"
   ]
  },
  {
   "cell_type": "code",
   "execution_count": 75,
   "id": "c163e5b9",
   "metadata": {},
   "outputs": [
    {
     "name": "stdout",
     "output_type": "stream",
     "text": [
      "Total donation 941 , with average of 235.25 , thanks to sara\n"
     ]
    }
   ],
   "source": [
    "print(f\"Total donation {total} , with average of {avg} , thanks to {max_person}\")"
   ]
  },
  {
   "cell_type": "code",
   "execution_count": 76,
   "id": "69d93d07",
   "metadata": {},
   "outputs": [],
   "source": [
    "## hads adad"
   ]
  },
  {
   "cell_type": "code",
   "execution_count": 77,
   "id": "366c91c1",
   "metadata": {},
   "outputs": [],
   "source": [
    "from random import randint"
   ]
  },
  {
   "cell_type": "code",
   "execution_count": 90,
   "id": "79c52bbf",
   "metadata": {},
   "outputs": [],
   "source": [
    "computer = randint(1,20)"
   ]
  },
  {
   "cell_type": "code",
   "execution_count": 91,
   "id": "6773ced4",
   "metadata": {},
   "outputs": [],
   "source": [
    "def guess():\n",
    "    guess = int(input(\"please enter your guess : \"))\n",
    "    while guess != computer:\n",
    "        if guess > computer:\n",
    "            print(\"my number is smaller than yours. \")\n",
    "        elif computer > guess:\n",
    "            print(\"my number is bigger than yours. \")\n",
    "        guess = int(input(\"please enter your guess : \"))\n",
    "    print(f\"You are right and my number is {computer}\")\n",
    "\n",
    "\n"
   ]
  },
  {
   "cell_type": "code",
   "execution_count": 92,
   "id": "e311cd39",
   "metadata": {},
   "outputs": [
    {
     "name": "stdout",
     "output_type": "stream",
     "text": [
      "please enter your guess : 18\n",
      "my number is smaller than yours. \n",
      "please enter your guess : 12\n",
      "my number is bigger than yours. \n",
      "please enter your guess : 14\n",
      "my number is bigger than yours. \n",
      "please enter your guess : 15\n",
      "my number is bigger than yours. \n",
      "please enter your guess : 16\n",
      "my number is bigger than yours. \n",
      "please enter your guess : 17\n",
      "You are right and my number is 17\n"
     ]
    }
   ],
   "source": [
    "guess()"
   ]
  },
  {
   "cell_type": "code",
   "execution_count": 93,
   "id": "49f32a73",
   "metadata": {},
   "outputs": [],
   "source": [
    "## this example will be continued at the end"
   ]
  },
  {
   "cell_type": "code",
   "execution_count": 94,
   "id": "300698d3",
   "metadata": {},
   "outputs": [],
   "source": [
    "## exercise 1"
   ]
  },
  {
   "cell_type": "code",
   "execution_count": 95,
   "id": "8606a40b",
   "metadata": {},
   "outputs": [
    {
     "name": "stdout",
     "output_type": "stream",
     "text": [
      "True\n",
      "False\n"
     ]
    }
   ],
   "source": [
    "def is_positive(number):\n",
    "    if number >= 0:\n",
    "        return True\n",
    "    else :\n",
    "        return False\n",
    "num1 = 5\n",
    "num2 = -3\n",
    "print(is_positive(num1))\n",
    "print(is_positive(num2))"
   ]
  },
  {
   "cell_type": "code",
   "execution_count": 96,
   "id": "c4d0d8d3",
   "metadata": {},
   "outputs": [],
   "source": [
    "## exercise 2"
   ]
  },
  {
   "cell_type": "code",
   "execution_count": 98,
   "id": "c0df9887",
   "metadata": {},
   "outputs": [
    {
     "name": "stdout",
     "output_type": "stream",
     "text": [
      "25\n",
      "169\n"
     ]
    }
   ],
   "source": [
    "def sum_of_squares(a,b):\n",
    "    return a**2 + b**2\n",
    "print(sum_of_squares(3,4))\n",
    "print(sum_of_squares(5,12))"
   ]
  },
  {
   "cell_type": "code",
   "execution_count": 99,
   "id": "852d24c9",
   "metadata": {},
   "outputs": [],
   "source": [
    "## guess game - with loop ke edame bedim ya na\n",
    "## chand ta hads zadim ta barande beshim\n",
    "## behtarin kasi ke bazi karde ki bode ?"
   ]
  },
  {
   "cell_type": "code",
   "execution_count": 1,
   "id": "d65a7a81",
   "metadata": {},
   "outputs": [],
   "source": [
    "from random import randint"
   ]
  },
  {
   "cell_type": "code",
   "execution_count": 2,
   "id": "bc82fef6",
   "metadata": {},
   "outputs": [],
   "source": [
    "computer_number = randint(1,20)"
   ]
  },
  {
   "cell_type": "code",
   "execution_count": 14,
   "id": "677a027c",
   "metadata": {},
   "outputs": [
    {
     "name": "stdout",
     "output_type": "stream",
     "text": [
      "give me your number : 14\n",
      "Wrongggg , You go too high. \n",
      "give me your number : 12\n",
      "Wrongggg ,My number is bigger than yours. \n",
      "give me your number : 13\n",
      "you win in 3 tries\n",
      "Do you want to play more : (yes/no)yes\n",
      "give me your number : 20\n",
      "Wrongggg , You go too high. \n",
      "give me your number : 10\n",
      "Wrongggg ,My number is bigger than yours. \n",
      "give me your number : 15\n",
      "Wrongggg , You go too high. \n",
      "give me your number : 12\n",
      "you win in 4 tries\n",
      "Do you want to play more : (yes/no)yes\n",
      "give me your number : 10\n",
      "Wrongggg ,My number is bigger than yours. \n",
      "give me your number : 15\n",
      "Wrongggg , You go too high. \n",
      "give me your number : 13\n",
      "you win in 3 tries\n",
      "Do you want to play more : (yes/no)yes\n",
      "give me your number : 10\n",
      "Wrongggg ,My number is bigger than yours. \n",
      "give me your number : 15\n",
      "Wrongggg , You go too high. \n",
      "give me your number : 13\n",
      "Wrongggg ,My number is bigger than yours. \n",
      "give me your number : 14\n",
      "you win in 4 tries\n",
      "Do you want to play more : (yes/no)no\n"
     ]
    }
   ],
   "source": [
    "play_more = \"yes\"\n",
    "while play_more == \"yes\":\n",
    "    computer_number = randint(1,20)\n",
    "    user_number = -1\n",
    "    count = 0\n",
    "    while user_number != computer_number:\n",
    "        user_number = int(input(\"give me your number : \"))\n",
    "        count +=1\n",
    "        if user_number > computer_number:\n",
    "            print(\"Wrongggg , You go too high. \")\n",
    "        elif computer_number > user_number:\n",
    "            print(\"Wrongggg ,My number is bigger than yours. \")\n",
    "    print(f\"you win in {count} tries\")\n",
    "    play_more=input(\"Do you want to play more : (yes/no)\")"
   ]
  },
  {
   "cell_type": "code",
   "execution_count": null,
   "id": "ae7f291b",
   "metadata": {},
   "outputs": [],
   "source": []
  },
  {
   "cell_type": "code",
   "execution_count": null,
   "id": "95d4a0fd",
   "metadata": {},
   "outputs": [],
   "source": []
  },
  {
   "cell_type": "code",
   "execution_count": null,
   "id": "3f18ecae",
   "metadata": {},
   "outputs": [],
   "source": []
  },
  {
   "cell_type": "markdown",
   "id": "b6e46a27",
   "metadata": {},
   "source": [
    "## kwargs args"
   ]
  },
  {
   "cell_type": "code",
   "execution_count": 102,
   "id": "25be9258",
   "metadata": {},
   "outputs": [
    {
     "name": "stdout",
     "output_type": "stream",
     "text": [
      "(1, 2, 3)\n",
      "None\n",
      "(1, 2, 3, 4, 5)\n",
      "None\n"
     ]
    }
   ],
   "source": [
    " def zarb(*args):\n",
    "        print(args)\n",
    "b = zarb(1,2,3)\n",
    "print(b)\n",
    "a = zarb(1,2,3 , 4 ,5)\n",
    "print(a)"
   ]
  },
  {
   "cell_type": "code",
   "execution_count": 103,
   "id": "215d1f99",
   "metadata": {},
   "outputs": [
    {
     "name": "stdout",
     "output_type": "stream",
     "text": [
      "24\n"
     ]
    }
   ],
   "source": [
    "def zarb(*args): ## harchi behesh bedim migire dige\n",
    "    res = 1\n",
    "    for i in args:\n",
    "        res *= i\n",
    "    return res\n",
    "print(zarb(1,2,3,4))"
   ]
  },
  {
   "cell_type": "code",
   "execution_count": 104,
   "id": "c001f74f",
   "metadata": {},
   "outputs": [
    {
     "name": "stdout",
     "output_type": "stream",
     "text": [
      "{'tool': 8, 'arz': 20}\n"
     ]
    }
   ],
   "source": [
    "def masahat(**kwargs): ## harchi behesh bedim migire dige\n",
    "    print(kwargs)\n",
    "masahat(tool=8,arz=20)"
   ]
  },
  {
   "cell_type": "code",
   "execution_count": 105,
   "id": "46054cab",
   "metadata": {},
   "outputs": [],
   "source": [
    "## *args --> positional, tuple\n",
    "## **kwargs --> dictionary"
   ]
  },
  {
   "cell_type": "code",
   "execution_count": 106,
   "id": "a6e12d6d",
   "metadata": {},
   "outputs": [
    {
     "name": "stdout",
     "output_type": "stream",
     "text": [
      "78.5\n"
     ]
    }
   ],
   "source": [
    "def calculate_masahat(**kwargs):\n",
    "    if \"tool\" in kwargs:\n",
    "        return kwargs['tool'] * kwargs[\"arz\"]\n",
    "    if \"shoa\" in kwargs:\n",
    "        return kwargs[\"shoa\"] * 3.14 * kwargs[\"shoa\"]\n",
    "print(calculate_masahat(shoa=5))"
   ]
  },
  {
   "cell_type": "code",
   "execution_count": 107,
   "id": "d1e30ce2",
   "metadata": {},
   "outputs": [
    {
     "name": "stdout",
     "output_type": "stream",
     "text": [
      "12\n"
     ]
    }
   ],
   "source": [
    "print(calculate_masahat(tool=4,arz=3))"
   ]
  },
  {
   "cell_type": "code",
   "execution_count": 118,
   "id": "19a00b5c",
   "metadata": {},
   "outputs": [],
   "source": [
    "## exercise"
   ]
  },
  {
   "cell_type": "code",
   "execution_count": 116,
   "id": "d8f5e763",
   "metadata": {},
   "outputs": [
    {
     "name": "stdout",
     "output_type": "stream",
     "text": [
      "0\n"
     ]
    }
   ],
   "source": [
    "def sum_numbers(*args):\n",
    "    items_sum = 0\n",
    "    if len(args)==0:\n",
    "        return 0\n",
    "    else:\n",
    "        for i in args:\n",
    "            items_sum += i\n",
    "        return items_sum\n"
   ]
  },
  {
   "cell_type": "code",
   "execution_count": 117,
   "id": "5e812995",
   "metadata": {},
   "outputs": [
    {
     "name": "stdout",
     "output_type": "stream",
     "text": [
      "0\n",
      "30\n",
      "22\n"
     ]
    }
   ],
   "source": [
    "print(sum_numbers())\n",
    "print(sum_numbers(5, 10, 15))\n",
    "print(sum_numbers(7, 3, 2, 1, 9))"
   ]
  },
  {
   "cell_type": "code",
   "execution_count": 119,
   "id": "f7fcdf9f",
   "metadata": {},
   "outputs": [],
   "source": [
    "## exercise"
   ]
  },
  {
   "cell_type": "code",
   "execution_count": 120,
   "id": "6fc9b785",
   "metadata": {},
   "outputs": [],
   "source": [
    "def pick_evens(*args):\n",
    "    ret = []\n",
    "    for i in args:\n",
    "        if i % 2 == 0 :\n",
    "            ret.append(i)\n",
    "    return ret\n",
    "            "
   ]
  },
  {
   "cell_type": "code",
   "execution_count": 121,
   "id": "fe10b603",
   "metadata": {},
   "outputs": [
    {
     "name": "stdout",
     "output_type": "stream",
     "text": [
      "[2, 4, 6]\n"
     ]
    }
   ],
   "source": [
    "print(pick_evens(1,2,3,4,5,6))"
   ]
  },
  {
   "cell_type": "code",
   "execution_count": 122,
   "id": "9929372d",
   "metadata": {},
   "outputs": [
    {
     "name": "stdout",
     "output_type": "stream",
     "text": [
      "[]\n"
     ]
    }
   ],
   "source": [
    "print(pick_evens(7, 13, 19, 21))"
   ]
  },
  {
   "cell_type": "code",
   "execution_count": 123,
   "id": "82f19653",
   "metadata": {},
   "outputs": [],
   "source": [
    "## exercise"
   ]
  },
  {
   "cell_type": "code",
   "execution_count": 128,
   "id": "23c295cf",
   "metadata": {},
   "outputs": [],
   "source": [
    "def skyline(*args):\n",
    "    highest = -1\n",
    "    if len(args)==0 :\n",
    "        return 0\n",
    "    else :\n",
    "        for i in args:\n",
    "            if i > highest :\n",
    "                highest = i\n",
    "        return highest"
   ]
  },
  {
   "cell_type": "code",
   "execution_count": 129,
   "id": "86000466",
   "metadata": {},
   "outputs": [
    {
     "name": "stdout",
     "output_type": "stream",
     "text": [
      "15\n"
     ]
    }
   ],
   "source": [
    "print(skyline(3,7,15,2,9))"
   ]
  },
  {
   "cell_type": "code",
   "execution_count": 130,
   "id": "49a6d6a2",
   "metadata": {},
   "outputs": [
    {
     "name": "stdout",
     "output_type": "stream",
     "text": [
      "1\n"
     ]
    }
   ],
   "source": [
    "print(skyline(1,1,1,1))"
   ]
  },
  {
   "cell_type": "code",
   "execution_count": 131,
   "id": "2c87b454",
   "metadata": {},
   "outputs": [
    {
     "name": "stdout",
     "output_type": "stream",
     "text": [
      "0\n"
     ]
    }
   ],
   "source": [
    "print(skyline())"
   ]
  },
  {
   "cell_type": "code",
   "execution_count": 132,
   "id": "7e1c13f0",
   "metadata": {},
   "outputs": [],
   "source": [
    "## lambda"
   ]
  },
  {
   "cell_type": "code",
   "execution_count": 133,
   "id": "14b9c6ef",
   "metadata": {},
   "outputs": [],
   "source": [
    "## map --> function ro ro ajza list run mikone\n",
    "## filter --> ajza list ro hazv mikone"
   ]
  },
  {
   "cell_type": "code",
   "execution_count": 134,
   "id": "8aa68b61",
   "metadata": {},
   "outputs": [],
   "source": [
    "def tavan_2(x):\n",
    "    return x**2"
   ]
  },
  {
   "cell_type": "code",
   "execution_count": 136,
   "id": "142ba3b7",
   "metadata": {},
   "outputs": [
    {
     "name": "stdout",
     "output_type": "stream",
     "text": [
      "[9, 16, 4, 64]\n"
     ]
    }
   ],
   "source": [
    "a = [3, 4, 2, 8]\n",
    "for i in range(len(a)):\n",
    "    a[i]= tavan_2(a[i])\n",
    "print(a)"
   ]
  },
  {
   "cell_type": "code",
   "execution_count": 141,
   "id": "0fe19558",
   "metadata": {},
   "outputs": [
    {
     "name": "stdout",
     "output_type": "stream",
     "text": [
      "<map object at 0x7ff1d1eef730>\n"
     ]
    }
   ],
   "source": [
    "a = [3, 4, 2, 8]\n",
    "tavan_a=map(tavan_2,a)\n",
    "print(tavan_a)"
   ]
  },
  {
   "cell_type": "code",
   "execution_count": 139,
   "id": "d0524023",
   "metadata": {},
   "outputs": [
    {
     "name": "stdout",
     "output_type": "stream",
     "text": [
      "9\n",
      "16\n",
      "4\n",
      "64\n"
     ]
    }
   ],
   "source": [
    "for n in tavan_a:\n",
    "    print(n)"
   ]
  },
  {
   "cell_type": "code",
   "execution_count": 142,
   "id": "ed7f7fec",
   "metadata": {},
   "outputs": [
    {
     "name": "stdout",
     "output_type": "stream",
     "text": [
      "[9, 16, 4, 64]\n"
     ]
    }
   ],
   "source": [
    "print(list(tavan_a))"
   ]
  },
  {
   "cell_type": "code",
   "execution_count": 143,
   "id": "97971657",
   "metadata": {},
   "outputs": [],
   "source": [
    "## lambda\n",
    "a = [3, 4, 2, 8]\n",
    "tavan_a=map(lambda x:x**2,a)"
   ]
  },
  {
   "cell_type": "code",
   "execution_count": 144,
   "id": "f192afe1",
   "metadata": {},
   "outputs": [
    {
     "name": "stdout",
     "output_type": "stream",
     "text": [
      "[9, 16, 4, 64]\n"
     ]
    }
   ],
   "source": [
    "print(list(tavan_a))"
   ]
  },
  {
   "cell_type": "code",
   "execution_count": 145,
   "id": "ab007d2a",
   "metadata": {},
   "outputs": [],
   "source": [
    "## lambda Var:Var**2"
   ]
  },
  {
   "cell_type": "code",
   "execution_count": 146,
   "id": "dcdb8209",
   "metadata": {},
   "outputs": [
    {
     "name": "stdout",
     "output_type": "stream",
     "text": [
      "[6.2, 9.1, 2.9]\n"
     ]
    }
   ],
   "source": [
    "a=[5, 6.2, 9, 9.1, 8, 4, 2.9]\n",
    "def is_ashari(x):\n",
    "    return not x == int(x)\n",
    "print(list(filter(is_ashari,a)))"
   ]
  },
  {
   "cell_type": "code",
   "execution_count": 147,
   "id": "8211702d",
   "metadata": {},
   "outputs": [
    {
     "name": "stdout",
     "output_type": "stream",
     "text": [
      "[6.2, 9.1, 2.9]\n"
     ]
    }
   ],
   "source": [
    "a=[5, 6.2, 9, 9.1, 8, 4, 2.9]\n",
    "b = filter(lambda x:x!=int(x),a)\n",
    "print(list(b))"
   ]
  },
  {
   "cell_type": "code",
   "execution_count": 148,
   "id": "4872aaeb",
   "metadata": {},
   "outputs": [
    {
     "name": "stdout",
     "output_type": "stream",
     "text": [
      "12\n"
     ]
    }
   ],
   "source": [
    "multiply = lambda x, y: x * y\n",
    "print(multiply(3, 4))"
   ]
  },
  {
   "cell_type": "code",
   "execution_count": 149,
   "id": "db5a4c5b",
   "metadata": {},
   "outputs": [],
   "source": [
    "## scope legb : local / enclosing function / global / built-in"
   ]
  },
  {
   "cell_type": "code",
   "execution_count": 150,
   "id": "1a6f970b",
   "metadata": {},
   "outputs": [
    {
     "name": "stdout",
     "output_type": "stream",
     "text": [
      "first, name is mahdi\n",
      "in function name is hassan\n",
      "second, name is mahdi\n"
     ]
    }
   ],
   "source": [
    "def hello():\n",
    "    name = \"hassan\"\n",
    "    print(f\"in function name is {name}\")\n",
    "name = \"mahdi\"\n",
    "print(f\"first, name is {name}\")\n",
    "hello()\n",
    "print(f\"second, name is {name}\")"
   ]
  },
  {
   "cell_type": "code",
   "execution_count": 151,
   "id": "c24640a3",
   "metadata": {},
   "outputs": [
    {
     "name": "stdout",
     "output_type": "stream",
     "text": [
      "first, name is mahdi\n",
      "in function name is mahdi\n",
      "second, name is mahdi\n"
     ]
    }
   ],
   "source": [
    "def hello():\n",
    "    print(f\"in function name is {name}\")## az meghdar global use mikone\n",
    "name = \"mahdi\"\n",
    "print(f\"first, name is {name}\")\n",
    "hello()\n",
    "print(f\"second, name is {name}\")"
   ]
  },
  {
   "cell_type": "code",
   "execution_count": 153,
   "id": "a541863b",
   "metadata": {},
   "outputs": [
    {
     "name": "stdout",
     "output_type": "stream",
     "text": [
      "first, name is mahdi\n",
      "in function name is hassan\n",
      "second, name is hassan\n"
     ]
    }
   ],
   "source": [
    "def hello():\n",
    "    global name ## name ro kolan taghir mide\n",
    "    name = \"hassan\"\n",
    "    print(f\"in function name is {name}\")\n",
    "name = \"mahdi\"\n",
    "print(f\"first, name is {name}\")\n",
    "hello()\n",
    "print(f\"second, name is {name}\")"
   ]
  },
  {
   "cell_type": "code",
   "execution_count": null,
   "id": "d9784ee8",
   "metadata": {},
   "outputs": [],
   "source": []
  }
 ],
 "metadata": {
  "kernelspec": {
   "display_name": "Python 3 (ipykernel)",
   "language": "python",
   "name": "python3"
  },
  "language_info": {
   "codemirror_mode": {
    "name": "ipython",
    "version": 3
   },
   "file_extension": ".py",
   "mimetype": "text/x-python",
   "name": "python",
   "nbconvert_exporter": "python",
   "pygments_lexer": "ipython3",
   "version": "3.12.7"
  }
 },
 "nbformat": 4,
 "nbformat_minor": 5
}
